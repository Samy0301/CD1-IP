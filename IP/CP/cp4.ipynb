{
 "cells": [
  {
   "cell_type": "markdown",
   "id": "16fee389ef103a3f",
   "metadata": {},
   "source": [
    "Genere una lista con los impares de un intervalo\n",
    "\n",
    "```\n",
    "Ejemplo\n",
    "> 7\n",
    "> 10\n",
    "Salida\n",
    "[7, 8, 9, 10]\n",
    "```"
   ]
  },
  {
   "cell_type": "code",
   "execution_count": 2,
   "id": "64caa8b36c025930",
   "metadata": {},
   "outputs": [
    {
     "name": "stdout",
     "output_type": "stream",
     "text": [
      "[3, 5, 7, 9, 11]\n"
     ]
    }
   ],
   "source": [
    "begin = int(input(\"write the min\"))\n",
    "end = int(input(\"write the max\"))\n",
    "orden_lista = [x for x in range(begin, end + 1) if x % 2 != 0]\n",
    "print(orden_lista)"
   ]
  },
  {
   "cell_type": "markdown",
   "id": "8597c4abd4233b8a",
   "metadata": {},
   "source": [
    "Vaya leyendo con input una secuencia de enteros hasta que teclee solo cambio de linea. Cree una lista con todos los valores enteros leídos\n",
    "\n",
    "```\n",
    "Ejemplo\n",
    "> 7\n",
    "> 10\n",
    "> 3\n",
    ">\n",
    "Salida\n",
    "[7, 10, 3]\n",
    "```"
   ]
  },
  {
   "cell_type": "code",
   "execution_count": null,
   "id": "4c1426ea8fd0441c",
   "metadata": {},
   "outputs": [
    {
     "name": "stdout",
     "output_type": "stream",
     "text": [
      "[2, 3]\n"
     ]
    }
   ],
   "source": [
    "lista = []\n",
    "while True:\n",
    "    num = input(\"write a number\")\n",
    "    if num == \"\":\n",
    "        break\n",
    "    num = float(num)\n",
    "    if num.is_integer():  # la funcion isdigit() da true si el valor es int o de manera n.0\n",
    "        lista.append(int(num))\n",
    "print(lista)"
   ]
  },
  {
   "cell_type": "markdown",
   "id": "63370ae12a7a062b",
   "metadata": {},
   "source": [
    "Lea una secuencia de enteros donde el primer valor que se lea es la cantidad de enteros que se escribirá a continuación, escriba el resultado de la suma y del producto de todos ellos\n",
    "\n",
    "```\n",
    "Ejemplo\n",
    "> 3\n",
    "> 10\n",
    "> 5\n",
    "> 1\n",
    "Salida\n",
    "\"Suma es 16\"\n",
    "\"Producto es 50\"\n",
    "```"
   ]
  },
  {
   "cell_type": "code",
   "execution_count": null,
   "id": "ea2ec3eb0c8b35c1",
   "metadata": {},
   "outputs": [
    {
     "name": "stdout",
     "output_type": "stream",
     "text": [
      "6 6\n",
      "6 6\n"
     ]
    }
   ],
   "source": [
    "num = int(input(\"write a number\"))\n",
    "lista = [int(input(\"write list numbers\")) for _ in range(num)]\n",
    "sum = 0\n",
    "mul = 1\n",
    "for c in lista:\n",
    "    sum += c\n",
    "    mul *= c\n",
    "print(sum, mul)\n",
    "\n",
    "# sin list_comprehencion\n",
    "lista2 = []\n",
    "suma = 0\n",
    "multi = 1\n",
    "for c in range(num):\n",
    "    a = int(input())\n",
    "    lista2.append(a)\n",
    "    suma += a\n",
    "    multi *= a\n",
    "print(suma, multi)"
   ]
  },
  {
   "cell_type": "markdown",
   "id": "b59e4055ab23c880",
   "metadata": {
    "collapsed": true
   },
   "source": [
    "Dada la lista de enteros, escriba un programa que la transforme para que los elementos se conviertan en sus cuadrados.\n",
    "\n",
    "```\n",
    "Ejemplo\n",
    "my_list = [1, 2, 3]\n",
    "Salida\n",
    "[1, 4, 9]\n",
    "```"
   ]
  },
  {
   "cell_type": "code",
   "execution_count": null,
   "id": "429152c74ede4ba3",
   "metadata": {},
   "outputs": [
    {
     "name": "stdout",
     "output_type": "stream",
     "text": [
      "[0, 1, 4, 9, 16, 25, 36, 49, 64, 81, 100, 121, 144, 169, 196, 225, 256, 289, 324, 361, 400, 441, 484, 529, 576, 625, 676, 729, 784, 841, 900, 961, 1024, 1089, 1156, 1225, 1296, 1369, 1444, 1521, 1600, 1681, 1764, 1849, 1936, 2025, 2116, 2209, 2304, 2401, 2500, 2601, 2704, 2809, 2916, 3025, 3136, 3249, 3364, 3481, 3600, 3721, 3844, 3969, 4096, 4225, 4356, 4489, 4624, 4761, 4900, 5041, 5184, 5329, 5476, 5625, 5776, 5929, 6084, 6241, 6400, 6561, 6724, 6889, 7056, 7225, 7396, 7569, 7744, 7921, 8100, 8281, 8464, 8649, 8836, 9025, 9216, 9409, 9604, 9801, 10000, 10201, 10404, 10609, 10816, 11025, 11236, 11449, 11664, 11881, 12100, 12321, 12544, 12769, 12996, 13225, 13456, 13689, 13924, 14161, 14400, 14641, 14884, 15129, 15376, 15625, 15876, 16129, 16384, 16641, 16900, 17161, 17424, 17689, 17956, 18225, 18496, 18769, 19044, 19321, 19600, 19881, 20164, 20449, 20736, 21025, 21316, 21609, 21904, 22201, 22500, 22801, 23104, 23409, 23716, 24025, 24336, 24649, 24964, 25281, 25600, 25921, 26244, 26569, 26896, 27225, 27556, 27889, 28224, 28561, 28900, 29241, 29584, 29929, 30276, 30625, 30976, 31329, 31684, 32041, 32400, 32761, 33124, 33489, 33856, 34225, 34596, 34969, 35344, 35721, 36100, 36481, 36864, 37249, 37636, 38025, 38416, 38809, 39204, 39601]\n",
      "[0, 1, 16, 81, 256, 625, 1296, 2401, 4096, 6561, 10000, 14641, 20736, 28561, 38416, 50625, 65536, 83521, 104976, 130321, 160000, 194481, 234256, 279841, 331776, 390625, 456976, 531441, 614656, 707281, 810000, 923521, 1048576, 1185921, 1336336, 1500625, 1679616, 1874161, 2085136, 2313441, 2560000, 2825761, 3111696, 3418801, 3748096, 4100625, 4477456, 4879681, 5308416, 5764801, 6250000, 6765201, 7311616, 7890481, 8503056, 9150625, 9834496, 10556001, 11316496, 12117361, 12960000, 13845841, 14776336, 15752961, 16777216, 17850625, 18974736, 20151121, 21381376, 22667121, 24010000, 25411681, 26873856, 28398241, 29986576, 31640625, 33362176, 35153041, 37015056, 38950081, 40960000, 43046721, 45212176, 47458321, 49787136, 52200625, 54700816, 57289761, 59969536, 62742241, 65610000, 68574961, 71639296, 74805201, 78074896, 81450625, 84934656, 88529281, 92236816, 96059601, 100000000, 104060401, 108243216, 112550881, 116985856, 121550625, 126247696, 131079601, 136048896, 141158161, 146410000, 151807041, 157351936, 163047361, 168896016, 174900625, 181063936, 187388721, 193877776, 200533921, 207360000, 214358881, 221533456, 228886641, 236421376, 244140625, 252047376, 260144641, 268435456, 276922881, 285610000, 294499921, 303595776, 312900721, 322417936, 332150625, 342102016, 352275361, 362673936, 373301041, 384160000, 395254161, 406586896, 418161601, 429981696, 442050625, 454371856, 466948881, 479785216, 492884401, 506250000, 519885601, 533794816, 547981281, 562448656, 577200625, 592240896, 607573201, 623201296, 639128961, 655360000, 671898241, 688747536, 705911761, 723394816, 741200625, 759333136, 777796321, 796594176, 815730721, 835210000, 855036081, 875213056, 895745041, 916636176, 937890625, 959512576, 981506241, 1003875856, 1026625681, 1049760000, 1073283121, 1097199376, 1121513121, 1146228736, 1171350625, 1196883216, 1222830961, 1249198336, 1275989841, 1303210000, 1330863361, 1358954496, 1387488001, 1416468496, 1445900625, 1475789056, 1506138481, 1536953616, 1568239201]\n"
     ]
    }
   ],
   "source": [
    "my_list = [i for i in range(200)]\n",
    "\n",
    "for c in range(len(my_list)):\n",
    "    my_list[c] = my_list[c] ** 2\n",
    "print(my_list)\n",
    "\n",
    "# con list_comprehencion\n",
    "my_list = [x**2 for x in my_list] \n",
    "print(my_list) # salen los cuadrados de los cuadrados porque va sobre la lista que ya se afecto"
   ]
  },
  {
   "cell_type": "markdown",
   "id": "e0f0bf94c9623892",
   "metadata": {},
   "source": [
    "A partir de una lista de string genere una lista con aquellos string que tengan longitud mayor que un valor N\n",
    "\n",
    "```\n",
    "Ejemplo\n",
    "Entrada\n",
    "> 4\n",
    "Salida\n",
    "[\"Luis\"]\n",
    "```"
   ]
  },
  {
   "cell_type": "code",
   "execution_count": null,
   "id": "8c67a4c4c5bab2d7",
   "metadata": {},
   "outputs": [
    {
     "name": "stdout",
     "output_type": "stream",
     "text": [
      "['Alejandro', 'Camila', 'Valeria', 'Carlos', 'Sofía', 'Javier', 'Lucía', 'Andrés', 'Mariana']\n",
      "['Alejandro', 'Camila', 'Valeria', 'Carlos', 'Sofía', 'Javier', 'Lucía', 'Andrés', 'Mariana']\n"
     ]
    }
   ],
   "source": [
    "str_list = [\n",
    "    \"Alejandro\",\n",
    "    \"Camila\",\n",
    "    \"Luis\",\n",
    "    \"Valeria\",\n",
    "    \"Carlos\",\n",
    "    \"Sofía\",\n",
    "    \"Javier\",\n",
    "    \"Lucía\",\n",
    "    \"Andrés\",\n",
    "    \"Mariana\"\n",
    "]\n",
    "\n",
    "N = int(input(\"write N\"))\n",
    "str_lista = [x for x in str_list if len(x) > N] \n",
    "print(str_lista)\n",
    "\n",
    "# sin list_comprehencion\n",
    "lista = []\n",
    "for c in str_list:\n",
    "    if len(c) > N:\n",
    "        lista.append(c)\n",
    "print(lista)"
   ]
  },
  {
   "cell_type": "markdown",
   "id": "c1eeac5ee291a4f0",
   "metadata": {},
   "source": [
    "Dadas tres listas que contienen texto, escriba un programa que concatene los elementos en las mismas posiciones de las tres listas\n",
    "\n",
    "```\n",
    "Ejemplo\n",
    "list1 = ['0', '1', '2', '3', '4']\n",
    "list2 = ['red', 'green', 'black', 'blue', 'white']\n",
    "list3 = ['100', '200', '300', '400', '500']\n",
    "Salida\n",
    "['0red100', '1green200', '2black300', '3blue400', '4white500']\n",
    "```"
   ]
  },
  {
   "cell_type": "code",
   "execution_count": null,
   "id": "6ce4942a985f96d6",
   "metadata": {},
   "outputs": [
    {
     "name": "stdout",
     "output_type": "stream",
     "text": [
      "['0red100', '1green200', '2black300', '3blue400', '4white500']\n",
      "['0red100', '1green200', '2black300', '3blue400', '4white500']\n"
     ]
    }
   ],
   "source": [
    "list1 = ['0', '1', '2', '3', '4']\n",
    "list2 = ['red', 'green', 'black', 'blue', 'white']\n",
    "list3 = ['100', '200', '300', '400', '500']\n",
    "\n",
    "lista = []\n",
    "for c in range(len(list1)):\n",
    "    lista.append(list1[c] + list2[c] + list3[c])\n",
    "print(lista)"
   ]
  },
  {
   "cell_type": "markdown",
   "id": "6535136ee1a95265",
   "metadata": {},
   "source": [
    "Dada una lista, escriba un programa que desplace a la derecha o a la izquierda una cantidad n de veces. La lista se les proporciona, pero deben tomar de la consola la dirección y la cantidad de rotaciones.\n",
    "\n",
    "```\n",
    "Ejemplo\n",
    "\n",
    "Entrada\n",
    "> \"left\"\n",
    "> 2\n",
    "Salida\n",
    "[3, 4, 5, 6, 7, 8, 9, 10, 1, 2]\n",
    "\n",
    "Entrada\n",
    "> \"right\"\n",
    "> 4\n",
    "Salida\n",
    "[7, 8, 9, 10, 1, 2, 3, 4, 5, 6]\n",
    "```"
   ]
  },
  {
   "cell_type": "code",
   "execution_count": 12,
   "id": "c6b7a0e87b64722f",
   "metadata": {},
   "outputs": [
    {
     "name": "stdout",
     "output_type": "stream",
     "text": [
      "[7, 8, 9, 10, 1, 2, 3, 4, 5, 6]\n"
     ]
    }
   ],
   "source": [
    "list = [i for i in range(1, 11)]\n",
    "\n",
    "dir = input()\n",
    "n = int(input())\n",
    "lista = [0] * len(list)\n",
    "for c in range(len(list)):\n",
    "    if dir == \"left\":\n",
    "        lista[(c-n)%len(list)] = list[c]\n",
    "    elif dir == \"right\":\n",
    "        lista[(c+n)%len(list)] = list[c]\n",
    "print(lista)"
   ]
  },
  {
   "cell_type": "markdown",
   "id": "6e8982b789b6c2a0",
   "metadata": {},
   "source": [
    "A partir de una lista de enteros, que puede tener valores repetidos, genere una lista con los mismos valores pero sin repetidos\n",
    "\n",
    "```\n",
    "Ejemplo\n",
    "[3,8,3,5,5,7,3]\n",
    "Salida\n",
    "[3,8,5,7]\n",
    "```"
   ]
  },
  {
   "cell_type": "code",
   "execution_count": 17,
   "id": "4247478aa62daa4d",
   "metadata": {},
   "outputs": [
    {
     "name": "stdout",
     "output_type": "stream",
     "text": [
      "[3, 8, 5, 7]\n"
     ]
    }
   ],
   "source": [
    "int_list = [3,8,3,5,5,7,3]\n",
    "\n",
    "lista = []\n",
    "for c in int_list:\n",
    "    if c not in lista:\n",
    "        lista.append(c)\n",
    "print(lista)"
   ]
  }
 ],
 "metadata": {
  "kernelspec": {
   "display_name": ".venv",
   "language": "python",
   "name": "python3"
  },
  "language_info": {
   "codemirror_mode": {
    "name": "ipython",
    "version": 3
   },
   "file_extension": ".py",
   "mimetype": "text/x-python",
   "name": "python",
   "nbconvert_exporter": "python",
   "pygments_lexer": "ipython3",
   "version": "3.11.9"
  }
 },
 "nbformat": 4,
 "nbformat_minor": 5
}
