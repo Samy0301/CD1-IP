{
 "cells": [
  {
   "cell_type": "markdown",
   "id": "98b12218",
   "metadata": {},
   "source": [
    "Escriba un diccionario en que las llaves sean string (el nombre de un contacto) y los valores sean a su vez diccionarios con todos los datos del contacto"
   ]
  },
  {
   "cell_type": "code",
   "execution_count": 6,
   "id": "5223e54c",
   "metadata": {},
   "outputs": [],
   "source": [
    "contactos = { \n",
    "        \"juan\": {\n",
    "                \"numero\": 55053344,\n",
    "                \"municipio\": \"Vedado\",\n",
    "                \"cumpleaños\": \"1/4\"\n",
    "                }, \n",
    "        \"maría\": {\n",
    "                \"numero\": 78332526,\n",
    "                \"municipio\": \"Playa\",\n",
    "                \"cumpleaños\": \"3/5\"\n",
    "                }, \n",
    "        \"pedro\": {\n",
    "                \"numero\": 79326573,\n",
    "                \"municipio\": \"10 de Octubre\",\n",
    "                \"cumpleaños\": \"3/11\"\n",
    "                }\n",
    "        }\n"
   ]
  },
  {
   "cell_type": "markdown",
   "id": "9887f2ad",
   "metadata": {},
   "source": [
    "Escriba un código que dadas dos listas `llaves` y `valores` cree un diccionario tomando como llave un valor de la primera lista (`llaves`) y como valor asociado a la llave el valor en la posición correspondiente en la segunda lista (`valores`).\n",
    "\n",
    "     Si la lista `llaves` tuviese el valor `[\"chocolate\", \"fresa\", \"vainilla\"] `y la lista `valores` fuera `[\"preferido\", \"paso\", \"si no hay otro\"]` debemos obtener el diccionario\n",
    "\n",
    "    `{\"chocolate\":\"preferido\", \"fresa\":\"paso\", \"vainilla\":\"si no hay otro\"}`\n",
    "\n",
    "     Si la `llaves` tuviese mas elementos que la lista `valores` entonces se le debe asociar el valor `None` a las llaves por exceso. Por ejemplo si fuese `[\"chocolate\", \"fresa\", \"vainilla\", \"almendra\"]` y `[\"preferido\", \"paso\", \"si no hay otro\"] `el resultado debería ser entonces\n",
    "\n",
    "     `{\"chocolate\":\"preferido\", \"fresa\":\"paso\", \"vainilla\":\"sino hay otro\", \"almendra\":None}`\n",
    "\n",
    "      Pero si hay más valores que llaves forme el diccionario hasta donde lleguen las llaves y escriba algún mensaje advirtiendo lo sucedido."
   ]
  },
  {
   "cell_type": "code",
   "execution_count": 5,
   "id": "6a28088f",
   "metadata": {},
   "outputs": [
    {
     "name": "stdout",
     "output_type": "stream",
     "text": [
      "chocolate, preferido\n",
      "fresa, paso\n",
      "vainilla, si no hay otro\n"
     ]
    }
   ],
   "source": [
    "llaves = [\"chocolate\", \"fresa\", \"vainilla\"]\n",
    "valores = [\"preferido\", \"paso\", \"si no hay otro\"]\n",
    "\n",
    "dic = {}\n",
    "mayor = 0\n",
    "if len(llaves) > len(valores):\n",
    "    mayor = len(llaves)\n",
    "else:\n",
    "    mayor = len(valores)\n",
    "\n",
    "for c in range(mayor):\n",
    "    if c > len(valores) - 1:\n",
    "        dic[llaves[c]] = None\n",
    "    elif c > len(llaves) - 1:\n",
    "        break\n",
    "    else:\n",
    "        dic[llaves[c]] = valores[c]\n",
    "\n",
    "for key, value in dic.items():\n",
    "    print(f\"{key}, {value}\")\n"
   ]
  },
  {
   "cell_type": "markdown",
   "id": "73b36730",
   "metadata": {},
   "source": [
    "Decida y programe qué hacer si en la lista `llaves` se repitiese alguna llave"
   ]
  },
  {
   "cell_type": "code",
   "execution_count": 4,
   "id": "cd1dc5d4",
   "metadata": {},
   "outputs": [
    {
     "name": "stdout",
     "output_type": "stream",
     "text": [
      "chocolate, preferido\n",
      "vainilla, si no hay otro\n"
     ]
    }
   ],
   "source": [
    "llaves = [\"chocolate\", \"chocolate\", \"vainilla\"]\n",
    "valores = [\"preferido\", \"paso\", \"si no hay otro\"]\n",
    "\n",
    "dic = {}\n",
    "mayor = 0\n",
    "if len(llaves) > len(valores):\n",
    "    mayor = len(llaves)\n",
    "else:\n",
    "    mayor = len(valores)\n",
    "for c in range(mayor):\n",
    "    if c > len(llaves) - 1:\n",
    "        break\n",
    "    elif c > len(valores) - 1:\n",
    "        if llaves[c] not in dic.keys():\n",
    "            dic[llaves[c]] = None\n",
    "    else:\n",
    "        if llaves[c] not in dic.keys():\n",
    "            dic[llaves[c]] = valores[c]\n",
    "\n",
    "for key, value in dic.items():\n",
    "    print(f\"{key}, {value}\")"
   ]
  },
  {
   "cell_type": "markdown",
   "id": "bdeabf74",
   "metadata": {},
   "source": [
    "Dada una lista de diccionarios escriba un código que produzca una lista con iguales diccionarios pero ordenadas por el valor de una determinada llave"
   ]
  },
  {
   "cell_type": "code",
   "execution_count": null,
   "id": "a21c36cb",
   "metadata": {},
   "outputs": [
    {
     "name": "stdout",
     "output_type": "stream",
     "text": [
      "[[{'titulo': 'Cadena perpetua', 'pais': ['Estados Unidos'], 'fecha': 1994, 'director': 'Frank Darabont', 'genero': ['Drama'], 'actores_principales': ['Tim Robbins', 'Morgan Freeman', 'Bob Gunton'], 'imdb': 9.3}, {'titulo': 'El padrino I', 'pais': ['Estados Unidos'], 'fecha': 1972, 'director': 'Francis Ford Coppola', 'genero': ['Crimen', 'Drama'], 'actores_principales': ['Marlon Brando', 'Al Pacino', 'James Caan'], 'imdb': 9.2}, {'titulo': 'La lista de Schindler', 'pais': ['Estados Unidos'], 'fecha': 1993, 'director': 'Steven Spielberg', 'genero': ['Biografia', 'Drama', 'Historia'], 'actores_principales': ['Liam Neeson', 'Ralph Fiennes', 'Ben Kingsley'], 'imdb': 9.0}]]\n"
     ]
    }
   ],
   "source": [
    "lista = [\n",
    "    {\n",
    "        \"titulo\": \"El padrino I\",\n",
    "        \"pais\": [\"Estados Unidos\"],\n",
    "        \"fecha\": 1972,\n",
    "        \"director\": \"Francis Ford Coppola\",\n",
    "        \"genero\": [\"Crimen\", \"Drama\"],\n",
    "        \"actores_principales\": [\"Marlon Brando\", \"Al Pacino\", \"James Caan\"],\n",
    "        \"imdb\": 9.2\n",
    "    },\n",
    "    {\n",
    "        \"titulo\": \"Cadena perpetua\",\n",
    "        \"pais\": [\"Estados Unidos\"],\n",
    "        \"fecha\": 1994,\n",
    "        \"director\": \"Frank Darabont\",\n",
    "        \"genero\": [\"Drama\"],\n",
    "        \"actores_principales\": [\"Tim Robbins\", \"Morgan Freeman\", \"Bob Gunton\"],\n",
    "        \"imdb\": 9.3\n",
    "    },\n",
    "    {\n",
    "        \"titulo\": \"La lista de Schindler\",\n",
    "        \"pais\": [\"Estados Unidos\"],\n",
    "        \"fecha\": 1993,\n",
    "        \"director\": \"Steven Spielberg\",\n",
    "        \"genero\": [\"Biografia\", \"Drama\", \"Historia\"],\n",
    "        \"actores_principales\": [\"Liam Neeson\", \"Ralph Fiennes\", \"Ben Kingsley\"],\n",
    "        \"imdb\": 9.0\n",
    "    }\n",
    "]   \n",
    "\n",
    "orden = [sorted(lista, key=lambda x: x[\"titulo\"])]\n",
    "print(orden)"
   ]
  },
  {
   "cell_type": "markdown",
   "id": "d8700d8c",
   "metadata": {},
   "source": [
    "Para una variable `parrafo` cuyo valor es texto (string) produzca un diccionario que cuente la cantidad de veces que se usa cada vocal"
   ]
  },
  {
   "cell_type": "code",
   "execution_count": 2,
   "id": "1b8c6105",
   "metadata": {},
   "outputs": [
    {
     "name": "stdout",
     "output_type": "stream",
     "text": [
      "a, 39\n",
      "e, 56\n",
      "i, 15\n",
      "o, 39\n",
      "u, 22\n"
     ]
    }
   ],
   "source": [
    "parrafo = \"No hay restricción sobre cuál puede ser el tipo del valor que se use como _llave_ (key) y el tipo del _valor_\" \\\n",
    "\" (value) asociado a la llave. Es usual que se use como llave una cadena (string) porque nos ayuda a identificar un rasgo, \" \\\n",
    "\"una caraterística, una cualidad, como en el ejemplo anterior. Note en este ejemplo como el valor asociado a la llave \" \\\n",
    "\"`teléfonos` es una _lista de enteros_ con números de teléfono porque un contacto puede tener más de un teléfono\" \\\n",
    "\n",
    "parrafo = parrafo.lower()\n",
    "dic = {\n",
    "    \"a\": 0,\n",
    "    \"á\": 0,\n",
    "    \"e\": 0,\n",
    "    \"é\": 0,\n",
    "    \"i\": 0,\n",
    "    \"í\": 0,\n",
    "    \"o\": 0,\n",
    "    \"ó\": 0,\n",
    "    \"u\": 0,\n",
    "    \"ú\": 0\n",
    "}\n",
    "for c in parrafo:\n",
    "    if c in dic.keys():\n",
    "        dic[c] += 1\n",
    "\n",
    "Dic = {\n",
    "    \"a\": dic[\"a\"] + dic[\"á\"],\n",
    "    \"e\": dic[\"e\"] + dic[\"é\"],\n",
    "    \"i\": dic[\"i\"] + dic[\"í\"],\n",
    "    \"o\": dic[\"o\"] + dic[\"ó\"],\n",
    "    \"u\": dic[\"u\"] + dic[\"ú\"]\n",
    "}\n",
    "for key, value in Dic.items():\n",
    "    print(f\"{key}, {value}\")"
   ]
  },
  {
   "cell_type": "code",
   "execution_count": 1,
   "id": "33e24915",
   "metadata": {},
   "outputs": [
    {
     "name": "stdout",
     "output_type": "stream",
     "text": [
      "a, 39\n",
      "e, 56\n",
      "i, 15\n",
      "o, 39\n",
      "u, 22\n"
     ]
    }
   ],
   "source": [
    "import unicodedata\n",
    "parrafo = \"No hay restricción sobre cuál puede ser el tipo del valor que se use como _llave_ (key) y el tipo del _valor_\" \\\n",
    "\" (value) asociado a la llave. Es usual que se use como llave una cadena (string) porque nos ayuda a identificar un rasgo, \" \\\n",
    "\"una caraterística, una cualidad, como en el ejemplo anterior. Note en este ejemplo como el valor asociado a la llave \" \\\n",
    "\"`teléfonos` es una _lista de enteros_ con números de teléfono porque un contacto puede tener más de un teléfono\" \\\n",
    "\n",
    "parrafo = ''.join(c for c in unicodedata.normalize('NFD', parrafo) if unicodedata.category(c) != 'Mn').lower()\n",
    "dic = {\n",
    "    \"a\": 0,\n",
    "    \"e\": 0,\n",
    "    \"i\": 0,\n",
    "    \"o\": 0,\n",
    "    \"u\": 0,\n",
    "}\n",
    "for c in parrafo:\n",
    "    if c in dic.keys():\n",
    "        dic[c] += 1\n",
    "\n",
    "for key, value in dic.items():\n",
    "    print(f\"{key}, {value}\")"
   ]
  }
 ],
 "metadata": {
  "kernelspec": {
   "display_name": "Python 3",
   "language": "python",
   "name": "python3"
  },
  "language_info": {
   "codemirror_mode": {
    "name": "ipython",
    "version": 3
   },
   "file_extension": ".py",
   "mimetype": "text/x-python",
   "name": "python",
   "nbconvert_exporter": "python",
   "pygments_lexer": "ipython3",
   "version": "3.14.0"
  }
 },
 "nbformat": 4,
 "nbformat_minor": 5
}
