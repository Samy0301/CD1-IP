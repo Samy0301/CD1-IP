{
 "cells": [
  {
   "cell_type": "markdown",
   "id": "024a0612",
   "metadata": {},
   "source": [
    "1. Escriba una función `mcd` que dados dos números devuelve el máximo común divisor de ambos"
   ]
  },
  {
   "cell_type": "code",
   "execution_count": 3,
   "id": "1c716ead",
   "metadata": {},
   "outputs": [
    {
     "name": "stdout",
     "output_type": "stream",
     "text": [
      "2\n"
     ]
    }
   ],
   "source": [
    "def mcd(n, m):\n",
    "    n, m = abs(n), abs(m)\n",
    "    while m != 0:\n",
    "        n, m = m, n % m\n",
    "    return n\n",
    "\n",
    "print(mcd(4,-78))"
   ]
  },
  {
   "cell_type": "markdown",
   "id": "15225a36",
   "metadata": {},
   "source": [
    "2. Escriba una función `ordenados` que determine si los valores de una lista están ordenados"
   ]
  },
  {
   "cell_type": "code",
   "execution_count": null,
   "id": "e0ab77e7",
   "metadata": {},
   "outputs": [
    {
     "name": "stdout",
     "output_type": "stream",
     "text": [
      "True\n"
     ]
    }
   ],
   "source": [
    "def ordenados(lst):\n",
    "    return lst == sorted(lst)\n",
    "\n",
    "l=[2,3,4,5]\n",
    "print(ordenados(l))\n"
   ]
  },
  {
   "cell_type": "markdown",
   "id": "bffcb7cd",
   "metadata": {},
   "source": [
    "3. Escriba una función que de una lista que sea la `union` de dos listas (sin repertir elementos)"
   ]
  },
  {
   "cell_type": "code",
   "execution_count": null,
   "id": "9164d9ab",
   "metadata": {},
   "outputs": [
    {
     "name": "stdout",
     "output_type": "stream",
     "text": [
      "[1, 2, 3, 4, 5]\n"
     ]
    }
   ],
   "source": [
    "def union(lst1, lst2):\n",
    "    lst = []\n",
    "    for c in lst1 + lst2:\n",
    "        if c not in lst:\n",
    "            lst.append(c)\n",
    "    return lst\n",
    "\n",
    "lst1 = [1,2,3]  \n",
    "lst2 = [4,5,3]\n",
    "print(union(lst1, lst2))"
   ]
  },
  {
   "cell_type": "markdown",
   "id": "7d36925a",
   "metadata": {},
   "source": [
    "4. Escriba una función que de una lista que sea la `interseccion` de dos listas"
   ]
  },
  {
   "cell_type": "code",
   "execution_count": 3,
   "id": "bb490e56",
   "metadata": {},
   "outputs": [
    {
     "name": "stdout",
     "output_type": "stream",
     "text": [
      "[3]\n"
     ]
    }
   ],
   "source": [
    "def interseccion(lst1, lst2):\n",
    "    lst = [x for x in lst1 if x in lst2] \n",
    "    return lst\n",
    "\n",
    "lista1 = [1,2,3]  \n",
    "lista2 = [4,5,3]\n",
    "print(interseccion(lista1, lista2))"
   ]
  },
  {
   "cell_type": "markdown",
   "id": "c992c606",
   "metadata": {},
   "source": [
    "5. A partir de dos listas que están ordenadas de menor a mayor escriba una función `mezcla `que de la mezcla de las dos pero que mantenga el orden (NO PUEDE USAR NINGUNA FUNCION DE ORDENAR UNA LISTA)"
   ]
  },
  {
   "cell_type": "code",
   "execution_count": null,
   "id": "7a3b5cd9",
   "metadata": {},
   "outputs": [
    {
     "name": "stdout",
     "output_type": "stream",
     "text": [
      "[1, 2, 3, 4, 6, 7, 8]\n"
     ]
    }
   ],
   "source": [
    "def merge(lst1, lst2):\n",
    "    i = j = 0\n",
    "    lst = []\n",
    "    while i < len(lst1) and j < len(lst2):\n",
    "        if lst1[i] < lst2[j]:\n",
    "            lst.append(lst1[i])\n",
    "            i += 1\n",
    "        else:\n",
    "            lst.append(lst2[j])\n",
    "            j += 1\n",
    "\n",
    "    while i < len(lst1):\n",
    "        lst.append(lst1[i])\n",
    "        i += 1\n",
    "\n",
    "    while j < len(lst2):\n",
    "        lst.append(lst2[j])\n",
    "        j += 1\n",
    "\n",
    "    return lst\n",
    "\n",
    "lst1 = [1, 4, 7, 8]\n",
    "lst2 = [2, 3, 6]\n",
    "print(merge(lst2, lst1))\n",
    "\n",
    "\n",
    "# listas sin ordenar\n",
    "# def mezcla(lst1, lst2):\n",
    "#     lst = [x for x in lst1 + lst2]\n",
    "\n",
    "#     for c in range(len(lst)):\n",
    "#         min = c\n",
    "#         for f in range(c + 1, len(lst)):\n",
    "#             if lst[f] < lst[min]:\n",
    "#                 min = f\n",
    "#         lst[c], lst[min] = lst[min], lst[c]\n",
    "    \n",
    "#     return lst\n",
    "\n",
    "# lst1 = [9, 4, 7]\n",
    "# lst2 = [2, 3, 6]\n",
    "# print(mezcla(lst2, lst1))"
   ]
  },
  {
   "cell_type": "markdown",
   "id": "76c72331",
   "metadata": {},
   "source": [
    "6. Considere una lista que representa los coeficientes de un _polinomio_ defina una función `evalua_polinomio` que evalúe el polinomio para un valor _x_"
   ]
  },
  {
   "cell_type": "code",
   "execution_count": 30,
   "id": "bea2293f",
   "metadata": {},
   "outputs": [
    {
     "name": "stdout",
     "output_type": "stream",
     "text": [
      "53\n"
     ]
    }
   ],
   "source": [
    "def evalua_polinomio(poli, x):\n",
    "    n = len(poli) - 1\n",
    "    result = 0\n",
    "    for c in range(len(poli)):\n",
    "        result += poli[c]*(x**(n - c))\n",
    "    \n",
    "    return result\n",
    "\n",
    "# asumiendo que el polinomio es de la forma Anx^n + An-1x^n-1 +...+ A0 y que no falta ningun termino\n",
    "poli = [2, 4, 5]\n",
    "x = 4\n",
    "print(evalua_polinomio(poli, x))"
   ]
  },
  {
   "cell_type": "markdown",
   "id": "83c1485d",
   "metadata": {},
   "source": [
    "7. Defina una función `factorial` que calcule el factorial de un número"
   ]
  },
  {
   "cell_type": "code",
   "execution_count": null,
   "id": "56923fc8",
   "metadata": {},
   "outputs": [
    {
     "name": "stdout",
     "output_type": "stream",
     "text": [
      "120\n"
     ]
    }
   ],
   "source": [
    "def factorial(n):\n",
    "    fac = 1\n",
    "\n",
    "    while n != 1:\n",
    "        fac *= n\n",
    "        n = n - 1\n",
    "    \n",
    "    return fac\n",
    "\n",
    "n = 5\n",
    "print(factorial(n))"
   ]
  },
  {
   "cell_type": "markdown",
   "id": "d7f25e18",
   "metadata": {},
   "source": [
    "8. ¿Cómo representaría con un tuplo las coordenadas de un _círculo_? Defina una función `area `y una función `perimetro` que calculen dichos valores"
   ]
  },
  {
   "cell_type": "code",
   "execution_count": 38,
   "id": "5a402e69",
   "metadata": {},
   "outputs": [
    {
     "name": "stdout",
     "output_type": "stream",
     "text": [
      "28.274333882308138\n",
      "18.84955592153876\n"
     ]
    }
   ],
   "source": [
    "import math\n",
    "\n",
    "def area(circulo):\n",
    "    r, _ = circulo\n",
    "    return math.pi * r**2\n",
    "\n",
    "def perimetro(circulo):\n",
    "    r, _ = circulo\n",
    "    return 2 * math.pi * r\n",
    "\n",
    "# el curculo esta representado de manera circulo = (radio, (x, y)) con (x, y) centro del circulo\n",
    "circulo = (3, (0, 0))\n",
    "print(area(circulo))\n",
    "print(perimetro(circulo))"
   ]
  },
  {
   "cell_type": "markdown",
   "id": "0dca86da",
   "metadata": {},
   "source": [
    "9. La serie de Fibonacci es una sucesión infinita de enteros 1, 1, 2, 3, 5, 8, .... donde los dos primeros son 1 y 1 y a partir de ahi el siguiente valor es la suma de los dos anteriores. Defina una función `Fibonacci(n)` que dado un parámetro valor entero `n` devuelva el valor del elemento n-esimo de la sucesión"
   ]
  },
  {
   "cell_type": "code",
   "execution_count": null,
   "id": "d7472e04",
   "metadata": {},
   "outputs": [
    {
     "name": "stdout",
     "output_type": "stream",
     "text": [
      "8\n"
     ]
    }
   ],
   "source": [
    "def fibonacci(n):\n",
    "    fib = [1,1]\n",
    "    for c in range(2, n):\n",
    "        fib.append(fib[c - 1] + fib[c - 2]) \n",
    "    return fib[n - 1]\n",
    "\n",
    "n = 6\n",
    "print(fibonacci(n))"
   ]
  },
  {
   "cell_type": "markdown",
   "id": "01b4230e",
   "metadata": {},
   "source": [
    "10. Escriba manualmente un archivo json con cadenas. Cree un código que lea dicho archivo json y cree otro con una lista de enteros con las longitudes de dichas cadenas"
   ]
  },
  {
   "cell_type": "code",
   "execution_count": null,
   "id": "adcbb35d",
   "metadata": {},
   "outputs": [
    {
     "name": "stdout",
     "output_type": "stream",
     "text": [
      "[4, 5, 5, 6, 4]\n"
     ]
    }
   ],
   "source": [
    "import json\n",
    "\n",
    "def longitud(lst):\n",
    "    lst_len = [len(s) for s in lst]\n",
    "    return lst_len\n",
    "\n",
    "with open(\"cp7_cadenas.json\", \"r\", encoding=\"utf-8\") as f:\n",
    "    lst_str = json.load(f)         \n",
    "\n",
    "print(longitud(lst_str))"
   ]
  }
 ],
 "metadata": {
  "kernelspec": {
   "display_name": "Python 3",
   "language": "python",
   "name": "python3"
  },
  "language_info": {
   "codemirror_mode": {
    "name": "ipython",
    "version": 3
   },
   "file_extension": ".py",
   "mimetype": "text/x-python",
   "name": "python",
   "nbconvert_exporter": "python",
   "pygments_lexer": "ipython3",
   "version": "3.14.0"
  }
 },
 "nbformat": 4,
 "nbformat_minor": 5
}
