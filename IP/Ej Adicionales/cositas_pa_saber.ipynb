{
 "cells": [
  {
   "cell_type": "markdown",
   "id": "3d7e5c6d",
   "metadata": {},
   "source": [
    "Para ordenar listas existe la funcion list.sort() que cambia la lista sin crear una nueva y no puede ser usadoo como una variable ni impreso ya que el valor que retora es None"
   ]
  },
  {
   "cell_type": "code",
   "execution_count": 2,
   "id": "e97d2605",
   "metadata": {},
   "outputs": [
    {
     "name": "stdout",
     "output_type": "stream",
     "text": [
      "[2, 24, 65657, 3, 57]\n",
      "[2, 3, 24, 57, 65657]\n"
     ]
    }
   ],
   "source": [
    "l=[2,24,65657,3,57]\n",
    "print(l)\n",
    "l.sort()\n",
    "print(l)"
   ]
  },
  {
   "cell_type": "markdown",
   "id": "b1cefa78",
   "metadata": {},
   "source": [
    "Si se quiere mantener la lista original se puede usar sorted(list) esta si se puede usar como variable"
   ]
  },
  {
   "cell_type": "code",
   "execution_count": 2,
   "id": "f7554481",
   "metadata": {},
   "outputs": [
    {
     "name": "stdout",
     "output_type": "stream",
     "text": [
      "[2, 3, 24, 57, 65657]\n",
      "[2, 3, 24, 57, 65657]\n",
      "[2, 24, 65657, 3, 57]\n"
     ]
    }
   ],
   "source": [
    "l=[2,24,65657,3,57]\n",
    "print(sorted(l))\n",
    "f=sorted(l)\n",
    "print(f)\n",
    "print(l)"
   ]
  },
  {
   "cell_type": "markdown",
   "id": "6d1722a5",
   "metadata": {},
   "source": [
    "Tanto list.sort() como sorted(list) ordenan de menor a mayor si se quiere invertir el orden se puede usar list.reverse()"
   ]
  },
  {
   "cell_type": "code",
   "execution_count": 14,
   "id": "91d6ed8b",
   "metadata": {},
   "outputs": [
    {
     "name": "stdout",
     "output_type": "stream",
     "text": [
      "[6, 5, 4, 3, 3, 2]\n",
      "[43, 34, 23, 6, 3, 3, 1]\n",
      "[345, 34, 34, 5, 5]\n"
     ]
    }
   ],
   "source": [
    "l = [2,4,5,3,6,3]\n",
    "l.sort()\n",
    "l.reverse()\n",
    "print(l)\n",
    "\n",
    "f = [23,3,1,43,34,6,3]\n",
    "f.sort(reverse = True)\n",
    "print(f)\n",
    "\n",
    "h = [34,5,34,5,345]\n",
    "a = sorted(h)\n",
    "a.reverse()\n",
    "print(a)"
   ]
  }
 ],
 "metadata": {
  "kernelspec": {
   "display_name": "Python 3",
   "language": "python",
   "name": "python3"
  },
  "language_info": {
   "codemirror_mode": {
    "name": "ipython",
    "version": 3
   },
   "file_extension": ".py",
   "mimetype": "text/x-python",
   "name": "python",
   "nbconvert_exporter": "python",
   "pygments_lexer": "ipython3",
   "version": "3.14.0"
  }
 },
 "nbformat": 4,
 "nbformat_minor": 5
}
