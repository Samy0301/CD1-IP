{
 "cells": [
  {
   "cell_type": "markdown",
   "id": "eb98693f",
   "metadata": {},
   "source": [
    "Crea un metodo recursivo que resuelva sudokus simples \n"
   ]
  },
  {
   "cell_type": "code",
   "execution_count": 5,
   "id": "b3c6797f",
   "metadata": {},
   "outputs": [
    {
     "name": "stdout",
     "output_type": "stream",
     "text": [
      "original\n",
      "800032040\n",
      "001050000\n",
      "040008100\n",
      "010004020\n",
      "207000050\n",
      "000000809\n",
      "080600070\n",
      "025047000\n",
      "060000008\n",
      "\n",
      "Sudoku resuelto\n",
      "859132647\n",
      "371456982\n",
      "642798135\n",
      "518964723\n",
      "297381456\n",
      "436275819\n",
      "183629574\n",
      "925847361\n",
      "764513298\n"
     ]
    }
   ],
   "source": [
    "def es_valido(tab, f, c, n):\n",
    "    # fila\n",
    "    for j in range(9):\n",
    "        if tab[f][j] == n: return False\n",
    "    # columna\n",
    "    for i in range(9):\n",
    "        if tab[i][c] == n: return False\n",
    "    # bloque 3×3\n",
    "    bf, bc = (f // 3) * 3, (c // 3) * 3\n",
    "    for i in range(3):\n",
    "        for j in range(3):\n",
    "            if tab[bf + i][bc + j] == n: return False\n",
    "    return True\n",
    "\n",
    "def resolver(tab):\n",
    "    for i in range(9):\n",
    "        for j in range(9):\n",
    "            if tab[i][j] == 0:\n",
    "                for n in range(1, 10):\n",
    "                    if es_valido(tab, i, j, n):\n",
    "                        tab[i][j] = n\n",
    "                        if resolver(tab):\n",
    "                            return True\n",
    "                        tab[i][j] = 0\n",
    "                return False\n",
    "    return True\n",
    "\n",
    "def imprimir(tab):\n",
    "    for fila in tab:\n",
    "        print(\"\".join(str(x) for x in fila))\n",
    "\n",
    "sudoku = [\n",
    "    [8,0,0,0,3,2,0,4,0],\n",
    "    [0,0,1,0,5,0,0,0,0],\n",
    "    [0,4,0,0,0,8,1,0,0],\n",
    "    [0,1,0,0,0,4,0,2,0],\n",
    "    [2,0,7,0,0,0,0,5,0],\n",
    "    [0,0,0,0,0,0,8,0,9],\n",
    "    [0,8,0,6,0,0,0,7,0],\n",
    "    [0,2,5,0,4,7,0,0,0],\n",
    "    [0,6,0,0,0,0,0,0,8]\n",
    "]\n",
    "\n",
    "print(\"original\")\n",
    "imprimir(sudoku)\n",
    "\n",
    "if resolver(sudoku):\n",
    "    print(\"\\nSudoku resuelto\")\n",
    "    imprimir(sudoku)\n",
    "else:\n",
    "    print(\"no se puede resolver\")"
   ]
  }
 ],
 "metadata": {
  "kernelspec": {
   "display_name": ".venv",
   "language": "python",
   "name": "python3"
  },
  "language_info": {
   "codemirror_mode": {
    "name": "ipython",
    "version": 3
   },
   "file_extension": ".py",
   "mimetype": "text/x-python",
   "name": "python",
   "nbconvert_exporter": "python",
   "pygments_lexer": "ipython3",
   "version": "3.11.9"
  }
 },
 "nbformat": 4,
 "nbformat_minor": 5
}
