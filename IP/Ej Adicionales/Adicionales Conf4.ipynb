{
 "cells": [
  {
   "cell_type": "markdown",
   "id": "e94b309b",
   "metadata": {},
   "source": [
    "### Ejercicios Adicionales Conf4"
   ]
  },
  {
   "cell_type": "markdown",
   "id": "58e29138",
   "metadata": {},
   "source": [
    "1. Genere una lista con los impares de un intervalo"
   ]
  },
  {
   "cell_type": "code",
   "execution_count": 4,
   "id": "53b6d241",
   "metadata": {},
   "outputs": [
    {
     "name": "stdout",
     "output_type": "stream",
     "text": [
      "[-3, -1, 1, 3, 5, 7, 9]\n"
     ]
    }
   ],
   "source": [
    "begin = int(input(\"writw a number\"))\n",
    "end = int(input(\"write a number\"))\n",
    "odd_list = [x for x in range(begin, end) if x % 2 != 0]\n",
    "print(odd_list)"
   ]
  },
  {
   "cell_type": "markdown",
   "id": "b6c1bab4",
   "metadata": {},
   "source": [
    "2. Vaya leyendo con input una secuencia de enteros hasta que teclee solo cambio de linea. Cree una lista con todos los valores enteros leídos"
   ]
  },
  {
   "cell_type": "code",
   "execution_count": null,
   "id": "e1b843ce",
   "metadata": {},
   "outputs": [
    {
     "name": "stdout",
     "output_type": "stream",
     "text": [
      "[]\n"
     ]
    }
   ],
   "source": [
    "num_list = []\n",
    "while True:\n",
    "    num = input(\"write a number\")\n",
    "    if num == \"\":\n",
    "        break\n",
    "    num_list.append(int(num))\n",
    "print(num_list)"
   ]
  },
  {
   "cell_type": "markdown",
   "id": "89fa7d1f",
   "metadata": {},
   "source": [
    "3. Lea una secuencia de enteros donde el primer valor que se lea es la cantidad de enteros que se escribirá a continuación, escriba el resultado de la suma y del producto de todos ellos"
   ]
  },
  {
   "cell_type": "code",
   "execution_count": 6,
   "id": "808c48bf",
   "metadata": {},
   "outputs": [
    {
     "name": "stdout",
     "output_type": "stream",
     "text": [
      "the sum is 2 and the product is 1\n"
     ]
    }
   ],
   "source": [
    "num = int(input(\"write list size\"))\n",
    "num_list = [int(input(\"write a number\")) for _ in range(num)]\n",
    "sum = 0 \n",
    "product = 1\n",
    "for c in num_list:\n",
    "    sum += c\n",
    "    product *= c\n",
    "print(f\"the sum is {sum} and the product is {product}\")"
   ]
  },
  {
   "cell_type": "markdown",
   "id": "d105d765",
   "metadata": {},
   "source": [
    "4. A partir de una lista de cadenas genere una lista con aquellas cadenas que tengan longitud mayor que un valor N"
   ]
  },
  {
   "cell_type": "markdown",
   "id": "78f1033f",
   "metadata": {},
   "source": [
    "Pasos\n",
    "1. Ingrese la cantidad de cadenas.\n",
    "2. Ingrese las cadenas que conformaran la lista, presionando enter entre cada una.\n",
    "3. Ingrese N."
   ]
  },
  {
   "cell_type": "code",
   "execution_count": 2,
   "id": "5ebe2aa8",
   "metadata": {},
   "outputs": [
    {
     "name": "stdout",
     "output_type": "stream",
     "text": [
      "[]\n"
     ]
    }
   ],
   "source": [
    "num = int(input(\"write list size\"))\n",
    "first_list = [input(\"write a number\") for _ in range(num)]\n",
    "N = int(input(\"write N value\"))\n",
    "second_list = [x for x in first_list if len(x) > N]\n",
    "print(second_list)"
   ]
  },
  {
   "cell_type": "markdown",
   "id": "9db071db",
   "metadata": {},
   "source": [
    "5. A partir de una lista de enteros, que puede tener valores repetidos, genere una lista con los mismos valores pero sin repetidos"
   ]
  },
  {
   "cell_type": "markdown",
   "id": "c74c7f17",
   "metadata": {},
   "source": [
    "Pasos \n",
    "1. Ingrese la cantidad de elementos de la lista.\n",
    "2. Ingrese los numeros que conformaran la lista, presione Enter entre cada uno."
   ]
  },
  {
   "cell_type": "code",
   "execution_count": null,
   "id": "932078b6",
   "metadata": {},
   "outputs": [
    {
     "name": "stdout",
     "output_type": "stream",
     "text": [
      "[2, 3, 4]\n"
     ]
    }
   ],
   "source": [
    "num = int(input(\"write list size\"))\n",
    "num_list = [int(input(\"write a number\")) for _ in range(num)]\n",
    "done_list = []\n",
    "for c in num_list:\n",
    "    if c in done_list:\n",
    "        continue # pasa a la sigiente iteracion ignorando las intrucciones que hayan abajo\n",
    "    else:\n",
    "        done_list.append(c)\n",
    "print(done_list)"
   ]
  },
  {
   "cell_type": "markdown",
   "id": "4ef029cf",
   "metadata": {},
   "source": [
    "6. A partir de una lista1 y una lista2 genere una lista comunes que contenga solo los valores que están en ambas listas"
   ]
  },
  {
   "cell_type": "markdown",
   "id": "681f4835",
   "metadata": {},
   "source": [
    "Pasos \n",
    "1. Ingrese los numeros que conformaran la primera lista, presionando enter Entre cada uno.\n",
    "2. Presione Enter sin escribir nada para finalizar la lista.\n",
    "3. Repita el procedimiento para la segunda lista."
   ]
  },
  {
   "cell_type": "code",
   "execution_count": null,
   "id": "23e6b3d7",
   "metadata": {},
   "outputs": [
    {
     "name": "stdout",
     "output_type": "stream",
     "text": [
      "[1, 2, 3, 4]\n"
     ]
    }
   ],
   "source": [
    "list1 = []\n",
    "list2 = []\n",
    "result_list = []\n",
    "cambio = True\n",
    "while True:\n",
    "    num = input(\"write a number\")\n",
    "    if cambio:\n",
    "        if num == \"\":\n",
    "            cambio = False\n",
    "        else:\n",
    "            list1.append(int(num))\n",
    "    else:\n",
    "        if num == \"\":\n",
    "            break\n",
    "        list2.append(int(num))\n",
    "for c in list1:\n",
    "    if c not in list2:\n",
    "        continue\n",
    "    else:\n",
    "        result_list.append(c)\n",
    "print(result_list)"
   ]
  },
  {
   "cell_type": "markdown",
   "id": "d557a498",
   "metadata": {},
   "source": [
    "7. Si una lista polinomio `p` de longitud `n+1` representa los coeficientes de un polinomio de grado `n `calcule el valor del polinomio para un cierto valor `x`. Es decir que el valor a calcular sería `p[n]*(x**n) + p[n-1]*(x**(n-1)) + ... p[1]*x + p[0]`"
   ]
  },
  {
   "cell_type": "markdown",
   "id": "2df4b7a1",
   "metadata": {},
   "source": [
    "Pasos\n",
    "1. Ingrese los coeficientes del polinomio de mayor a menor grado (p(n), p(n-1), ..., p(0)), presionando Enter entre cada uno.\n",
    "2. Si desea saltar una potencia ingrese 0.\n",
    "3. Presione Enter sin escribir nada para finalizar el polinomio, el ultimo valor ingresado antes sera coniderado p(0).\n",
    "4. Ingrese el valor de x para evaluar el polinomio."
   ]
  },
  {
   "cell_type": "code",
   "execution_count": 2,
   "id": "296b48b3",
   "metadata": {},
   "outputs": [
    {
     "name": "stdout",
     "output_type": "stream",
     "text": [
      "12\n"
     ]
    }
   ],
   "source": [
    "poli_list = []\n",
    "while True:\n",
    "    num = input(\"write a number\")\n",
    "    if num == \"\":\n",
    "        break\n",
    "    poli_list.append(int(num))\n",
    "x = int(input(\"write x value\"))\n",
    "n = len(poli_list) - 1\n",
    "value = 0\n",
    "for i in poli_list:\n",
    "    value += i*(x**n)\n",
    "    n -= 1\n",
    "print(value)"
   ]
  },
  {
   "cell_type": "markdown",
   "id": "62e1101b",
   "metadata": {},
   "source": [
    "8. A partir de una lista de valores enteros genere una lista con los mismos valores pero ordenada de menor a mayor. No use la función sort de Python"
   ]
  },
  {
   "cell_type": "markdown",
   "id": "b0144faf",
   "metadata": {},
   "source": [
    "Pasos \n",
    "1. Ingrese la cantidad de elementos de la lista.\n",
    "2. Ingrese los numeros que conformaran la lista, presione Enter entre cada uno."
   ]
  },
  {
   "cell_type": "code",
   "execution_count": null,
   "id": "57f74fae",
   "metadata": {},
   "outputs": [
    {
     "name": "stdout",
     "output_type": "stream",
     "text": [
      "[2, 3, 4]\n"
     ]
    }
   ],
   "source": [
    "num = int(input(\"write list size\"))\n",
    "num_list = [int(input(\"write a number\")) for _ in range(num)]\n",
    "for i in range(len(num_list) - 1):\n",
    "    min_idx = i\n",
    "    for j in range(i + 1, len(num_list)):\n",
    "        if num_list[j] < num_list[min_idx]:\n",
    "            min_idx = j\n",
    "        # swap\n",
    "        temp = num_list[i]\n",
    "        num_list[i] = num_list[min_idx]\n",
    "        num_list[min_idx] = temp\n",
    "print(num_list)"
   ]
  }
 ],
 "metadata": {
  "kernelspec": {
   "display_name": "Python 3",
   "language": "python",
   "name": "python3"
  },
  "language_info": {
   "codemirror_mode": {
    "name": "ipython",
    "version": 3
   },
   "file_extension": ".py",
   "mimetype": "text/x-python",
   "name": "python",
   "nbconvert_exporter": "python",
   "pygments_lexer": "ipython3",
   "version": "3.11.9"
  }
 },
 "nbformat": 4,
 "nbformat_minor": 5
}
