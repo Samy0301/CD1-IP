{
 "cells": [
  {
   "cell_type": "markdown",
   "id": "46aa74dfc9788c10",
   "metadata": {},
   "source": [
    "# Funciones 2\n",
    "\n",
    "### Abstracción\n",
    "Saber usar algo no es lo mismo que conocer como está hecho. Para saber usar un auto, un microwave o un teléfono; no tenemos que conocer de motores de combustión, de la resonancia de las moléculas de agua en cierta frequencia o de fotolitografía en silicio para imprimir los microprocesadores. Sencillamente, conocemos que si ingresamos la llave y la giramos tendremos encendido el carro, o si introducimos el tiempo y damos al botón de iniciar la comida estará caliente, o que si presionamos el logo de una aplicación esta se abrirá. En el mismo sentido funciona la programación y lo hemos visto hasta ahora cuando hemos impreso objetos en la pantalla, consultado la cantidad de elementos en secuencias, y ejecutado operaciones matemáticas no triviales; pero no conocíamos como están implementadas ninguna de estas características. Lo que sabemos es la relación que existe entre lo que entramos y lo que esperamos.\n",
    "\n",
    "### Descomposición\n",
    "La abstracción permite la descomposición de un problema en componentes que no necesitan conocer los detalles de cómo están implementadas cada una de ellas. Con solo conocer los datos que necesitan para ser calculadas se pueden usar esas cajas negras para obtener los resultados necesarios para resolver el problema general o usar dichos resultados como entrada de otras componentes.\n",
    "\n",
    "La idea a mantener es:\n",
    "- Suprimir detalles con la abstracción\n",
    "- Crear estructura con la descomposición\n",
    "\n",
    "Y la clave para todo esto son **las funciones**"
   ]
  },
  {
   "cell_type": "markdown",
   "id": "9e5ebb215560ba94",
   "metadata": {
    "ExecuteTime": {
     "end_time": "2025-10-27T05:54:38.531451Z",
     "start_time": "2025-10-27T05:54:38.526346Z"
    },
    "collapsed": true
   },
   "source": [
    "### Estructura de Funciones\n",
    "\n",
    "La estructura de las funciones es:\n",
    "- Nombre\n",
    "- Parámetros\n",
    "- Docstring\n",
    "- Body\n",
    "\n",
    "```\n",
    "def <name>(<parms>):\n",
    "    \"\"\"\n",
    "    <description>\n",
    "    \"\"\"\n",
    "    <body>\n",
    "```"
   ]
  },
  {
   "cell_type": "code",
   "execution_count": null,
   "id": "7cde886300a16f83",
   "metadata": {
    "ExecuteTime": {
     "end_time": "2025-10-27T16:11:45.202716Z",
     "start_time": "2025-10-27T16:11:45.197716Z"
    }
   },
   "outputs": [
    {
     "name": "stdout",
     "output_type": "stream",
     "text": [
      "True False\n"
     ]
    }
   ],
   "source": [
    "def es_par(x):\n",
    "    \"\"\"\n",
    "    Función para verificar si un numero es par\n",
    "\n",
    "    Input: número\n",
    "\n",
    "    Output: True si el numero es par, False en cualquier otro caso\n",
    "    \"\"\"\n",
    "    return x % 2 == 0"
   ]
  },
  {
   "cell_type": "markdown",
   "id": "d9785dc6b9ceeae9",
   "metadata": {},
   "source": [
    "Pero hasta este punto solo hemos definido la función. Para usarla podemos hacer lo siguiente.\n",
    "\n",
    "Nota como la descripción que escribimos aparece en los detalles de la función cuando la llamamos."
   ]
  },
  {
   "cell_type": "code",
   "execution_count": 8,
   "id": "80eccfa2d823f770",
   "metadata": {},
   "outputs": [
    {
     "data": {
      "text/plain": [
       "True"
      ]
     },
     "execution_count": 8,
     "metadata": {},
     "output_type": "execute_result"
    }
   ],
   "source": [
    "es_par(4)"
   ]
  },
  {
   "cell_type": "markdown",
   "id": "13a7e5ed8ebd1d65",
   "metadata": {},
   "source": [
    "### Parámetros formales vs reales\n",
    "\n",
    "Se define como **parámetro formal** al que aparece en la definición de la función (x) y **parámetro real** al objeto que se usa en el llamado (6). También existe bibliografía que se refiere a ellos como parámetros y argumentos respectivamente."
   ]
  },
  {
   "cell_type": "markdown",
   "id": "6e38a728de801037",
   "metadata": {},
   "source": [
    "### Llamado a funciones\n",
    "\n",
    "Durante el llamado a una función los parámetros reales son enlazados a los formales y se ejecuta el cuerpo de esta. Por lo tanto, se puede resumir que **el código de una función solo es ejecutado cuando esta es llamada**"
   ]
  },
  {
   "cell_type": "markdown",
   "id": "bb67591547f79634",
   "metadata": {},
   "source": [
    "### Tipos de parámetros\n",
    "\n",
    "#### Parámetros posicionales\n",
    "```\n",
    "def f(a,b,c):\n",
    "    pass\n",
    "```\n",
    "Son los parámetros que se asignan en el mismo orden en el que están en el llamado a la función\n",
    "```\n",
    "f(1,2,3)\n",
    "-> a=1, b=2, c=3\n",
    "```\n",
    "\n",
    "#### Parámetros por defecto\n",
    "```\n",
    "def f(a = 5):\n",
    "    pass\n",
    "```\n",
    "Son parámetros que tiene un valor por defecto en caso de que sean omitidos durante el llamado a la función. Una vez aparezca el primero todos los demás parámetros a su derecha deben tener un valor por defecto igual hasta llegar la los parámetros `*`. La expresión por defecto se computa una única vez (cuando se define la función) y se usa el valor computado en todos los llamados subsecuentes. Esto quiere decir que si el valor por defecto es un objeto mutable (una lista por ejemplo) en todos los llamados se usará la misma lista **incluso si se le apendearon cosas en un llamado anterior**"
   ]
  },
  {
   "cell_type": "code",
   "execution_count": null,
   "id": "bbaef11d14d0c863",
   "metadata": {},
   "outputs": [],
   "source": [
    "# def f(a=5, b): # no válido\n",
    "#     pass"
   ]
  },
  {
   "cell_type": "code",
   "execution_count": 9,
   "id": "34d82599e7763bb1",
   "metadata": {
    "ExecuteTime": {
     "end_time": "2025-10-27T16:19:42.549683Z",
     "start_time": "2025-10-27T16:19:42.542829Z"
    }
   },
   "outputs": [
    {
     "name": "stdout",
     "output_type": "stream",
     "text": [
      "[1, 2, 3]\n"
     ]
    }
   ],
   "source": [
    "def f(element, list=[]):\n",
    "    list.append(element)\n",
    "    return list\n",
    "\n",
    "f(1)\n",
    "f(2)\n",
    "l = f(3)\n",
    "print(l)"
   ]
  },
  {
   "cell_type": "markdown",
   "id": "2377cccb9231a9",
   "metadata": {},
   "source": [
    "#### Argumentos nombrados\n",
    "```\n",
    "def f(a,b):\n",
    "    pass\n",
    "\n",
    "f(b = 5, a = 2)\n",
    "```\n",
    "Son argumentos que son asignados en el llamado a la función especificando cúal es el parámetro que se desea popular. No pueden aparecer antes que un parámetro posicional"
   ]
  },
  {
   "cell_type": "code",
   "execution_count": 10,
   "id": "9387d009483b7c85",
   "metadata": {
    "ExecuteTime": {
     "end_time": "2025-10-27T16:22:02.768568Z",
     "start_time": "2025-10-27T16:22:02.764261Z"
    }
   },
   "outputs": [
    {
     "name": "stdout",
     "output_type": "stream",
     "text": [
      "1 2\n"
     ]
    }
   ],
   "source": [
    "def f(a,b):\n",
    "    print(a,b)\n",
    "f(b=2, a=1)"
   ]
  },
  {
   "cell_type": "code",
   "execution_count": null,
   "id": "18382a12d0e225a3",
   "metadata": {},
   "outputs": [],
   "source": [
    "def f(a,b):\n",
    "    pass\n",
    "# f(b=3, 5)"
   ]
  },
  {
   "cell_type": "markdown",
   "id": "c14bbc47f53beeb1",
   "metadata": {},
   "source": [
    "#### Parámetros args\n",
    "```\n",
    "def f(*args):\n",
    "    pass\n",
    "```\n",
    "Permiten recibir el resto de los argumentos posicionales no capturados por variables. Estos son almacenados en una tupla."
   ]
  },
  {
   "cell_type": "code",
   "execution_count": 18,
   "id": "b4e8171b558a30fb",
   "metadata": {
    "ExecuteTime": {
     "end_time": "2025-10-27T16:24:03.437231Z",
     "start_time": "2025-10-27T16:24:03.431164Z"
    }
   },
   "outputs": [
    {
     "name": "stdout",
     "output_type": "stream",
     "text": [
      "(1, 2, 3, 4, 5, 6, 7)\n",
      "<class 'tuple'>\n"
     ]
    }
   ],
   "source": [
    "def f(*args):\n",
    "    print(args)\n",
    "    print(type(args))\n",
    "f(1,2,3,4,5,6,7)"
   ]
  },
  {
   "cell_type": "code",
   "execution_count": 19,
   "id": "ef7bf682cf545568",
   "metadata": {
    "ExecuteTime": {
     "end_time": "2025-10-27T16:24:25.922243Z",
     "start_time": "2025-10-27T16:24:25.914137Z"
    }
   },
   "outputs": [
    {
     "name": "stdout",
     "output_type": "stream",
     "text": [
      "(4, 5, 6, 7)\n"
     ]
    }
   ],
   "source": [
    "def f(a,b,c,*args):\n",
    "    print(args)\n",
    "f(1,2,3,4,5,6,7)"
   ]
  },
  {
   "cell_type": "code",
   "execution_count": 14,
   "id": "65f681da4c3f3cfe",
   "metadata": {
    "ExecuteTime": {
     "end_time": "2025-10-27T16:25:01.206274Z",
     "start_time": "2025-10-27T16:25:00.593124Z"
    }
   },
   "outputs": [
    {
     "ename": "TypeError",
     "evalue": "f() missing 2 required keyword-only arguments: 'd' and 'e'",
     "output_type": "error",
     "traceback": [
      "\u001b[31m---------------------------------------------------------------------------\u001b[39m",
      "\u001b[31mTypeError\u001b[39m                                 Traceback (most recent call last)",
      "\u001b[36mCell\u001b[39m\u001b[36m \u001b[39m\u001b[32mIn[14]\u001b[39m\u001b[32m, line 3\u001b[39m\n\u001b[32m      1\u001b[39m \u001b[38;5;28;01mdef\u001b[39;00m\u001b[38;5;250m \u001b[39m\u001b[34mf\u001b[39m(a,b,c,*args,d,e): \u001b[38;5;66;03m# Try me! ;)\u001b[39;00m\n\u001b[32m      2\u001b[39m     \u001b[38;5;28mprint\u001b[39m(args)\n\u001b[32m----> \u001b[39m\u001b[32m3\u001b[39m \u001b[43mf\u001b[49m\u001b[43m(\u001b[49m\u001b[32;43m1\u001b[39;49m\u001b[43m,\u001b[49m\u001b[32;43m2\u001b[39;49m\u001b[43m,\u001b[49m\u001b[32;43m3\u001b[39;49m\u001b[43m,\u001b[49m\u001b[32;43m4\u001b[39;49m\u001b[43m,\u001b[49m\u001b[32;43m5\u001b[39;49m\u001b[43m,\u001b[49m\u001b[32;43m6\u001b[39;49m\u001b[43m,\u001b[49m\u001b[32;43m7\u001b[39;49m\u001b[43m)\u001b[49m\n",
      "\u001b[31mTypeError\u001b[39m: f() missing 2 required keyword-only arguments: 'd' and 'e'"
     ]
    }
   ],
   "source": [
    "def f(a,b,c,*args,d,e): # Try me! ;)\n",
    "    print(args)\n",
    "f(1,2,3,4,5,6,7)"
   ]
  },
  {
   "cell_type": "markdown",
   "id": "b166685411b4ee12",
   "metadata": {},
   "source": [
    "#### Parámetros kwargs\n",
    "```\n",
    "def f(**kwargs):\n",
    "    pass\n",
    "```\n",
    "Recibe todos los argumentos nombrados que fueron enviados en el llamado de la función y no se mapearon al nombre de ninguno de los parámetros existentes. Se almacenan en forma de diccionario. Tienen que aparecer siempre luego de los **args**"
   ]
  },
  {
   "cell_type": "code",
   "execution_count": 21,
   "id": "cdcb96bf86f1babe",
   "metadata": {
    "ExecuteTime": {
     "end_time": "2025-10-27T16:27:23.697417Z",
     "start_time": "2025-10-27T16:27:23.691102Z"
    }
   },
   "outputs": [
    {
     "name": "stdout",
     "output_type": "stream",
     "text": [
      "{'a': 3, 'b': 2, 'c': 1}\n"
     ]
    }
   ],
   "source": [
    "def f(**kwargs):\n",
    "    print(kwargs)\n",
    "f(a=3, b=2, c=1)"
   ]
  },
  {
   "cell_type": "code",
   "execution_count": 15,
   "id": "53e505410e2dc199",
   "metadata": {},
   "outputs": [
    {
     "name": "stdout",
     "output_type": "stream",
     "text": [
      "(10, 20, 30)\n",
      "{'a': 3, 'b': 2, 'c': 1}\n"
     ]
    }
   ],
   "source": [
    "def f(*args, **kwargs):\n",
    "    print(args)\n",
    "    print(kwargs)\n",
    "f(10, 20, 30, a=3, b=2, c=1)"
   ]
  },
  {
   "cell_type": "code",
   "execution_count": 16,
   "id": "57f105f94041a1c3",
   "metadata": {},
   "outputs": [
    {
     "ename": "SyntaxError",
     "evalue": "arguments cannot follow var-keyword argument (3122615042.py, line 1)",
     "output_type": "error",
     "traceback": [
      "  \u001b[36mCell\u001b[39m\u001b[36m \u001b[39m\u001b[32mIn[16]\u001b[39m\u001b[32m, line 1\u001b[39m\n\u001b[31m    \u001b[39m\u001b[31mdef f(**kwargs, *args): # Error\u001b[39m\n                    ^\n\u001b[31mSyntaxError\u001b[39m\u001b[31m:\u001b[39m arguments cannot follow var-keyword argument\n"
     ]
    }
   ],
   "source": [
    "def f(**kwargs, *args): # Error\n",
    "    pass"
   ]
  },
  {
   "cell_type": "markdown",
   "id": "6653856b46012a7a",
   "metadata": {},
   "source": [
    "### Sobrecarga de métodos\n",
    "\n",
    "En python no existe la sobrecarga de métodos. Volver a definir una función lo que hace es sobreescribir la definición anterior. Pero, ¿cómo podemos hacer para crear métodos que sean genéricos en cuanto a la cantidad de argumentos?.\n",
    "\n",
    "Pongamos de ejemplo la función para calcular máximo. Según vimos hasta ahora teníamos algo como:"
   ]
  },
  {
   "cell_type": "code",
   "execution_count": null,
   "id": "ee222d473923648c",
   "metadata": {},
   "outputs": [],
   "source": [
    "def max2(a,b):\n",
    "    if a > b:\n",
    "        return a\n",
    "    else:\n",
    "        return b\n",
    "def max3(a,b,c):\n",
    "    max = a\n",
    "    if b > max:\n",
    "        max = b\n",
    "    if c > max:\n",
    "        max = c\n",
    "    return max"
   ]
  },
  {
   "cell_type": "markdown",
   "id": "9d2fcf0d2a95c018",
   "metadata": {},
   "source": [
    "Y debíamos continuar implementando funciones para cada una de la posible cantidad de argumentos. Pero no podemos cubrir todas de esta forma. Si usáramos *args…"
   ]
  },
  {
   "cell_type": "code",
   "execution_count": 22,
   "id": "a3d83691d3af305e",
   "metadata": {
    "ExecuteTime": {
     "end_time": "2025-10-27T16:31:04.073202Z",
     "start_time": "2025-10-27T16:31:04.068013Z"
    }
   },
   "outputs": [
    {
     "name": "stdout",
     "output_type": "stream",
     "text": [
      "36\n",
      "3\n"
     ]
    }
   ],
   "source": [
    "def max(*nums):\n",
    "    max = nums[0]\n",
    "    for num in nums:\n",
    "        if num > max:\n",
    "            max = num\n",
    "    return max\n",
    "\n",
    "print(max(7,8,4,36,5,8,1,6))\n",
    "print(max(2,3,1))"
   ]
  },
  {
   "cell_type": "markdown",
   "id": "77c531de0fd75af8",
   "metadata": {},
   "source": [
    "**¡¡¡Voilà!!!, función que funciona para cualquier cantidad de argumentos**"
   ]
  },
  {
   "cell_type": "markdown",
   "id": "3015ecdf81010f6b",
   "metadata": {},
   "source": [
    "### Retorno de funciones\n",
    "\n",
    "Las funciones retornan un resultado atendiendo a lo que computaron con el keyword **return,** pero en ocasiones no tienen esta instrucción. Eso **no significa que no devuelvan nada**. Veamos un ejemplo de una función para imprimir los ingresos en una semana:"
   ]
  },
  {
   "cell_type": "code",
   "execution_count": 23,
   "id": "18f04e06a95b13f1",
   "metadata": {
    "ExecuteTime": {
     "end_time": "2025-10-27T16:32:33.703444Z",
     "start_time": "2025-10-27T16:32:33.696424Z"
    }
   },
   "outputs": [
    {
     "name": "stdout",
     "output_type": "stream",
     "text": [
      "Lunes - $ 34\n",
      "Martes - $ 67\n",
      "Miércoles - $ 12\n",
      "Jueves - $ 83\n",
      "Viernes - $ 25\n",
      "Sábado - $ 33\n",
      "Domingo - $ 55\n"
     ]
    }
   ],
   "source": [
    "def print_weekly_income(income):\n",
    "    \"\"\"\n",
    "    Print the income of the week nicely\n",
    "\n",
    "    Input: List with the income of the week\n",
    "    \"\"\"\n",
    "    week_days = [\"Lunes\", \"Martes\", \"Miércoles\", \"Jueves\", \"Viernes\", \"Sábado\", \"Domingo\"]\n",
    "    for i in range(len(week_days)):\n",
    "        print(f\"{week_days[i]} - $ {income[i]}\")\n",
    "\n",
    "income = [34,67,12,83,25,33,55]\n",
    "print_weekly_income(income)"
   ]
  },
  {
   "cell_type": "markdown",
   "id": "67aa23be633fb4ad",
   "metadata": {},
   "source": [
    "Esta función no tiene instrucción de retorno pero veamos que responde"
   ]
  },
  {
   "cell_type": "code",
   "execution_count": 24,
   "id": "cd30a4cf4ff1db60",
   "metadata": {
    "ExecuteTime": {
     "end_time": "2025-10-27T16:33:08.724815Z",
     "start_time": "2025-10-27T16:33:08.719138Z"
    }
   },
   "outputs": [
    {
     "name": "stdout",
     "output_type": "stream",
     "text": [
      "Lunes - $ 34\n",
      "Martes - $ 67\n",
      "Miércoles - $ 12\n",
      "Jueves - $ 83\n",
      "Viernes - $ 25\n",
      "Sábado - $ 33\n",
      "Domingo - $ 55\n",
      "The response is: None\n"
     ]
    }
   ],
   "source": [
    "response = print_weekly_income(income)\n",
    "print(f\"The response is: {response}\")"
   ]
  },
  {
   "cell_type": "markdown",
   "id": "394bafb582135b54",
   "metadata": {},
   "source": [
    "Y es que estas funciones que no tienen instrucción `return` en realidad son equivalentes a que tengan al final de su cuerpo\n",
    "```\n",
    "return None\n",
    "```\n",
    "Siendo `None` un tipo especial con un único valor posible que representa lo que no existe."
   ]
  },
  {
   "cell_type": "markdown",
   "id": "58c5ac872b5cc1b7",
   "metadata": {},
   "source": [
    "### RESUMEN\n",
    "- Las funciones nos permiten ocultar detalles al usuario\n",
    "- Las funciones encapsulan cálculos dentro de una caja negra\n",
    "- Un programador escribe funciones con 0 o más entradas y algo que devolver:\n",
    "- Una función solo se ejecuta cuando se llama\n",
    "- Toda la llamada a la función se reemplaza por el valor de retorno\n",
    "- ¡Piensa en expresiones! Y cómo reemplazas toda una expresión por el valor que evalúa"
   ]
  },
  {
   "cell_type": "markdown",
   "id": "e47adc24bd5508e7",
   "metadata": {},
   "source": [
    "### Scope\n",
    "\n",
    "Cuando se ejecuta nuestro programa Python se encarga de crear un `scope` global en el que almacena todos los objetos que va creando durante su ejecución. Y a dichos objetos apuntan las variables que lo referencian. Por ejemplo en el programa\n",
    "```\n",
    "a = 5\n",
    "b = 3\n",
    "```\n",
    "El scope global de nuestro programa luciría algo como\n",
    "```\n",
    "----------\n",
    "| a -> 5 |\n",
    "| b -> 3 |\n",
    "|________|\n",
    "```\n",
    "\n",
    "### Scope de funciones\n",
    "\n",
    "Cada vez que se hace un llamado a una función se crea un nuevo scope aparte de los ya existentes. Este nuevo scope está asociado al llamado y será eliminado una vez el llamado retorne. Por lo tanto, para un programa como el siguiente\n",
    "```\n",
    "def sum(a, b):\n",
    "    print(a + b)\n",
    "\n",
    "num1 = 4\n",
    "num2 = 7\n",
    "s = sum(num1, num2)\n",
    "```\n",
    "Cuando se ejecute la línea `s = sum(num1, num2)` obtendremos los siguientes scopes\n",
    "```\n",
    "---------------     -----------------\n",
    "| Scope Global |    | Scope LLamado |\n",
    "|  sum -> code |    |    a -> 4     |\n",
    "| num1 -> 5    |    |    b -> 7     |\n",
    "| num2 -> 3    |    |               |\n",
    "|______________|    |_______________|\n",
    "```\n",
    "Una vez retorna el llamado a sum se elimina el Scope del Llamado y se asocia ese objeto a la variable `s`\n",
    "```\n",
    "---------------\n",
    "| Scope Global |\n",
    "|  sum -> code |\n",
    "| num1 -> 5    |\n",
    "| num2 -> 3    |\n",
    "|    s -> 11   |\n",
    "|______________|\n",
    "```\n",
    "En resumen ¡Se crea un nuevo scope con cada llamada a función!\n",
    "- Son una suerte de mini programa\n",
    "- El mini programa se ejecuta asignando sus parámetros a ciertos valores de entrada\n",
    "- Realiza el trabajo (es decir, el cuerpo de la función)\n",
    "- Devuelve un valor\n",
    "- El entorno desaparece después de devolver el valor\n"
   ]
  },
  {
   "cell_type": "markdown",
   "id": "223e6d3098075d60",
   "metadata": {},
   "source": [
    "Analicemos en detalle como se comportan los scopes para un ejemplo sencillo (Nota como la flecha `->` se desplaza)\n",
    "```\n",
    "    def f( x ):\n",
    "        x += 1\n",
    "        return x\n",
    "    x = 2\n",
    "    z = f(x)\n",
    "```\n",
    "```\n",
    "---------------\n",
    "| Scope Global |\n",
    "|              |\n",
    "|______________|\n",
    "```\n",
    "Paso 1\n",
    "```\n",
    "->  def f( x ):\n",
    "        x += 1\n",
    "        return x\n",
    "    x = 2\n",
    "    z = f(x)\n",
    "```\n",
    "```\n",
    "---------------\n",
    "| Scope Global |\n",
    "|  f -> func   |\n",
    "|              |\n",
    "|______________|\n",
    "```\n",
    "Paso 2\n",
    "```\n",
    "    def f( x ):\n",
    "        x += 1\n",
    "        return x\n",
    "->  x = 2\n",
    "    z = f(x)\n",
    "```\n",
    "```\n",
    "---------------\n",
    "| Scope Global |\n",
    "|  f -> func   |\n",
    "|  x -> 2      |\n",
    "|              |\n",
    "|______________|\n",
    "```\n",
    "Paso 3\n",
    "```\n",
    "    def f( x ):\n",
    "        x += 1\n",
    "        return x\n",
    "    x = 2\n",
    "->  z = f(x)\n",
    "```\n",
    "```\n",
    "---------------\n",
    "| Scope Global |\n",
    "|  f -> func   |\n",
    "|  x -> 2      |\n",
    "|              |\n",
    "|______________|\n",
    "```\n",
    "Paso 4\n",
    "```\n",
    "->  def f( x ):\n",
    "        x += 1\n",
    "        return x\n",
    "    x = 2\n",
    "    z = f(x)\n",
    "```\n",
    "```\n",
    "---------------     -----------------\n",
    "| Scope Global |    | Scope LLamado |\n",
    "|  f -> func   |    |    x -> 2     |\n",
    "|  x -> 2      |    |               |\n",
    "|              |    |               |\n",
    "|______________|    |_______________|\n",
    "```\n",
    "Paso 5\n",
    "```\n",
    "    def f( x ):\n",
    "->      x += 1\n",
    "        return x\n",
    "    x = 2\n",
    "    z = f(x)\n",
    "```\n",
    "```\n",
    "---------------     -----------------\n",
    "| Scope Global |    | Scope LLamado |\n",
    "|  f -> func   |    |    x -> 3     |\n",
    "|  x -> 2      |    |               |\n",
    "|              |    |               |\n",
    "|______________|    |_______________|\n",
    "```\n",
    "Paso 6\n",
    "```\n",
    "    def f( x ):\n",
    "        x += 1\n",
    "->      return x\n",
    "    x = 2\n",
    "    z = f(x)\n",
    "```\n",
    "```\n",
    "---------------     -----------------\n",
    "| Scope Global |    | Scope LLamado |\n",
    "|  f -> func   |    |    x -> 3     |\n",
    "|  x -> 2      |    |               |\n",
    "|              |    |               |\n",
    "|______________|    |_______________|\n",
    "```\n",
    "Paso 7\n",
    "```\n",
    "    def f( x ):\n",
    "        x += 1\n",
    "        return x\n",
    "    x = 2\n",
    "->  z = f(x)\n",
    "```\n",
    "```\n",
    "---------------\n",
    "| Scope Global |\n",
    "|  f -> func   |\n",
    "|  x -> 2      |\n",
    "|  z -> 3      |\n",
    "|              |\n",
    "|______________|\n",
    "```"
   ]
  },
  {
   "cell_type": "markdown",
   "id": "92e1edd1740c3b53",
   "metadata": {},
   "source": [
    "### Búsqueda de variables en los scopes\n",
    "A la hora de buscar una variable para acceder al valor que tiene almacenado esta se busca primero en el scope actual y de no encontrarse se pasa a buscar en el scope inmediatamente superior. Se continúa de esta forma hasta llegar al scope global y de no estar ahí se concluye entonces que la variable no está definida"
   ]
  },
  {
   "cell_type": "markdown",
   "id": "73ac125194ad24a7",
   "metadata": {},
   "source": [
    "### Paso de parámetros\n",
    "Mencionamos muy vagamente que los parámetros se pasaban en el llamado a la función, de manera que **el parámetro real se enlaza con el parámetro formal**. Lo que sucede en realidad es que se crea un nuevo alias con el nombre del parámetro formal que apunta al mismo objeto al que apuntaba el parámetro real. **Es siempre el mismo objeto**, no se crea ninguno nuevo, no se copia nada, solo se referencia con un nuevo nombre."
   ]
  },
  {
   "cell_type": "code",
   "execution_count": 17,
   "id": "5e43a7c3aaa9fd0c",
   "metadata": {
    "ExecuteTime": {
     "end_time": "2025-10-27T16:59:44.287430Z",
     "start_time": "2025-10-27T16:59:44.280170Z"
    }
   },
   "outputs": [
    {
     "name": "stdout",
     "output_type": "stream",
     "text": [
      "True\n",
      "False\n",
      "15\n"
     ]
    }
   ],
   "source": [
    "def f(p):\n",
    "    print(p is a)\n",
    "    p = 7\n",
    "    print(p is a)\n",
    "a = 15\n",
    "f(a)\n",
    "print(a)"
   ]
  },
  {
   "cell_type": "code",
   "execution_count": 7,
   "id": "5c1fc2344b6081c0",
   "metadata": {
    "ExecuteTime": {
     "end_time": "2025-10-27T15:32:16.720360Z",
     "start_time": "2025-10-27T15:32:16.717872Z"
    }
   },
   "outputs": [
    {
     "name": "stdout",
     "output_type": "stream",
     "text": [
      "True\n",
      "False\n",
      "[]\n"
     ]
    }
   ],
   "source": [
    "def f(p):\n",
    "    print(p is a)\n",
    "    p = [7,8]\n",
    "    print(p is a)\n",
    "a = []\n",
    "f(a)\n",
    "print(a)"
   ]
  },
  {
   "cell_type": "code",
   "execution_count": 26,
   "id": "39392d566bbf79aa",
   "metadata": {
    "ExecuteTime": {
     "end_time": "2025-10-27T17:01:50.694701Z",
     "start_time": "2025-10-27T17:01:50.687854Z"
    }
   },
   "outputs": [
    {
     "name": "stdout",
     "output_type": "stream",
     "text": [
      "True\n",
      "True\n",
      "[5]\n"
     ]
    }
   ],
   "source": [
    "def f(p):\n",
    "    print(p is a)\n",
    "    p.append(5)\n",
    "    print(p is a)\n",
    "a = []\n",
    "f(a)\n",
    "print(a)"
   ]
  },
  {
   "cell_type": "markdown",
   "id": "42fa3a74290a797e",
   "metadata": {},
   "source": [
    "### Check-point\n",
    "\n",
    "Analiza como se comportan los scopes en los siguientes códigos"
   ]
  },
  {
   "cell_type": "code",
   "execution_count": 18,
   "id": "f649af465693f4c8",
   "metadata": {},
   "outputs": [
    {
     "name": "stdout",
     "output_type": "stream",
     "text": [
      "2\n",
      "5\n"
     ]
    }
   ],
   "source": [
    "# Analiza\n",
    "def f(y):\n",
    "    x = 1\n",
    "    x += 1\n",
    "    print(x)\n",
    "x = 5\n",
    "f(x)\n",
    "print(x)"
   ]
  },
  {
   "cell_type": "code",
   "execution_count": 23,
   "id": "fef37582ca3880dc",
   "metadata": {},
   "outputs": [
    {
     "name": "stdout",
     "output_type": "stream",
     "text": [
      "5\n",
      "6\n",
      "5\n"
     ]
    }
   ],
   "source": [
    "# Analiza\n",
    "def g(y):\n",
    "    print(x)\n",
    "    print(x + 1)\n",
    "x = 5\n",
    "g(x)\n",
    "print(x)"
   ]
  },
  {
   "cell_type": "code",
   "execution_count": null,
   "id": "443164fed646eb9",
   "metadata": {},
   "outputs": [
    {
     "name": "stdout",
     "output_type": "stream",
     "text": [
      "5\n"
     ]
    }
   ],
   "source": [
    "# Analiza\n",
    "def h(y):\n",
    "    x += 1\n",
    "x = 5\n",
    "h(x)\n",
    "print(x)"
   ]
  },
  {
   "cell_type": "markdown",
   "id": "19a7878205b6fd70",
   "metadata": {},
   "source": [
    "### Funciones como objetos\n",
    "\n",
    "Pero cuando se define alguna función podemos fijarnos en el scope como existe una variable que apunta a dicha función definida. Esa variable va a tener el mismo nombre de la función y podemos interactuar con esa variable."
   ]
  },
  {
   "cell_type": "code",
   "execution_count": 24,
   "id": "bc2eca9ce6ed7ea5",
   "metadata": {},
   "outputs": [
    {
     "name": "stdout",
     "output_type": "stream",
     "text": [
      "<class 'function'>\n"
     ]
    }
   ],
   "source": [
    "def f(a):\n",
    "    print(a)\n",
    "\n",
    "# Existe f???\n",
    "print(type(f))"
   ]
  },
  {
   "cell_type": "markdown",
   "id": "c150053b6189573",
   "metadata": {},
   "source": [
    "Esto evidencia algo fundamental y es que **las funciones son también objetos en python**\n",
    "\n",
    "PROCEDIMIENTOS DE ORDEN SUPERIOR\n",
    "- Los objetos en Python tienen un tipo (int, float, str, Boolean, NoneType, function)\n",
    "- Los objetos pueden aparecer en el lado derecho de una asignación (Asociar un nombre a un objeto)\n",
    "- ¡Las funciones también son objetos de primera clase!\n",
    "\n",
    "Trata las funciones igual que los otros tipos:\n",
    "- Las funciones pueden ser argumentos de otra función\n",
    "- Las funciones pueden ser devueltas por otra función\n"
   ]
  },
  {
   "cell_type": "markdown",
   "id": "26ea6d80b9703ab1",
   "metadata": {},
   "source": [
    "#### Asignación de funciones"
   ]
  },
  {
   "cell_type": "code",
   "execution_count": 25,
   "id": "eb56efde25a6bad4",
   "metadata": {
    "ExecuteTime": {
     "end_time": "2025-10-27T15:36:39.173219Z",
     "start_time": "2025-10-27T15:36:39.168695Z"
    }
   },
   "outputs": [
    {
     "name": "stdout",
     "output_type": "stream",
     "text": [
      "False True\n"
     ]
    }
   ],
   "source": [
    "def es_par(a):\n",
    "    return a % 2 == 0\n",
    "\n",
    "my_func = es_par # Nota que no se usan los paréntesis\n",
    "a = es_par(5)\n",
    "b = my_func(6)\n",
    "print(a, b)\n"
   ]
  },
  {
   "cell_type": "markdown",
   "id": "54787d874b81786f",
   "metadata": {},
   "source": [
    "`my_func` es otro alias al objeto función `es_par` por lo tanto se puede llamar usando cualquiera de los dos nombres. Los dos apuntan a la misma función"
   ]
  },
  {
   "cell_type": "code",
   "execution_count": 26,
   "id": "5cd260a0f8c54bee",
   "metadata": {
    "ExecuteTime": {
     "end_time": "2025-10-27T15:36:59.920895Z",
     "start_time": "2025-10-27T15:36:59.916982Z"
    }
   },
   "outputs": [
    {
     "name": "stdout",
     "output_type": "stream",
     "text": [
      "es_par es lo mismo que my_func?: True\n"
     ]
    }
   ],
   "source": [
    "print(f\"es_par es lo mismo que my_func?: {es_par is my_func}\")"
   ]
  },
  {
   "cell_type": "code",
   "execution_count": 27,
   "id": "8cc5df8a9cb59a3c",
   "metadata": {
    "ExecuteTime": {
     "end_time": "2025-10-27T15:37:46.842947Z",
     "start_time": "2025-10-27T15:37:46.840075Z"
    }
   },
   "outputs": [
    {
     "name": "stdout",
     "output_type": "stream",
     "text": [
      "es_par es lo mismo que f?: False\n"
     ]
    }
   ],
   "source": [
    "def f(a):\n",
    "    return a % 2 == 0\n",
    "\n",
    "print(f\"es_par es lo mismo que f?: {es_par is f}\")"
   ]
  },
  {
   "cell_type": "markdown",
   "id": "b99ffe979825181c",
   "metadata": {},
   "source": [
    "#### Funciones como argumentos"
   ]
  },
  {
   "cell_type": "code",
   "execution_count": 28,
   "id": "fbdf00cd7efd2dd2",
   "metadata": {},
   "outputs": [
    {
     "name": "stdout",
     "output_type": "stream",
     "text": [
      "Denom was 0.\n",
      "None\n"
     ]
    }
   ],
   "source": [
    "# Puedes seguir y entender este código?\n",
    "def calc(op, x, y):\n",
    "    return op(x,y)\n",
    "def add(a,b):\n",
    "    return a+b\n",
    "def div(a,b):\n",
    "    if b != 0:\n",
    "        return a/b\n",
    "    print(\"Denom was 0.\")\n",
    "res = calc(add, 2, 3)\n",
    "res = calc(div, 2, 0)\n",
    "print(res)"
   ]
  },
  {
   "cell_type": "code",
   "execution_count": 29,
   "id": "4cbc4af8ff872223",
   "metadata": {},
   "outputs": [
    {
     "name": "stdout",
     "output_type": "stream",
     "text": [
      "inside func_a\n",
      "None\n",
      "inside func_b\n",
      "7\n",
      "inside func_c\n",
      "inside func_b\n",
      "3\n"
     ]
    }
   ],
   "source": [
    "# Y este?\n",
    "def func_a():\n",
    "    print('inside func_a')\n",
    "def func_b(y):\n",
    "    print('inside func_b')\n",
    "    return y\n",
    "def func_c(f, z):\n",
    "    print('inside func_c')\n",
    "    return f(z)\n",
    "print(func_a())\n",
    "print(5 + func_b(2))\n",
    "print(func_c(func_b, 3))"
   ]
  },
  {
   "cell_type": "markdown",
   "id": "7890606cb3609ebd",
   "metadata": {},
   "source": [
    "### Funciones Lambda\n",
    "\n",
    "En ocasiones tenemos funciones muy pequeñas y que solo se usan una vez en todo el código. Pensemos en este ejemplo:"
   ]
  },
  {
   "cell_type": "code",
   "execution_count": 30,
   "id": "beca20834f8f5401",
   "metadata": {
    "ExecuteTime": {
     "end_time": "2025-10-27T15:51:35.906188Z",
     "start_time": "2025-10-27T15:51:35.902259Z"
    }
   },
   "outputs": [
    {
     "name": "stdout",
     "output_type": "stream",
     "text": [
      "6\n"
     ]
    }
   ],
   "source": [
    "def apply(criteria,n):\n",
    "    \"\"\"\n",
    "    * criteria: function that takes in a number and returns a bool\n",
    "    * n: an int\n",
    "    Returns how many ints from 0 to n (inclusive) match the\n",
    "    criteria (i.e. return True when run with criteria)\n",
    "    \"\"\"\n",
    "    count = 0\n",
    "    for i in range(n+1):\n",
    "        if criteria(i):\n",
    "            count += 1\n",
    "    return count\n",
    "\n",
    "def is_even(x):\n",
    "    return x%2==0\n",
    "\n",
    "print(apply(is_even,10))"
   ]
  },
  {
   "cell_type": "markdown",
   "id": "6853aed7c0017532",
   "metadata": {},
   "source": [
    "En este caso la función `is_even` se usa una única vez en todo el código y puede el programador desear no haberla tenido que definir en primer lugar. Para esto existen las funciones lambda, que son funciones anónimas. Se le dice anónima porque no puede ser nombrada, no existe ningún alias que la referencie. Es como cuando pasamos un valor como argumento a una función, si ese valor es un literal no podemos referenciarlo luego, para referenciarlo tenemos que almacenarlo en una variable.\n",
    "\n",
    "Las funciones lambda tiene la sintaxis:\n",
    "```\n",
    "lambda <parms>: <body>\n",
    "```\n",
    "Estas devuelven automáticamente la expresión evaluada en el body.\n",
    "\n",
    "Sen equivalentes las funciones:"
   ]
  },
  {
   "cell_type": "code",
   "execution_count": 12,
   "id": "b697f479ffb8c69e",
   "metadata": {
    "ExecuteTime": {
     "end_time": "2025-10-27T15:50:02.228850Z",
     "start_time": "2025-10-27T15:50:02.225084Z"
    }
   },
   "outputs": [
    {
     "name": "stdout",
     "output_type": "stream",
     "text": [
      "True True\n"
     ]
    }
   ],
   "source": [
    "def is_even(x):\n",
    "    return x%2==0\n",
    "val1 = is_even(6)\n",
    "\n",
    "val2 = (lambda x: x%2==0)(6)\n",
    "\n",
    "print(val1, val2)"
   ]
  },
  {
   "cell_type": "markdown",
   "id": "ee9ef51b22646416",
   "metadata": {},
   "source": [
    "Usando funciones lambda podemos refactorizar el código anterior de la forma:"
   ]
  },
  {
   "cell_type": "code",
   "execution_count": 13,
   "id": "4dcc1ae02662cb60",
   "metadata": {
    "ExecuteTime": {
     "end_time": "2025-10-27T15:51:30.040709Z",
     "start_time": "2025-10-27T15:51:30.036926Z"
    }
   },
   "outputs": [
    {
     "name": "stdout",
     "output_type": "stream",
     "text": [
      "6\n"
     ]
    }
   ],
   "source": [
    "def apply(criteria,n):\n",
    "    count = 0\n",
    "    for i in range(n+1):\n",
    "        if criteria(i):\n",
    "            count += 1\n",
    "    return count\n",
    "\n",
    "print(apply(lambda x: x%2==0,10))"
   ]
  },
  {
   "cell_type": "markdown",
   "id": "687d5996e74dff65",
   "metadata": {},
   "source": [
    "Analiza como funcionan los scopes en el siguiente código"
   ]
  },
  {
   "cell_type": "code",
   "execution_count": 31,
   "id": "db2ef2d1c4bf88a1",
   "metadata": {},
   "outputs": [
    {
     "name": "stdout",
     "output_type": "stream",
     "text": [
      "81\n"
     ]
    }
   ],
   "source": [
    "def do_twice(n, fn):\n",
    "    return fn(fn(n))\n",
    "print(do_twice(3, lambda x: x**2))"
   ]
  }
 ],
 "metadata": {
  "kernelspec": {
   "display_name": "Python 3",
   "language": "python",
   "name": "python3"
  },
  "language_info": {
   "codemirror_mode": {
    "name": "ipython",
    "version": 3
   },
   "file_extension": ".py",
   "mimetype": "text/x-python",
   "name": "python",
   "nbconvert_exporter": "python",
   "pygments_lexer": "ipython3",
   "version": "3.14.0"
  }
 },
 "nbformat": 4,
 "nbformat_minor": 5
}
