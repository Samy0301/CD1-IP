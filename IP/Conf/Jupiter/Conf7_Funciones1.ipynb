{
 "cells": [
  {
   "cell_type": "markdown",
   "id": "8a6d5f321562f663",
   "metadata": {},
   "source": [
    "# FUNCIONES y TUPLOS\n",
    "\n",
    "En clase anterior hemos visto cómo para la solución de muchos problemas tenemos que escribir ciclos dentro de ciclos. Un ejemplo es el siguiente código que nos crea una lista con todos los números primos en el intervalo `m, n` (incuyendo a ambos valores). El ciclo externo recorre con la variable` k `los valores en el intervalo, el ciclo interno comprueba para cada uno de esos valores si el valor `k` es un número **primo**.\n",
    "\n",
    "Esto es un patrón frecuente cuando tenemos dos ciclos anidados (uno dentro de otro). Un ciclo externo recorre los valores de una colección y un ciclo más interno procesa esos valores."
   ]
  },
  {
   "cell_type": "code",
   "execution_count": 1,
   "id": "initial_id",
   "metadata": {
    "collapsed": true
   },
   "outputs": [
    {
     "name": "stdout",
     "output_type": "stream",
     "text": [
      "[101, 103, 107, 109, 113, 127, 131, 137, 139, 149, 151, 157, 163, 167, 173, 179, 181, 191, 193, 197, 199, 211, 223, 227, 229, 233, 239, 241, 251, 257, 263, 269, 271, 277, 281, 283, 293, 307, 311, 313, 317, 331, 337, 347, 349, 353, 359, 367, 373, 379, 383, 389, 397, 401, 409, 419, 421, 431, 433, 439, 443, 449, 457, 461, 463, 467, 479, 487, 491, 499, 503, 509, 521, 523, 541, 547, 557, 563, 569, 571, 577, 587, 593, 599, 601, 607, 613, 617, 619, 631, 641, 643, 647, 653, 659, 661, 673, 677, 683, 691, 701, 709, 719, 727, 733, 739, 743, 751, 757, 761, 769, 773, 787, 797, 809, 811, 821, 823, 827, 829, 839, 853, 857, 859, 863, 877, 881, 883, 887, 907, 911, 919, 929, 937, 941, 947, 953, 967, 971, 977, 983, 991, 997]\n"
     ]
    }
   ],
   "source": [
    "import math\n",
    "m = 100\n",
    "n = 1000\n",
    "primos = []\n",
    "for k in range(m, n+1): #ciclo externo\n",
    "    primo = True\n",
    "    for p in range(2, int(math.sqrt(k))+1): #ciclo interno que depende de la variable de control del ciclo externo\n",
    "        if k % p == 0: #la variable de control del ciclo externo se usa en el ciclo interno\n",
    "            primo = False\n",
    "            break\n",
    "    if primo:\n",
    "        primos.append(k)\n",
    "print(primos)\n",
    "\n",
    "#Compruebe que si no se da un intervalo correcto la lista da vacía\n"
   ]
  },
  {
   "cell_type": "markdown",
   "id": "1a5f04214ffadee1",
   "metadata": {},
   "source": [
    "Si lo que quisiéramos es obtener una lista con todos los números perfectos en el intervalo `m, n `el código sería muy parecido lo que en el ciclo interno en lugar de averiguar si el número es _primo_ lo que se averigua si el número es _perfecto_.\n",
    "\n",
    "El código para esto sería"
   ]
  },
  {
   "cell_type": "code",
   "execution_count": 2,
   "id": "1769e6577a9320be",
   "metadata": {},
   "outputs": [
    {
     "name": "stdout",
     "output_type": "stream",
     "text": [
      "[6, 28, 496]\n"
     ]
    }
   ],
   "source": [
    "import math\n",
    "m = 1\n",
    "n = 1000\n",
    "perfectos = []\n",
    "perfecto = True\n",
    "for k in range(m, n+1): #ciclo externo\n",
    "    suma_divisores = 0\n",
    "    for j in range(1, k): #averiguar si el número es perfecto vamos a sumar todos sus divisores sin incluirlo a él\n",
    "        if k % j == 0: #la variable de control del ciclo externo se usa en el ciclo interno\n",
    "            suma_divisores += j\n",
    "            if suma_divisores > k:\n",
    "                perfecto = False\n",
    "                break\n",
    "    if suma_divisores == k: perfectos.append(k)\n",
    "print(perfectos)"
   ]
  },
  {
   "cell_type": "markdown",
   "id": "665a2c309dc73ad2",
   "metadata": {},
   "source": [
    "Saber si un número es primo, o saber si un número es perfecto, o saber si cumple con otra propiedad no tendríamos por qué escribirlo dentro del código que recorre el intervalo. Vamos a ver cómo _podemos encapsular dentro de la_ _definición_ de una **función** el procedimiento de averiguar si cumple con la propiedad de ser primo o con la propiedad de ser perfecto."
   ]
  },
  {
   "cell_type": "markdown",
   "id": "785ea792ea0db6be",
   "metadata": {},
   "source": [
    "## 7.2 FUNCIONES\n",
    "### 7.2.1 Parámetros y valor de retorno\n",
    "\n",
    "A semejanza de las funciones en matemática una función en Python es un recurso para encapsular código que realice un cálculo y darle un nombre de modo que al invocar a la función ésta realice dicho cálculo. Por lo general a la función se le pasan argumentos (parámetros) que se utilizarán en el cálculo y la función nos devolverá un valor de retorno con el resultado de dicho cálculo.\n",
    "\n",
    "Para tener una forma más simple y reusable de los dos ejemplos anteriores nos convendría tener una función `primo` que reciba un argumento (parámetro) valor entero y devuelva un valor bool que sería `True `o `False` si el número es primo o no. De igual modo queremos tener una función `perfecto` que nos calcule si el número es perfecto\n",
    "\n",
    "El ejemplo siguiente para calcular si un número es primo y para calcular si un número es perfecto podría sintetizarse con las dos funciones siguientes. Note que luego del encabezado de la función que es de la forma **def** _nombre_(_parametros_): viene un bloque de código con su correspondiente sangría, al igual que en las condicionales y los ciclos. Si se está ejencutando un ciclo dentro de una función la instrucción return valor aborta la ejecución del ciclo y retorna al código que invocó a la función. El valor puede omitirse y en este caso se retorna **None**.\n",
    "\n",
    "Es responsabilidad del programador que lo que se le pasa como parámetros a la función y lo que ésta retorne correspondan con lo que espera la función. En este ejemplo a ambas funciones `primo` y `perfecto` se les pasa un parámetro que debe ser un entero y deben devolver un valor bool.\n",
    "\n",
    "En la definición de la función se ha escrito `def primo(n)`:\n",
    "\n",
    "Aquí `primo` es el nombre la función que en este caso tiene un parámetro que se le ha dado el nombre` n`. Este parámetro `n` actua como una variable más dentro del cuerpo de la función y no es visible fuera de la función. Cuando se invoca a la función, como en el ejemplo a continuación cuando se hace` if primo(k`) o `if perfecto(k`) el valor de la expresión` k` (se le suele denominar _parámetro real_) se le asigna como valor a la variable _parámetro formal_ (`n` este ejemplo)"
   ]
  },
  {
   "cell_type": "code",
   "execution_count": 3,
   "id": "4277c6898acb2af0",
   "metadata": {},
   "outputs": [
    {
     "name": "stdout",
     "output_type": "stream",
     "text": [
      "Los primos en el intervalo (10,100) son\n",
      "[11, 13, 17, 19, 23, 29, 31, 37, 41, 43, 47, 53, 59, 61, 67, 71, 73, 79, 83, 89, 97]\n",
      "\n",
      "Los perfectos en el intervalo (1,1000) son\n",
      "[6, 28, 496]\n"
     ]
    }
   ],
   "source": [
    "import math\n",
    "def primo(n):\n",
    "    for k in range(2, int(math.sqrt(n))+1):\n",
    "        if n % k == 0: #Si encontramos un divisor retornamos a quien invocó la función y devolvemos como resultado False\n",
    "            return False\n",
    "    return True #Si llegamos hasta aquí es porque no se encontró ningún divisor y entonces se retorna el valor True\n",
    "\n",
    "def perfecto(n):\n",
    "    suma_divisores = 0\n",
    "    for j in range(1, n): #averiguar si el número es perfecto vamos a sumar todos sus divisores sin incluirlo a él\n",
    "        if n % j == 0: #si lo divide lo sumamos a los divisores\n",
    "            suma_divisores += j\n",
    "            if suma_divisores > n:\n",
    "                return False\n",
    "    return suma_divisores == n\n",
    "\n",
    "inf = 10\n",
    "sup = 100\n",
    "primos = [k for k in range(inf, sup+1) if primo(k)]\n",
    "print(f'Los primos en el intervalo ({inf},{sup}) son')\n",
    "print(primos)\n",
    "\n",
    "inf = 1\n",
    "sup = 1000\n",
    "perfectos = [k for k in range(inf, sup+1) if perfecto(k)]\n",
    "print(f'\\nLos perfectos en el intervalo ({inf},{sup}) son')\n",
    "print(perfectos)\n",
    "\n",
    "# El parámetro n no es visible desde aquí. La siguiente intrucción daría un error!!\n",
    "# print(n)\n",
    "\n",
    "# Tampoco es visible la variable k que es interna a la función\n",
    "# print(k)"
   ]
  },
  {
   "cell_type": "markdown",
   "id": "b891354203f6c0a5",
   "metadata": {},
   "source": [
    "Como se puede observar en el ejemplo anterior las funciones que devuelven un valor bool son muy utilizadas porque se combinan con las condicionales."
   ]
  },
  {
   "cell_type": "code",
   "execution_count": null,
   "id": "18c0ca8442d053cd",
   "metadata": {},
   "outputs": [
    {
     "name": "stdout",
     "output_type": "stream",
     "text": [
      "El valor mayor de la lista [10, 2, -5, 20, 4] es 20\n",
      "El valor mayor de la lista [] es None\n",
      "\n",
      "La lista de los maximos de [[3, 1, 10, -2], [4, 4, 4], [100], [-10, -20]] es\n",
      "[10, 4, 100, -10]\n",
      "\n",
      "El máximo de la lista de los máximos de [[3, 1, 10, -2], [4, 4, 4], [100], [-10, -20]]\n",
      "100\n"
     ]
    }
   ],
   "source": [
    "def max(lista):\n",
    "    if len(lista)>0:\n",
    "        mayor = lista[0]\n",
    "        for num in lista:\n",
    "            if num > mayor:\n",
    "                mayor = num\n",
    "        return mayor\n",
    "    else: return None\n",
    "\n",
    "#EJEMPLO1\n",
    "l = [10, 2, -5, 20, 4]\n",
    "print(f'El valor mayor de la lista {l} es {max(l)}')\n",
    "l = []\n",
    "print(f'El valor mayor de la lista {l} es {max(l)}')\n",
    "print()\n",
    "\n",
    "#EJEMPLO2\n",
    "#FORMAR UNA LISTA CON LOS VALORES MAYORES DE CADA LISTA DE UNA LISTA DE LISTA\n",
    "listas = [[3, 1, 10, -2], [4,4,4], [100], [-10, -20]]\n",
    "maximos = [max(lista) for lista in listas]\n",
    "print(f'La lista de los maximos de {listas} es\\n{maximos}')\n",
    "print()\n",
    "\n",
    "#EJEMPLO3\n",
    "listas = [[3, 1, 10, -2], [4,4,4], [100], [-10, -20]]\n",
    "print(f'El máximo de la lista de los máximos de {listas}')\n",
    "print(max([max(lista) for lista in listas]))\n",
    "#Intente hacer esto sin disponer de una funcion max\n"
   ]
  },
  {
   "cell_type": "markdown",
   "id": "950bd3ead22e0af",
   "metadata": {},
   "source": [
    "### 7.2.2 Funciones con mas de un parámetro formal\n",
    "Python no impone restricciones en la cantidad de parámetros formales que puede tener una función. Si queremos una función que halle el mayor de dos valores se puede escribir"
   ]
  },
  {
   "cell_type": "code",
   "execution_count": null,
   "id": "357e1aef74ec0d52",
   "metadata": {},
   "outputs": [],
   "source": [
    "def max(x,y):\n",
    "    if x>=y: return x\n",
    "    else: return y\n",
    "\n",
    "a = 200\n",
    "b = 300\n",
    "print(max(a,b))\n",
    "\n",
    "# La siguiente instrucción daría error porque no coinciden los parámetos posicionalmente\n",
    "# print(max(a,b,100))\n"
   ]
  },
  {
   "cell_type": "markdown",
   "id": "87a2855fc3cf8bb3",
   "metadata": {},
   "source": [
    "Se dice que los parámetros son _posicionales_, porque el valor del parámetro real se asigna al parámetro formal que está en la misma posición en su descripción. En este ejemplo valor de `a` se le asigna al parámetro formal `x` y el valor de `b` se le asigna al parámetro formal `y`.\n",
    "\n",
    "Pero supongamos que queremos dos funciones, una para calcular el máximo de dos valores y otra para calcular el máximo de tres valores. Podríamos pensar en tener dos definiciones de una misma función `max` como se muestra en el código a continuación"
   ]
  },
  {
   "cell_type": "code",
   "execution_count": 7,
   "id": "a3492d5911140b18",
   "metadata": {},
   "outputs": [
    {
     "name": "stdout",
     "output_type": "stream",
     "text": [
      "50\n"
     ]
    }
   ],
   "source": [
    "def max(x,y):\n",
    "    if x>=y: return x\n",
    "    else: return y\n",
    "\n",
    "def max(x,y,z):\n",
    "    if x>=y and y>=z: return x\n",
    "    elif y>=x and y>=z: return y\n",
    "    else: return z\n",
    "\n",
    "\n",
    "a = 10\n",
    "b = 50\n",
    "c = 20\n",
    "print(max(a,b,c))\n",
    "\n",
    "# La instrucción siguiente dará error porque la segunda definición de la función max es la que se mantiene\n",
    "#print(max(20,100))"
   ]
  },
  {
   "cell_type": "markdown",
   "id": "ecd7028bb213b3cc",
   "metadata": {},
   "source": [
    "NOTA: _Tener un mismo nombre de función con diferentes cantidades de parámetros es lo que en algunos lenguajes de programación se conococe como_ **sobrecarga de funciones**.\n",
    "\n",
    "Python no permite la sobrecarga de funciones. Claro Ud. siempre puede definir dos funciones con distintos nombres como `maximo_2` y `maximo_3` aunque esto posiblemente no le resulte elegante.\n",
    "\n",
    "**NOTA** _Más adelante veremos cómo se puede lograr este efecto de llamar a una función del mismo nombre con distintas cantidades de parámetro reales_"
   ]
  },
  {
   "cell_type": "markdown",
   "id": "619250224d5f4797",
   "metadata": {},
   "source": [
    "### 7.2.3 Listas como parámetros\n",
    "El valor del parámetro real que se le pasa a una función puede ser una lista por lo que si queremos una función que nos de el máximo de varios valores podemos pasarle una lista y que la función recorra la lista con un ciclo para calcular el máximo como nos muestra el siguiente código"
   ]
  },
  {
   "cell_type": "code",
   "execution_count": null,
   "id": "44079c895d5205a7",
   "metadata": {},
   "outputs": [],
   "source": [
    "def max(lista):\n",
    "    if len(lista)>0:\n",
    "        mayor = lista[0]\n",
    "        for num in lista:\n",
    "            if num > mayor:\n",
    "                mayor = num\n",
    "        return mayor\n",
    "    else: return None\n",
    "\n",
    "#EJEMPLO1\n",
    "l = [10, 2, -5, 20, 4]\n",
    "print(f'El valor mayor de la lista {l} es {max(l)}')\n",
    "l = []\n",
    "print(f'El valor mayor de la lista {l} es {max(l)}')\n",
    "print()\n",
    "\n",
    "#EJEMPLO2\n",
    "#FORMAR UNA LISTA CON LOS VALORES MAYORES DE CADA LISTA DE UNA LISTA DE LISTA\n",
    "listas = [[3, 1, 10, -2], [4,4,4], [100], [-10, -20]]\n",
    "maximos = [max(lista) for lista in listas]\n",
    "print(f'La lista de los maximos de {listas} es\\n{maximos}')\n",
    "print()\n",
    "\n",
    "#EJEMPLO3\n",
    "listas = [[3, 1, 10, -2], [4,4,4], [100], [-10, -20]]\n",
    "print(f'El máximo de la lista de los máximos de {listas}')\n",
    "print(max([max(lista) for lista in listas]))\n",
    "#Intente hacer esto sin disponer de una funcion max\n"
   ]
  },
  {
   "cell_type": "markdown",
   "id": "66687b46098a4694",
   "metadata": {},
   "source": [
    "Ahora si en alguna parte del código queremos el máximo de a y b y en otra parte el máximo de a, b y c tendríamos que agrupar los parámetros en una lista y pasar la lista como parámetro real, es decir\n",
    "\n",
    "`max([a,b]) `y `max([a, b, c])\n",
    "`\n",
    "de modo que para Python es como si le estuviémos pasando un solo parámetro.\n",
    "\n",
    "**NOTA** _Es responsabilidad del que define una función protegerse de que la función sea llamada con los parámetros correctos así como es resonsabilidad del que escribe el código que llama a una función no pasarle un parámetro que no corresponda con lo que espera la función_\n",
    "\n",
    "De todas maneras el lector podría argumentar que para él es más simple y legible cómo poder hacer las llamadas en la forma\n",
    "\n",
    "`max(a,b)` y `max(a,b,c)`\n",
    "\n",
    "Más adelante veremos cómo se puede lograr algo así aunque Python no permita la sobrecarga de funciones con el mismo nombre"
   ]
  },
  {
   "cell_type": "markdown",
   "id": "f5eaea6b5382c94b",
   "metadata": {},
   "source": [
    "### 7.2.4 Retornando mas de un valor\n",
    "Una función puede retornar más de un valor. Si queremos hallar el mayor de una lista podemos aplicar una función `max` como la vista anteriormente y una función `min `similar a la función `max`. En este caso tendríamos que estar recorriendo la lista dos veces, una para hallar el máximo y otra para hallar el mínimo. Sin embargo, podemos recorrer la lista una sola vez para ir calculando el mínimo y el máximo. La función `minmax` a continuación nos muestra esto"
   ]
  },
  {
   "cell_type": "code",
   "execution_count": 8,
   "id": "fd9f41e6a569d2fe",
   "metadata": {},
   "outputs": [
    {
     "name": "stdout",
     "output_type": "stream",
     "text": [
      "El menor es -5 y el mayor es 20\n",
      "(-5, 20)\n"
     ]
    }
   ],
   "source": [
    "def minmax(lista):\n",
    "    if len(lista)>0:\n",
    "        menor = mayor = lista[0]\n",
    "        for num in lista:\n",
    "            if num > mayor:\n",
    "                mayor = num\n",
    "            elif num < menor:\n",
    "                menor = num\n",
    "        return menor, mayor #La función retorna un par de valores\n",
    "    else: return None, None\n",
    "\n",
    "lista = [10, 2, -5, 20, 4]\n",
    "minimo, maximo = minmax(lista) #Si la función retorna un par de valores debe capturarse en un par de variables\n",
    "print(f'El menor es {minimo} y el mayor es {maximo}')\n",
    "\n",
    "minimo = minmax(lista)\n",
    "print(minimo)\n",
    "\n",
    "#Desde fuera de la función no puedo acdeder a una variable de la función. Si descomenta la siguiente instrucción dará error\n",
    "# print(menor)"
   ]
  },
  {
   "cell_type": "markdown",
   "id": "f2d1cb319c407486",
   "metadata": {},
   "source": [
    "En este ejemplo la función retorna un par de valores separando estos por comas, como `menor`, `mayor` este caso. El código que llama a la función es el que debe capturar el resultado en la misma cantidad de variables. Realmente lo que ha hecho Python al devolver `return `menor`, `mayor` es _empaquetar_ los dos valores en un tuplo que al asignarlos a las variables `minimo`, `maximo` los _desempaqueta_ . La sección a continuación nos describe en más detalle este estructura denominada **tuplo**\n"
   ]
  },
  {
   "cell_type": "markdown",
   "id": "e0dda0ce52ee0d33",
   "metadata": {},
   "source": [
    "## 7.3 Tuplos\n",
    "\n",
    "Un **tuplo** permite expresar una agrupación de valores que no tienen que ser del mismo tipo. Se escriben de modo parecido a las listas usando paréntesis `(` y `)` en lugar de los corchetes `[ `y `] `o las llaves `{` y `}` de los diccionarios. Por ejemplo\n",
    "\n",
    "`vertice = (100, 200)` nos representa la ubicación de un punto con un par de enteros para su posición en el eje _x_ y en el eje _y_\n",
    "\n",
    "Las componentes de un tuplo pueden ser accedidas posicionalmente de manera similar a las listas\n",
    "\n",
    "`vertice[0]` es `100` y `vertice[1]` es `200`\n",
    "\n",
    "Pero los tuplos son **INMUTABLES,** es decir no se les puede cambiar en valor de una componente. Intentar hacer\n",
    "\n",
    "`vertice[0] = 500` será error\n",
    "\n",
    "Tuplos, listas, diccionarios se pueden combinar en una estructura. El valor de la siguiente variable `poligono` es una lista con los vértices de un poligono\n",
    "\n",
    "`poligono = [(100, 200), (200,300), (100, 300)]`\n",
    "\n",
    "La función perimetro calcula el perímetro de un polígono sumando las longitudes de todos sus lados.\n",
    "\n",
    "NOTA _La función dispara_ (**raise**) una excepción si el parámetro es una lista de menos de 3 valores porque hacen falta al menos 3 puntos para formar un polígono. _Realmente verificar que lo que se le pasa como parámetro a la función perimetro representa realmente a un polígono requiere una verificación más amplia. Por ahora lo dejamos así solo para dejar claro que ese es un control que depende del programador. Más adelante cuando estudiemos el concepto de_ **clase** _para definir un tipo de objetos veremos como se puede ser más preciso en esto_"
   ]
  },
  {
   "cell_type": "code",
   "execution_count": 9,
   "id": "6b0880d1e53fa02e",
   "metadata": {},
   "outputs": [
    {
     "name": "stdout",
     "output_type": "stream",
     "text": [
      "El perímetro del triangulo [(10, 10), (10, 13), (14, 10)] \n",
      " es 12.0\n"
     ]
    }
   ],
   "source": [
    "import math\n",
    "def distancia(p1, p2):\n",
    "    return math.sqrt((p2[0] - p1[0])**2 + (p2[1] - p1[1])**2)\n",
    "\n",
    "def perimetro(vertices): # Se supone que vertices es una lista de tuplos con las coordenadas de cada vertice\n",
    "    if len(vertices)<3:\n",
    "        raise \"Hacen falta al menos 3 vértices para representar a un polígono\"\n",
    "    p = 0\n",
    "    for k in range(0, len(vertices)-1):\n",
    "        p += distancia(vertices[k], vertices[k+1])\n",
    "    p += distancia(vertices[len(vertices)-1], vertices[0])\n",
    "    return p\n",
    "\n",
    "triangulo = [(10, 10), (10,13), (14, 10)] # Triangulo pitagórico\n",
    "print(f'El perímetro del triangulo {triangulo} \\n es {perimetro(triangulo)}')\n"
   ]
  },
  {
   "cell_type": "markdown",
   "id": "bed7d33058c48ce4",
   "metadata": {},
   "source": [
    "## 7.4 EJERCICIOS PARA CLASE PRACTICA\n",
    "\n",
    "1. Escriba una función `mcd` que dados dos números devuelve el máximo común divisor de ambos\n",
    "2. Escriba una función `ordenados` que determine si los valores de una lista están ordenados\n",
    "3. Escriba una función que de una lista que sea la `union` de dos listas (sin repertir elementos)\n",
    "4. Escriba una función que de una lista que sea la `interseccion` de dos listas\n",
    "5. A partir de dos listas que están ordenadas de menor a mayor escriba una función `mezcla `que de la mezcla de las dos pero que mantenga el orden (NO PUEDE USAR NINGUNA FUNCION DE ORDENAR UNA LISTA)\n",
    "6. Considere una lista que representa los coeficientes de un _polinomio_ defina una función `evalua_polinomio` que evalúe el polinomio para un valor _x_\n",
    "7. Defina una función `factorial` que calcule el factorial de un número\n",
    "8. ¿Cómo representaría con un tuplo las coordenadas de un _círculo_? Defina una función `area `y una función `perimetro` que calculen dichos valores\n",
    "9. La serie de Fibonacci es una sucesión infinita de enteros 1, 1, 2, 3, 5, 8, .... donde los dos primeros son 1 y 1 y a partir de ahi el siguiente valor es la suma de los dos anteriores. Defina una función `Fibonacci(n)` que dado un parámetro valor entero `n` devuelva el valor del elemento n-esimo de la sucesión\n",
    "10. Escriba manualmente un archivo json con cadenas. Cree un código que lea dicho archivo json y cree otro con una lista de enteros con las longitudes de dichas cadenas"
   ]
  }
 ],
 "metadata": {
  "kernelspec": {
   "display_name": "Python 3",
   "language": "python",
   "name": "python3"
  },
  "language_info": {
   "codemirror_mode": {
    "name": "ipython",
    "version": 3
   },
   "file_extension": ".py",
   "mimetype": "text/x-python",
   "name": "python",
   "nbconvert_exporter": "python",
   "pygments_lexer": "ipython3",
   "version": "3.14.0"
  }
 },
 "nbformat": 4,
 "nbformat_minor": 5
}
