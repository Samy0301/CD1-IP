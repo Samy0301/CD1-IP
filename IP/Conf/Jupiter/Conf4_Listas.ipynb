{
 "cells": [
  {
   "cell_type": "markdown",
   "id": "7b59c5cdc5dd05d7",
   "metadata": {},
   "source": [
    "# 4 LISTAS\n",
    "\n",
    "Las listas nos permiten representar una colección de valores. Tienen una sintaxis predefinida en Python para su representación:\n",
    "\n",
    "  [20, 10, 4, 30, -5]  es una lista de cinco valores enteros 20, 10, 4, 30, y -5\n",
    "\n",
    "los valores están encerrados entre paréntesis cuadrados (corchetes) y separados por coma.\n",
    "\n",
    "Los elementos de una lista pueden ser indizados por su posición. Si tenemos\n",
    "\n",
    "`enteros =` [20, 10, 4, 30, -5]\n",
    "\n",
    "entonces` enteros[0]` es` 20`, `enteros[1]` es` 10`,` enteros[2]` es` 4`,` enteros[3]` es `30` y `enteros[4]` es` -5`\n",
    "\n",
    "La función `len` nos da la cantidad de elementos de la lista, en este caso `len(enteros)` sería` 5`\n",
    "\n",
    "Por lo general cuando se trabaja con listas todos los elementos son del mismo tipo\n",
    "\n",
    "`mis_preferidos = [\"chocolate\", \"almendra\", \"coco\"]` ésta sería una lista de cadenas\n",
    "\n",
    "`numeros = [3.1415, 0.201, 1000.003]` lista con todos valores **`float`**\n",
    "\n",
    "No es lo usual pero en una lista se pueden tener elementos de tipos diferentes\n",
    "\n",
    "`mejunje = [100, True, \"María\", -10.25]`\n",
    "\n",
    "La lista vacía se escribe `[]`\n",
    "\n",
    "Recuerde que cuando decimos valores de un tipo estamos hablando de cualquier expresión cuyo cómputo de un valor de dicho tipo, la siguiente es una lista correcta\n",
    "\n",
    "`pi = 3.14\n",
    "\n",
    "lista = [pi*2, enteros[2], len(mis_preferidos)] `\n",
    "\n",
    "Como los elementos de una lista pueden ser de cualquier tipo no hay ninguna restricción para que pueda ser a su vez una lista\n",
    "\n",
    "`superlista = [100, enteros, 1000]`"
   ]
  },
  {
   "cell_type": "code",
   "execution_count": 8,
   "id": "bce34e40fecf6a91",
   "metadata": {
    "ExecuteTime": {
     "end_time": "2025-09-29T16:40:22.926493Z",
     "start_time": "2025-09-29T16:40:22.892317Z"
    }
   },
   "outputs": [
    {
     "name": "stdout",
     "output_type": "stream",
     "text": [
      "[20, 10, 4, 30, -5]\n",
      "<class 'list'>\n",
      "El valor en la posición 3 es 30\n",
      "Soy ['chocolate', 'almendra', 'coco'] tengo 3 valores de tipo <class 'str'>\n",
      "[100, True, 'María', -10.25]\n",
      "Soy lista_vacia [] tengo longitud 0\n",
      "[6.28, 4, 3]\n",
      "[100, [20, 10, 4, 30, -5], 1000]\n"
     ]
    }
   ],
   "source": [
    "enteros = [20, 10, 4, 30, -5]\n",
    "print(enteros)\n",
    "print(type(enteros)) #lo único que dice del tipo es que es list pero no del tipo de los elementos\n",
    "print(f'El valor en la posición {3} es {enteros[3]}')\n",
    "\n",
    "mis_preferidos = [\"chocolate\", \"almendra\", \"coco\"]\n",
    "print(f'Soy {mis_preferidos} tengo {len(mis_preferidos)} valores de tipo {type(mis_preferidos[0])}')\n",
    "\n",
    "mejunje = [100, True, \"María\", -10.25]\n",
    "print(mejunje)\n",
    "\n",
    "lista_vacia = []\n",
    "print(f'Soy lista_vacia {lista_vacia} tengo longitud {len(lista_vacia)}')\n",
    "\n",
    "pi = 3.14\n",
    "lista = [pi*2, enteros[2], len(mis_preferidos)]\n",
    "print(lista)\n",
    "\n",
    "superlista = [100, enteros, 1000]\n",
    "print(superlista)"
   ]
  },
  {
   "cell_type": "markdown",
   "id": "28845dc154bfee8f",
   "metadata": {},
   "source": [
    "## 4.1 Recorrer los elementos de una lista para buscar\n",
    "Los elementos de una lista son recorribles con un ciclo for\n",
    "\n",
    "`enteros = [20, 10, 4, 30, -5]`\n",
    "\n",
    "`for k in enteros: print(k)`\n",
    "\n",
    "los elementos de una lista también pueden ser recorridos por la posición. El siguiente ciclo escribe un resultado similar al anterior\n",
    "\n",
    "`for i in range(0, len(enteros)): print(enteros[i])`\n",
    "\n",
    "Si no se necesita usar la posición para algún propósito es preferible usar la primera variante porque es más eficiente que la segunda\n",
    "\n",
    "En la primera variante del siguiente código se recorren los elementos de la lista `enteros `para hallar el mayor y el menor. En la segunda variante queremos también conocer la posición de cada uno dentro de la lista"
   ]
  },
  {
   "cell_type": "code",
   "execution_count": 4,
   "id": "a720b78b3d960695",
   "metadata": {
    "ExecuteTime": {
     "end_time": "2025-09-29T16:57:38.969948Z",
     "start_time": "2025-09-29T16:57:38.963921Z"
    }
   },
   "outputs": [
    {
     "name": "stdout",
     "output_type": "stream",
     "text": [
      "La lista es [20, 10, 4, 30, -5, 22, -15, 33] el menor es -15 y el mayor es 33\n"
     ]
    }
   ],
   "source": [
    "enteros = [20, 10, 4, 30, -5, 22, -15, 33]\n",
    "menor = mayor = enteros[0] #Habría que asegurarse que la lista tiene al menos un elemento\n",
    "for k in enteros:\n",
    "    if k < menor:\n",
    "        menor = k\n",
    "    elif k > mayor:\n",
    "        mayor = k\n",
    "print(f'La lista es {enteros} el menor es {menor} y el mayor es {mayor}')\n",
    "\n"
   ]
  },
  {
   "cell_type": "code",
   "execution_count": null,
   "id": "6092e31cb292ff35",
   "metadata": {
    "ExecuteTime": {
     "end_time": "2025-09-29T17:01:49.857713Z",
     "start_time": "2025-09-29T17:01:49.839059Z"
    }
   },
   "outputs": [
    {
     "name": "stdout",
     "output_type": "stream",
     "text": [
      "La lista es [-1] el menor es -1 está en la posición 0 y el mayor es -1 está en la posición 0\n"
     ]
    }
   ],
   "source": [
    "enteros = [20, 10, 40, 30, -15, 22, 0, 33]\n",
    "# enteros = [20, 20, 20] #probar con esta otra variante\n",
    "# enteros = [-1] #probar con esta otra variante\n",
    "menor = mayor = enteros[0] #Habría que asegurarse que la lista tiene al menos un elemento\n",
    "pos_menor = pos_mayor = 0\n",
    "for i in range(len(enteros)):\n",
    "    if enteros[i] < menor:\n",
    "        menor = enteros[i]\n",
    "        pos_menor = i\n",
    "    elif enteros[i] > mayor:\n",
    "        mayor = enteros[i]\n",
    "        pos_mayor = i\n",
    "print(f'La lista es {enteros} el menor es {menor} está en la posición {pos_menor} y el mayor es {mayor}'\n",
    "      f' está en la posición {pos_mayor}')"
   ]
  },
  {
   "cell_type": "markdown",
   "id": "5a28e86ffb05d5c2",
   "metadata": {},
   "source": [
    "## 4.2 Crear una lista y añadir elementos a una lista\n",
    "Las listas pueden crecer, durante la ejecución de un programa se pueden añadir dinámicamente elementos a una lista. Esto aporta genericidad a la programación en comparación con usar variables con nombres cuando no podemos saber de antemanos cuántas variables vamos a necesitar. Con una lista podemos entonces almacenar valores y luego poder referirnos a ellos a través del nombre de la variable cuyo valor es una lista y la posición del elemento dentro de la lista\n",
    "\n",
    "`lista = [...]` inicializar una lista y más adelante podemos referinos a sus elementos `lista[posicion]`\n",
    "\n",
    "A una lista se le pueden añadir elementos concatenandole valores con la operación `+` o con la función `append`\n",
    "\n",
    "`lista = lista + otra_lista`,   `lista.append(otra_lista)`\n"
   ]
  },
  {
   "cell_type": "code",
   "execution_count": 11,
   "id": "a278adf9bcdbc195",
   "metadata": {},
   "outputs": [
    {
     "name": "stdout",
     "output_type": "stream",
     "text": [
      "[20, 10, 40, 30, -15, 22, 0, 33, 555]\n",
      "[20, 10, 40, 30, -15, 22, 0, 33, 555, 111]\n"
     ]
    }
   ],
   "source": [
    "enteros = [20, 10, 40, 30, -15, 22, 0, 33]\n",
    "enteros = enteros + [555]\n",
    "print(enteros)\n",
    "enteros.append(111)\n",
    "print(enteros)"
   ]
  },
  {
   "cell_type": "markdown",
   "id": "d804d355f5884da2",
   "metadata": {},
   "source": [
    "El siguiente código nos muestra dos variantes para a partir de una lista de cadenas crear otra lista solo con aquellas que enpiezan con la letra \"a\", \"A\" o con \"b\", \"B\""
   ]
  },
  {
   "cell_type": "code",
   "execution_count": 6,
   "id": "5aba462196900cd9",
   "metadata": {
    "ExecuteTime": {
     "end_time": "2025-09-29T17:12:25.935938Z",
     "start_time": "2025-09-29T17:12:25.923545Z"
    }
   },
   "outputs": [
    {
     "name": "stdout",
     "output_type": "stream",
     "text": [
      "['Juana', 'María', 'carlos', 'Ana', 'Bertha', 'ada', 'Augusta', 'Calixto']\n",
      "Empiezan con A o a ['Ana', 'ada', 'Augusta']\n",
      "Empiezan con B o b ['Bertha']\n"
     ]
    }
   ],
   "source": [
    "nombres = [\"Juana\", \"María\", \"carlos\", \"Ana\", \"Bertha\", \"ada\", \"Augusta\", \"Calixto\"]\n",
    "print(nombres)\n",
    "nombres_con_a = []\n",
    "nombres_con_b = []\n",
    "for nombre in nombres:\n",
    "    if nombre[0] == 'A' or nombre[0] == 'a':\n",
    "        nombres_con_a.append(nombre)\n",
    "    elif nombre[0] == 'B' or nombre[0] == 'b':\n",
    "        nombres_con_b += [nombre]\n",
    "print(f'Empiezan con A o a {nombres_con_a}')\n",
    "print(f'Empiezan con B o b {nombres_con_b}')"
   ]
  },
  {
   "cell_type": "markdown",
   "id": "8dad5765a06e9919",
   "metadata": {},
   "source": [
    "### 4.2.1 Expresión para formar una lista directamente\n",
    "\n",
    "Se puede formar una lista directamente con una expresión de la forma\n",
    "\n",
    "`nueva_lista = [x for x in lista_original if condicion(x)]`\n",
    "\n",
    "esta forma de crear una lista es mucho más eficiente que usando `append` o concatenación `+`\n",
    "\n",
    "Usando un ejemplo similar al anterior ahora podemos crear una lista con los nombres que empiezan con \"C\" o \"c\""
   ]
  },
  {
   "cell_type": "code",
   "execution_count": 12,
   "id": "6374ed144ca9d108",
   "metadata": {},
   "outputs": [
    {
     "name": "stdout",
     "output_type": "stream",
     "text": [
      "['Juana', 'María', 'carlos', 'Ana', 'Bertha', 'ada', 'Augusta', 'Calixto']\n",
      "Empiezan con A o a ['Ana', 'ada', 'Augusta']\n",
      "Empiezan con B o b ['Bertha']\n",
      "Empiezan con C o c ['carlos', 'Calixto']\n",
      "Empiezan con D o d []\n"
     ]
    }
   ],
   "source": [
    "nombres = [\"Juana\", \"María\", \"carlos\", \"Ana\", \"Bertha\", \"ada\", \"Augusta\", \"Calixto\"]\n",
    "print(nombres)\n",
    "nombres_con_a = []\n",
    "nombres_con_b = []\n",
    "for nombre in nombres:\n",
    "    if nombre[0] == 'A' or nombre[0] == 'a':\n",
    "        nombres_con_a.append(nombre)\n",
    "    elif nombre[0] == 'B' or nombre[0] == 'b':\n",
    "        nombres_con_b += [nombre]\n",
    "print(f'Empiezan con A o a {nombres_con_a}')\n",
    "print(f'Empiezan con B o b {nombres_con_b}')\n",
    "nombres_con_c = [x for x in nombres if x[0] == \"C\"or x[0] == \"c\"]\n",
    "print(f'Empiezan con C o c {nombres_con_c}')\n",
    "nombres_con_d = [x for x in nombres if x[0] == \"D\"or x[0] == \"d\"]\n",
    "print(f'Empiezan con D o d {nombres_con_d}')"
   ]
  },
  {
   "cell_type": "markdown",
   "id": "3badc4bb54fd18e2",
   "metadata": {},
   "source": [
    "#### Probando la eficiencia de las tres variantes\n",
    "El siguiente código crea tres listas del mismo tamaño y con los mismos valores usando concatenación con + [] con append y por una expresión via directa"
   ]
  },
  {
   "cell_type": "code",
   "execution_count": 13,
   "id": "550f52b65a75a704",
   "metadata": {
    "ExecuteTime": {
     "end_time": "2025-09-29T17:20:42.905222Z",
     "start_time": "2025-09-29T17:20:42.283739Z"
    }
   },
   "outputs": [
    {
     "name": "stdout",
     "output_type": "stream",
     "text": [
      "con concat para 1000000 son 0.44208312034606934 segs\n",
      "con apped para  1000000 son 0.3702256679534912 segs\n",
      "en directo para 1000000 son 0.21365070343017578 segs\n",
      "Que las tres listas son iguales es True\n"
     ]
    }
   ],
   "source": [
    "import time\n",
    "n = 1_000_000\n",
    "\n",
    "numeros_concat = []\n",
    "inicial = time.time()\n",
    "for k in range(n):\n",
    "    numeros_concat += [k]\n",
    "demora = time.time() - inicial\n",
    "print(f'con concat para {n} son {demora} segs')\n",
    "\n",
    "numeros_append = []\n",
    "inicial = time.time()\n",
    "for k in range(n):\n",
    "    numeros_append.append(k)\n",
    "demora = time.time() - inicial\n",
    "print(f'con apped para  {n} son {demora} segs')\n",
    "\n",
    "inicial = time.time()\n",
    "numeros = [k for k in range(n)]\n",
    "demora = time.time() - inicial\n",
    "print(f'en directo para {n} son {demora} segs')\n",
    "\n",
    "print(f'Que las tres listas son iguales es {numeros_concat==numeros_append==numeros}')"
   ]
  },
  {
   "cell_type": "markdown",
   "id": "119c832ca915811b",
   "metadata": {},
   "source": [
    "### 4.2.2 Crear e inicializar listas\n",
    "\n",
    "Las listas son una forma de estructuras de datos que nos permiten conservar datos en memoria para poder utilizarlos en otra parte del programa. Aunque en los ejemplos anteriores hemos usado listas en la que escribimos explícitamente todos los valores por lo general las listas suelen estar formadas por datos que se obtienen de fuentes \"externas\" al programa (con un input por ejemplo). Esto se verá más adelante.\n",
    "\n",
    "Para ejercitar y ejemplificar operaciones con listas puede ser útil poder crear listas de forma fácil. El siguiente código nos muestra como crear una lista de n elementos con valores aleatorios que pueden estar entre 0 y m\n",
    "\n",
    "Utilizamos en este código la función `randint(0, m`) que importamos del módulo `random` y que produce enteros aleatorios con valores entre `0 `y `m `(como si tiraramos un dado de m+1 caras). Note el uso del símbolo `_ `dentro del for esto suele hacerse cuando no tenemos interés en usar la variable de recorrido del **for**"
   ]
  },
  {
   "cell_type": "code",
   "execution_count": null,
   "id": "726e90f04fb7a85b",
   "metadata": {
    "ExecuteTime": {
     "end_time": "2025-09-29T17:25:37.189030Z",
     "start_time": "2025-09-29T17:25:37.181887Z"
    }
   },
   "outputs": [
    {
     "name": "stdout",
     "output_type": "stream",
     "text": [
      "Una lista de 10 elementos con valores enteros entre 0 y 100 [7, 3, 2, 2, 5, 4, 6, 3, 7, 7]\n",
      "Una lista de 10 elementos con valores enteros entre 0 y 3 [3, 2, 1, 3, 1, 0, 2, 3, 2, 2]\n",
      "[4, 5, 6]\n"
     ]
    }
   ],
   "source": [
    "import random\n",
    "n = 10\n",
    "m = 100\n",
    "lista=[2,3,4,5,6,7,8]\n",
    "enteros = [random.randint(0, m) for _ in range(n)]\n",
    "print(f'Una lista de {n} elementos con valores enteros entre 0 y {m} {enteros}')\n",
    "#cambiamos valor de m para que haya repetidos\n",
    "m = 3\n",
    "conrepetidos = [random.randint(0, m) for _ in range(n)]\n",
    "print(f'Una lista de {n} elementos con valores enteros entre 0 y {m} {conrepetidos}')\n",
    "\n",
    "#COSAS MIAS \n",
    "\n",
    "#lista = [int(input()) for _ in range(3)]\n",
    "#print(lista)\n",
    "\n",
    "#lista=[2,3,4,5,6,7,8]\n",
    "#random_list = [random.randint(lista[0], lista[6]) for _ in range(n)]\n",
    "#print(random_list)"
   ]
  },
  {
   "cell_type": "markdown",
   "id": "8df5c663836bebdf",
   "metadata": {},
   "source": [
    "## 4.3 Comparación y mutabilidad de listas\n",
    "\n",
    "Las listas son de las estructuras mas utilizadas en el trabajo con datos. Son estructuras **mutables**, es decir que se le puede modificar el valor a una componente, quiere decir que si una variable `L` tiene como valor una _lista_ se le puede cambiar el valor de una componente con una asignación de la forma L[_posición_] = _valor_\n",
    "\n",
    "Dos variables que tengan como valor una lista son iguales a los efectos de la comparación `== `si sus elementos tienen los mismos valores componente a componente es decir son iguales posición por posición.\n",
    "\n",
    "Si a una variable `otra_lista` se le asigna el valor de una variable `list`a ambas variables se refieren a **LA MISMA LISTA**. Esto quiere decir que un cambio que se le haga por la vía de una de las variables se refleja en la misma lista.\n",
    "\n",
    "Dos variables listas pueden ser iguales pero no ser la misma lista, de modo que un cambio que se haga por una vía no se refleja en la otra.\n",
    "\n",
    "Analice el código a continuación para ver todas estas situaciones.\n",
    "\n",
    "**NOTA La mutabilidad de las listas es conveniente para la mayoría de las aplicaciones. Pero es resposabilidad del programador y la aplicación de las buenas prácticas no provocar efectos no deseados según las modificaciones que haga sobre las listas. Los caracteres de una cadena aunque pueden ser accedidas por posición no son mutables.**"
   ]
  },
  {
   "cell_type": "code",
   "execution_count": null,
   "id": "a8ed928b55494a57",
   "metadata": {
    "ExecuteTime": {
     "end_time": "2025-09-29T17:30:15.963685Z",
     "start_time": "2025-09-29T17:30:15.952108Z"
    }
   },
   "outputs": [
    {
     "name": "stdout",
     "output_type": "stream",
     "text": [
      "[10, 20, 30]\n",
      "[10, 20, 30]\n",
      "[10, 20, 30]\n",
      "[10, 20, 30]\n",
      "lista==otra_lista==una_copia==segunda_copia es True\n",
      "\n",
      "Hago un cambio (mutable) en una componente de lista y una componente de otra_lista\n",
      "lista [10, 22, 33]\n",
      "otra_lista [10, 22, 33]\n",
      "una_copia [10, 20, 30]\n",
      "segunda_copia [10, 20, 30]\n",
      "lista==otra_lista es True\n",
      "lista==una_copia es False\n",
      "una_copia==segunda_copia es True\n",
      "\n",
      "Hago un cambio (mutable) en una componente de una_copia (no debe reflejarse en la segunda_copia\n",
      "una_copia [1000, 20, 30]\n",
      "segunda_copia [10, 20, 30]\n",
      "Luego de los cambios una_copia==segunda_copia es False\n",
      "\n"
     ]
    }
   ],
   "source": [
    "lista = [10, 20, 30]\n",
    "otra_lista = lista\n",
    "una_copia = [10, 20, 30]\n",
    "segunda_copia = [x for x in lista]\n",
    "print(lista)\n",
    "print(otra_lista)\n",
    "print(una_copia)\n",
    "print(segunda_copia)\n",
    "print(f'lista==otra_lista==una_copia==segunda_copia es {lista==otra_lista==una_copia==segunda_copia}')\n",
    "#el resultado debe ser true porque aunque on realmente tres listas son iguales componente a componente\n",
    "print()\n",
    "\n",
    "#Probando la mutabilidad de las listas\n",
    "lista[1] = 22\n",
    "otra_lista[2] = 33\n",
    "print('Hago un cambio (mutable) en una componente de lista y una componente de otra_lista')\n",
    "print(f'lista {lista}')\n",
    "print(f'otra_lista {otra_lista}')\n",
    "print(f'una_copia {una_copia}')\n",
    "print(f'segunda_copia {segunda_copia}')\n",
    "print(f'lista==otra_lista es {lista==otra_lista}') #sigue siendo true porque lista y otra_lista son la misma lista\n",
    "print(f'lista==una_copia es {lista==una_copia}') #la lista modificada ya no son iguales a una_copia\n",
    "print(f'una_copia==segunda_copia es {una_copia==segunda_copia}') #las dos copias siguen siendo iguales entre sí porque lo son componente a componente\n",
    "print()\n",
    "\n",
    "print('Hago un cambio (mutable) en una componente de una_copia (no debe reflejarse en la segunda_copia')\n",
    "una_copia[0] = 1000\n",
    "print(f'una_copia {una_copia}')\n",
    "print(f'segunda_copia {segunda_copia}')\n",
    "print(f'Luego de los cambios una_copia==segunda_copia es {una_copia==segunda_copia}') #como una_copia y segunda_copia no eran la misma lista luego de un cambio ya no son necesariamente iguales\n",
    "print()\n",
    "\n",
    "##Las cadenas no son listas sus caracteres no son mutables, el siguiente código daría error\n",
    "# nombre = \"Mario\"\n",
    "# print(nombre)\n",
    "# nombre[3] = 'í'\n",
    "# nombre[4] = 'a'\n",
    "# print(nombre)"
   ]
  },
  {
   "cell_type": "markdown",
   "id": "ea244adce4fb0978",
   "metadata": {},
   "source": [
    "## 4.4 EJERCICIOS\n",
    "1. Genere una lista con los impares de un intervalo\n",
    "2. Vaya leyendo con input una secuencia de enteros hasta que teclee solo cambio de linea. Cree una lista con todos los valores enteros leídos\n",
    "3. Lea una secuencia de enteros donde el primer valor que se lea es la cantidad de enteros que se escribirá a continuación, escriba el resultado de la suma y del producto de todos ellos\n",
    "4. A partir de una lista de cadenas genere una lista con aquellas cadenas que tengan longitud mayor que un valor N\n",
    "5. A partir de una lista de enteros, que puede tener valores repetidos, genere una lista con los mismos valores pero sin repetidos\n",
    "\n",
    "**MOTIVACIONALES**\n",
    "\n",
    "6. *A partir de una lista1 y una lista2 genere una lista comunes que contenga solo los valores que están en ambas listas\n",
    "7. *Si una lista polinomio `p` de longitud `n+1` representa los coeficientes de un polinomio de grado `n `calcule el valor del polinomio para un cierto valor `x`. Es decir que el valor a calcular sería `p[n]*(x**n) + p[n-1]*(x**(n-1)) + ... p[1]*x + p[0]`\n",
    "8. *A partir de una lista de valores enteros genere una lista con los mismos valores pero ordenada de menor a mayor. No use la función sort de Python"
   ]
  }
 ],
 "metadata": {
  "kernelspec": {
   "display_name": "Python 3",
   "language": "python",
   "name": "python3"
  },
  "language_info": {
   "codemirror_mode": {
    "name": "ipython",
    "version": 3
   },
   "file_extension": ".py",
   "mimetype": "text/x-python",
   "name": "python",
   "nbconvert_exporter": "python",
   "pygments_lexer": "ipython3",
   "version": "3.11.9"
  }
 },
 "nbformat": 4,
 "nbformat_minor": 5
}
