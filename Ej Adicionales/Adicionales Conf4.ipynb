{
 "cells": [
  {
   "cell_type": "markdown",
   "id": "e94b309b",
   "metadata": {},
   "source": [
    "### Ejercicios Adicionales Conf4"
   ]
  },
  {
   "cell_type": "markdown",
   "id": "58e29138",
   "metadata": {},
   "source": [
    "1. Genere una lista con los impares de un intervalo"
   ]
  },
  {
   "cell_type": "code",
   "execution_count": 4,
   "id": "53b6d241",
   "metadata": {},
   "outputs": [
    {
     "name": "stdout",
     "output_type": "stream",
     "text": [
      "[-3, -1, 1, 3, 5, 7, 9]\n"
     ]
    }
   ],
   "source": [
    "begin = int(input(\"writw a number\"))\n",
    "end = int(input(\"write a number\"))\n",
    "odd_list = [x for x in range(begin, end) if x % 2 != 0]\n",
    "print(odd_list)"
   ]
  },
  {
   "cell_type": "markdown",
   "id": "b6c1bab4",
   "metadata": {},
   "source": [
    "2. Vaya leyendo con input una secuencia de enteros hasta que teclee solo cambio de linea. Cree una lista con todos los valores enteros leídos"
   ]
  },
  {
   "cell_type": "code",
   "execution_count": 3,
   "id": "e1b843ce",
   "metadata": {},
   "outputs": [
    {
     "name": "stdout",
     "output_type": "stream",
     "text": [
      "[3, 4, 5]\n"
     ]
    }
   ],
   "source": [
    "num_list = []\n",
    "while True:\n",
    "    num = input(\"write a number\")\n",
    "    if num == \"\":\n",
    "        break\n",
    "    num_list.append(int(num))\n",
    "print(num_list)"
   ]
  },
  {
   "cell_type": "markdown",
   "id": "89fa7d1f",
   "metadata": {},
   "source": [
    "3. Lea una secuencia de enteros donde el primer valor que se lea es la cantidad de enteros que se escribirá a continuación, escriba el resultado de la suma y del producto de todos ellos"
   ]
  },
  {
   "cell_type": "code",
   "execution_count": 6,
   "id": "808c48bf",
   "metadata": {},
   "outputs": [
    {
     "name": "stdout",
     "output_type": "stream",
     "text": [
      "the sum is 2 and the product is 1\n"
     ]
    }
   ],
   "source": [
    "num = int(input(\"write list size\"))\n",
    "num_list = [int(input(\"write a number\")) for _ in range(num)]\n",
    "sum = 0 \n",
    "product = 1\n",
    "for c in num_list:\n",
    "    sum += c\n",
    "    product *= c\n",
    "print(f\"the sum is {sum} and the product is {product}\")"
   ]
  },
  {
   "cell_type": "markdown",
   "id": "d105d765",
   "metadata": {},
   "source": [
    "4. A partir de una lista de cadenas genere una lista con aquellas cadenas que tengan longitud mayor que un valor N"
   ]
  },
  {
   "cell_type": "code",
   "execution_count": null,
   "id": "5ebe2aa8",
   "metadata": {},
   "outputs": [],
   "source": []
  },
  {
   "cell_type": "markdown",
   "id": "9db071db",
   "metadata": {},
   "source": [
    "5. A partir de una lista de enteros, que puede tener valores repetidos, genere una lista con los mismos valores pero sin repetidos"
   ]
  },
  {
   "cell_type": "code",
   "execution_count": null,
   "id": "932078b6",
   "metadata": {},
   "outputs": [],
   "source": []
  },
  {
   "cell_type": "markdown",
   "id": "4ef029cf",
   "metadata": {},
   "source": [
    "6. A partir de una lista1 y una lista2 genere una lista comunes que contenga solo los valores que están en ambas listas"
   ]
  },
  {
   "cell_type": "code",
   "execution_count": null,
   "id": "23e6b3d7",
   "metadata": {},
   "outputs": [],
   "source": []
  },
  {
   "cell_type": "markdown",
   "id": "d557a498",
   "metadata": {},
   "source": [
    "7. Si una lista polinomio `p` de longitud `n+1` representa los coeficientes de un polinomio de grado `n `calcule el valor del polinomio para un cierto valor `x`. Es decir que el valor a calcular sería `p[n]*(x**n) + p[n-1]*(x**(n-1)) + ... p[1]*x + p[0]`"
   ]
  },
  {
   "cell_type": "code",
   "execution_count": null,
   "id": "296b48b3",
   "metadata": {},
   "outputs": [],
   "source": []
  },
  {
   "cell_type": "markdown",
   "id": "62e1101b",
   "metadata": {},
   "source": [
    "8. A partir de una lista de valores enteros genere una lista con los mismos valores pero ordenada de menor a mayor. No use la función sort de Python"
   ]
  },
  {
   "cell_type": "code",
   "execution_count": null,
   "id": "57f74fae",
   "metadata": {},
   "outputs": [],
   "source": []
  }
 ],
 "metadata": {
  "kernelspec": {
   "display_name": "Python 3",
   "language": "python",
   "name": "python3"
  },
  "language_info": {
   "codemirror_mode": {
    "name": "ipython",
    "version": 3
   },
   "file_extension": ".py",
   "mimetype": "text/x-python",
   "name": "python",
   "nbconvert_exporter": "python",
   "pygments_lexer": "ipython3",
   "version": "3.11.9"
  }
 },
 "nbformat": 4,
 "nbformat_minor": 5
}
