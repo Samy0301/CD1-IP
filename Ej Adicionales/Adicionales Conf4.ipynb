{
 "cells": [
  {
   "cell_type": "markdown",
   "id": "e94b309b",
   "metadata": {},
   "source": [
    "### Ejercicios Adicionales Conf4"
   ]
  }
 ],
 "metadata": {
  "language_info": {
   "name": "python"
  }
 },
 "nbformat": 4,
 "nbformat_minor": 5
}
