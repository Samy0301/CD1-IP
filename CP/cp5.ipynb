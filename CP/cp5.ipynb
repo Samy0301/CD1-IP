{
 "cells": [
  {
   "cell_type": "markdown",
   "id": "53702c82",
   "metadata": {},
   "source": [
    "Sin usar las funciones `sort` ni `sorted` de Python ordene una lista de cadenas (string) pero por la longitud las mismas no por el ordel alfabético"
   ]
  },
  {
   "cell_type": "code",
   "execution_count": 1,
   "id": "93fb2903",
   "metadata": {},
   "outputs": [
    {
     "name": "stdout",
     "output_type": "stream",
     "text": [
      "['Ada', 'Juan', 'Mario', 'Pedro', 'María', 'María', 'Adalberto']\n"
     ]
    }
   ],
   "source": [
    "lista = [\"María\", \"Juan\", \"Mario\", \"Pedro\", \"María\",\"Ada\", \"Adalberto\"]\n",
    "\n",
    "for i in range(len(lista)):\n",
    "    pos_min = i\n",
    "    for j in range(i + 1, len(lista)):\n",
    "        if len(lista[j]) < len(lista[pos_min]):\n",
    "                pos_min = j\n",
    "    lista[i], lista[pos_min] = lista[pos_min], lista[i]\n",
    "print(lista)"
   ]
  },
  {
   "cell_type": "markdown",
   "id": "f6aa62da",
   "metadata": {},
   "source": [
    "Modifique el código de la búsqueda binaria para que diga cuántas iteraciones hicieron falta para encontrar un valor o para saber que el valor no está en la lista"
   ]
  },
  {
   "cell_type": "code",
   "execution_count": null,
   "id": "677214e8",
   "metadata": {},
   "outputs": [
    {
     "name": "stdout",
     "output_type": "stream",
     "text": [
      "Valor 98 no encontrado, se realizaron 4 iteraciones\n"
     ]
    }
   ],
   "source": [
    "lista = [1, 3, 5, 7, 9, 11, 13, 15, 17, 19]\n",
    "obj = 98\n",
    "\n",
    "left = 0\n",
    "right = len(lista) - 1\n",
    "i = 0\n",
    "find = False\n",
    "while left <= right:\n",
    "    i += 1\n",
    "    medio = (left + right) // 2\n",
    "    valor_medio = lista[medio]\n",
    "    if valor_medio == obj:\n",
    "        find = True\n",
    "        print(f\"Valor {obj} encontrado en {i} interaciones\")\n",
    "        break\n",
    "    elif valor_medio < obj:\n",
    "        left = medio + 1\n",
    "    else:\n",
    "        right = medio - 1\n",
    "if not find:\n",
    "    print(f\"Valor {obj} no encontrado, se realizaron {i} iteraciones\")"
   ]
  },
  {
   "cell_type": "markdown",
   "id": "aa0aa443",
   "metadata": {},
   "source": [
    "La sucesión de Fibonacci es una sucesión de números enteros en la que los dos primeros elementos son 1 y 1 y luego el elemento en una posición `n` es la suma de los dos elementos de las posiciones anteriores. Es decir la sucesión es\n",
    "\n",
    "     1, 1, 2, 3, 5, 8, 13, 21, ....\n",
    "   Escriba un código que dado un valor entero `n` cree la lista con los `n` primeros elementos de la suceción de Fibonacci"
   ]
  },
  {
   "cell_type": "code",
   "execution_count": 8,
   "id": "088355db",
   "metadata": {},
   "outputs": [
    {
     "name": "stdout",
     "output_type": "stream",
     "text": [
      "[1, 1, 2, 3, 5, 8, 13, 21]\n"
     ]
    }
   ],
   "source": [
    "fib = [1,1]\n",
    "n = int(input())\n",
    "for c in range(2,n):\n",
    "    fib.append(fib[c - 1] + fib[c - 2]) \n",
    "print(fib)"
   ]
  },
  {
   "cell_type": "markdown",
   "id": "c5f92613",
   "metadata": {},
   "source": [
    "Dadas dos listas `l1` y `l2` de valores de un mismo tipo verifique si los valores de `l1` están incluídos en `l2`"
   ]
  },
  {
   "cell_type": "code",
   "execution_count": null,
   "id": "1ebc2c84",
   "metadata": {},
   "outputs": [
    {
     "name": "stdout",
     "output_type": "stream",
     "text": [
      "Todos los valores de l1 están en l2\n"
     ]
    }
   ],
   "source": [
    "l1 = [3, 5, 7]\n",
    "l2 = [1, 3, 5, 7, 9, 11]\n",
    "\n",
    "complete = True\n",
    "for c in l1:\n",
    "    find = False\n",
    "    for d in l2:\n",
    "        if c == d:\n",
    "            find = True\n",
    "            break\n",
    "    if not find:\n",
    "        complete = False\n",
    "        break\n",
    "if complete:\n",
    "    print(\"Todos los valores de l1 están en l2\")\n",
    "else:\n",
    "    print(\"Al menos un valor de l1 no está en l2\")"
   ]
  },
  {
   "cell_type": "markdown",
   "id": "b1f8d204",
   "metadata": {},
   "source": [
    "Dadas dos listas `l1` y `l2` construya una lista **interseccion** formada solo por los elementos comunes que están en ambas listas"
   ]
  },
  {
   "cell_type": "code",
   "execution_count": 15,
   "id": "95cda871",
   "metadata": {},
   "outputs": [
    {
     "name": "stdout",
     "output_type": "stream",
     "text": [
      "[3, 5]\n"
     ]
    }
   ],
   "source": [
    "l1 = [3, 5, 2]\n",
    "l2 = [1, 3, 5, 7, 9, 11]\n",
    "\n",
    "l = []\n",
    "for c in l1:\n",
    "    if c in l2:\n",
    "        l.append(c)\n",
    "print(l)"
   ]
  },
  {
   "cell_type": "markdown",
   "id": "7b73eb0d",
   "metadata": {},
   "source": [
    "Dadas dos listas `l1` y `l2` construya una lista **union** con todos los elementos que están en `l1` y `l2`"
   ]
  },
  {
   "cell_type": "code",
   "execution_count": 18,
   "id": "63c658eb",
   "metadata": {},
   "outputs": [
    {
     "name": "stdout",
     "output_type": "stream",
     "text": [
      "[3, 5, 7, 1, 9, 11]\n"
     ]
    }
   ],
   "source": [
    "l1 = [3, 5, 7]\n",
    "l2 = [1, 3, 5, 7, 9, 11]\n",
    "\n",
    "l = [x for x in l1]\n",
    "for c in l2:\n",
    "    if c not in l:\n",
    "        l.append(c)\n",
    "print(l)"
   ]
  },
  {
   "cell_type": "markdown",
   "id": "ad5e5aa5",
   "metadata": {},
   "source": [
    "Diferencia, dadas dos listas `l1` y `l2` construya una lista **diferencia** con los elementos de `l1` que no están en `l2`"
   ]
  },
  {
   "cell_type": "code",
   "execution_count": 19,
   "id": "06c531b6",
   "metadata": {},
   "outputs": [
    {
     "name": "stdout",
     "output_type": "stream",
     "text": [
      "[2]\n"
     ]
    }
   ],
   "source": [
    "l1 = [3, 5, 2]\n",
    "l2 = [1, 3, 5, 7, 9, 11]\n",
    "\n",
    "l = []\n",
    "for c in l1:\n",
    "    if c not in l2:\n",
    "        l.append(c)\n",
    "print(l)"
   ]
  },
  {
   "cell_type": "markdown",
   "id": "7ac7fb2d",
   "metadata": {},
   "source": [
    "Dada una lista `l` y una lista `booleanos` formada solo por valores `True` o `False` construya una lista `resultado` solo con aquellos valores de `l` que corresponden con las posiciones que son `True` en la lista `booleanos` Por ejemplo si `l` es la lista `[20, 10, 5, 30]` y `booleanos` es la lista [`True, True, False, True]` la respuesta debe ser la lista `[20, 10, 30]`"
   ]
  },
  {
   "cell_type": "code",
   "execution_count": 20,
   "id": "2e398044",
   "metadata": {},
   "outputs": [
    {
     "name": "stdout",
     "output_type": "stream",
     "text": [
      "[1, 5, 7, 11]\n"
     ]
    }
   ],
   "source": [
    "l = [1, 3, 5, 7, 9, 11]\n",
    "b = [True, False, True, True, False, True]\n",
    "\n",
    "result = []\n",
    "for c in range(len(l)):\n",
    "    if b[c] == True:\n",
    "        result.append(l[c])\n",
    "print(result)"
   ]
  }
 ],
 "metadata": {
  "kernelspec": {
   "display_name": ".venv",
   "language": "python",
   "name": "python3"
  },
  "language_info": {
   "codemirror_mode": {
    "name": "ipython",
    "version": 3
   },
   "file_extension": ".py",
   "mimetype": "text/x-python",
   "name": "python",
   "nbconvert_exporter": "python",
   "pygments_lexer": "ipython3",
   "version": "3.11.9"
  }
 },
 "nbformat": 4,
 "nbformat_minor": 5
}
