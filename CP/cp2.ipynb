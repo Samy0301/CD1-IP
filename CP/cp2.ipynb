{
 "cells": [
  {
   "cell_type": "markdown",
   "id": "cc00d914e5d4a551",
   "metadata": {},
   "source": [
    "# CP2 Control de flujo: Condicionales"
   ]
  },
  {
   "cell_type": "markdown",
   "id": "3e97fc7a6bbc0d20",
   "metadata": {},
   "source": [
    "Hemos visto hasta el momento programas que se ejecutan como una secuencia continua de instrucciónes. Por ejemplo, leemos valores de entrada, hacemos operaciones con ellos e imprimimos los resultados al usuario. Pero el de flujo de ejecución no varía, son siempre las mismas instrucciones, no podemos saltarnos ni repetir ningún subconjunto de estas. En esta y las siguientes clases prácticas veremos herramientas para el control del flujo de ejecución de nuestros programas. Empezaremos por las condicionales. Pero antes recordemos nociones básicas"
   ]
  },
  {
   "cell_type": "markdown",
   "id": "721eca921979d632",
   "metadata": {},
   "source": [
    "### Igual como operación\n",
    "En computación vimos que existen dos conceptos con el operador de igualdad:\n",
    "- Asignación de variables\n",
    "- Comparación entre expresiones"
   ]
  },
  {
   "cell_type": "code",
   "execution_count": 1,
   "id": "25cbe23ef4d0b473",
   "metadata": {},
   "outputs": [
    {
     "name": "stdout",
     "output_type": "stream",
     "text": [
      "La variable asignada es: 5 de tipo <class 'int'>\n",
      "La comparación es: True de tipo <class 'bool'>\n"
     ]
    }
   ],
   "source": [
    "# Asignación\n",
    "variable = 5 # 5 puede ser sustituído por cualquier expresión\n",
    "print(f\"La variable asignada es: {variable} de tipo {type(variable)}\")\n",
    "\n",
    "# Comparación\n",
    "expression1 = 5 # puede ser sustituído por cualquier expresión\n",
    "expression2 = 2+3 # puede ser sustituído por cualquier expresión\n",
    "comparison = expression1 == expression2\n",
    "print(f\"La comparación es: {comparison} de tipo {type(comparison)}\")"
   ]
  },
  {
   "cell_type": "markdown",
   "id": "26909b0ec7c5e4a6",
   "metadata": {},
   "source": [
    "### Operaciones de comparación\n",
    "\n",
    "Las operaciones de comparación se aplican sobre tipos cualesquiera y devuelven un objeto de tipo bool. Las operaciones básicas son las siguientes:\n",
    "- **`a == b`** : `a` es igual a `b`\n",
    "- **`a != b`** : `a` es distinto a `b`\n",
    "- **`a > b`** : `a` es mayor estricto a `b`\n",
    "- **`a < b`** : `a` es menor estricto a `b`\n",
    "- **`a >= b`** : `a` es mayor o igual a `b`\n",
    "- **`a <= b`** : `a` es menor o igual a `b`"
   ]
  },
  {
   "cell_type": "code",
   "execution_count": 2,
   "id": "e683b47682dd0b95",
   "metadata": {},
   "outputs": [
    {
     "name": "stdout",
     "output_type": "stream",
     "text": [
      "1+2+3+4+5 >= 1*2*3*4*5 es: False\n",
      "'Cuba' != 'cuba' es: True\n"
     ]
    }
   ],
   "source": [
    "print(f\"1+2+3+4+5 >= 1*2*3*4*5 es: {1+2+3+4+5 >= 1*2*3*4*5}\")\n",
    "print(f\"'Cuba' != 'cuba' es: {'Cuba' != 'cuba'}\")"
   ]
  },
  {
   "cell_type": "markdown",
   "id": "39bc14b30d29dbbf",
   "metadata": {},
   "source": [
    "### Operadores lógicos sobre bools\n",
    "\n",
    "Teniendo una expresión de tipo `bool` podemos aplicarle los siguientes operadores lógicos:\n",
    "- **`not a`** : niega lo que esté en `a`. Si `a = true` entonces será `false` y si `a = false` entonces será `true`\n",
    "- **`a and b`** : conjunción. Se evalúa `true` solo si `a` y `b` son `true`\n",
    "- **`a or b`** : disyunción. Se evalúa `true` solo si alguna de las dos `a` o `b` son `true`"
   ]
  },
  {
   "cell_type": "markdown",
   "id": "b7b5a3608d50cebf",
   "metadata": {},
   "source": [
    "### Condiciones\n",
    "\n",
    "La idea general de una condición es: **si** una *condición es cierta* **entonces** *haré algo* **de lo contrario** *haré otra cosa*\n",
    "\n",
    "```\n",
    "             /\\\n",
    "            /  \\ condición\n",
    "      ------\\  /------\n",
    "      |      \\/       |\n",
    "      |               |\n",
    " [haz algo]     [haz otra cosa]\n",
    "```\n",
    "\n",
    "El código python que refleja la idea anterior sería\n",
    "\n",
    "```python\n",
    "if condition:\n",
    "    do_something\n",
    "    ...\n",
    "    ...\n",
    "else:\n",
    "    do_something_else\n",
    "    ...\n",
    "    ...\n",
    "```\n",
    "\n",
    "OJO: **Cada instrucción que forme parte del bloque de una rama condicional debe estar indentado con un nivel adicional, utilizando tabulación o espacios, para reflejar su pertenencia estructural.**"
   ]
  },
  {
   "cell_type": "code",
   "execution_count": 1,
   "id": "3cf6f62ca9991683",
   "metadata": {},
   "outputs": [
    {
     "name": "stdout",
     "output_type": "stream",
     "text": [
      "a of value 5 is odd\n",
      "END.\n"
     ]
    }
   ],
   "source": [
    "a = 5\n",
    "if a % 2 == 0:\n",
    "    print(f\"a of value {a} is even\")\n",
    "else:\n",
    "    print(f\"a of value {a} is odd\")\n",
    "print(\"END.\")"
   ]
  },
  {
   "cell_type": "markdown",
   "id": "132473ca94c59306",
   "metadata": {},
   "source": [
    "El bloque del **`else`** puede omitirse si no queremos ejecutar código específico cuando no se cumpla la condición\n",
    "\n",
    "```\n",
    "          [código]\n",
    "\n",
    "             /\\\n",
    "            /  \\ condición\n",
    "      ------\\  /\n",
    "      |      \\/\n",
    "      |\n",
    " [haz algo]\n",
    "\n",
    "          [código]\n",
    "```"
   ]
  },
  {
   "cell_type": "code",
   "execution_count": 2,
   "id": "635e2cd2a2c910a8",
   "metadata": {},
   "outputs": [
    {
     "name": "stdout",
     "output_type": "stream",
     "text": [
      "Mi valor al cuadrado es: 25\n"
     ]
    }
   ],
   "source": [
    "value = \"5\"\n",
    "if type(value) == str:\n",
    "    value = int(value)\n",
    "print(f\"Mi valor al cuadrado es: {value * value}\")"
   ]
  },
  {
   "cell_type": "markdown",
   "id": "7b29a7e1f2816b3f",
   "metadata": {},
   "source": [
    "Podemos también usar el keyword **`elif`** (else if) para añadir código que será ejecutado si se cumple su condición y no se cumplió la condición del **`if`** inicial ni ninguno de los **`elif`** anteriores. Si esta condición se cumple entonces no serán inspeccionados el resto de los **`elif`** que le sigan ni el **`else`** final\n",
    "\n",
    "```\n",
    "          [código]\n",
    "             /\\\n",
    "            /  \\ condición if\n",
    "      ------\\  /------\n",
    "      |      \\/       |\n",
    "      |               |\n",
    "   [algo 1]           |\n",
    "                     /\\\n",
    "                    /  \\ condición elif\n",
    "              ------\\  /------\n",
    "              |      \\/       |\n",
    "              |               |\n",
    "           [algo 2]           |\n",
    "                             /\\\n",
    "                            /  \\ condición elif\n",
    "                      ------\\  /------\n",
    "                      |      \\/       |\n",
    "                      |               |\n",
    "                   [algo 3]           |\n",
    "                                     /\\\n",
    "                                    /  \\ condición elif\n",
    "                              ------\\  /------\n",
    "                              |      \\/       |\n",
    "                              |               |\n",
    "                           [algo 4]           |\n",
    "                                             ...\n",
    "                                             ...\n",
    "                                             ...\n",
    "\n",
    "          [código]\n",
    "```"
   ]
  },
  {
   "cell_type": "code",
   "execution_count": null,
   "id": "55a796b5c3a2c7a6",
   "metadata": {},
   "outputs": [],
   "source": [
    "a = 5\n",
    "if a == 0:\n",
    "    print(\"a is 0\")\n",
    "elif a == 1:\n",
    "    print(\"a is 1\")\n",
    "elif a == 5:\n",
    "    print(\"a is 5\")\n",
    "elif a / 5 == 1: # This condition is also true\n",
    "    print(\"a is divided by 5\")\n",
    "else:\n",
    "    print(\"a is weird\")\n",
    "print(\"The End.\")"
   ]
  },
  {
   "cell_type": "markdown",
   "id": "2fb067b13c3218c6",
   "metadata": {},
   "source": [
    "Nota la diferencia entre ese código y este:"
   ]
  },
  {
   "cell_type": "code",
   "execution_count": null,
   "id": "d72de53f7d601a45",
   "metadata": {},
   "outputs": [
    {
     "name": "stdout",
     "output_type": "stream",
     "text": [
      "a is 1\n",
      "a is weird\n",
      "The End.\n"
     ]
    }
   ],
   "source": [
    "a = 1\n",
    "if a == 0:\n",
    "    print(\"a is 0\")\n",
    "if a == 1:\n",
    "    print(\"a is 1\")\n",
    "if a == 5:\n",
    "    print(\"a is 5\")\n",
    "if a / 5 == 1: # This condition is also true\n",
    "    print(\"a is divided by 5\")\n",
    "else:\n",
    "    print(\"a is weird\")\n",
    "print(\"The End.\")"
   ]
  },
  {
   "cell_type": "markdown",
   "id": "7a11818b773ef622",
   "metadata": {},
   "source": [
    "Esta sería la descripción del flujo del último ejemplo\n",
    "\n",
    "```\n",
    "          [código]\n",
    "\n",
    "             /\\\n",
    "            /  \\ condición if\n",
    "      ------\\  /\n",
    "      |      \\/\n",
    "      |\n",
    "   [algo 1]\n",
    "             /\\\n",
    "            /  \\ condición if\n",
    "      ------\\  /\n",
    "      |      \\/\n",
    "      |\n",
    "   [algo 2]\n",
    "             /\\\n",
    "            /  \\ condición if\n",
    "      ------\\  /\n",
    "      |      \\/\n",
    "      |\n",
    "   [algo 3]\n",
    "            ...\n",
    "            ...\n",
    "            ...\n",
    "             /\\\n",
    "            /  \\ condición if\n",
    "      ------\\  /------\n",
    "      |      \\/       |\n",
    "      |               |\n",
    "   [algo 4]      [algo else]\n",
    "\n",
    "          [código]\n",
    "```"
   ]
  },
  {
   "cell_type": "markdown",
   "id": "9753244ba38606",
   "metadata": {},
   "source": [
    "### Summary\n",
    "\n",
    "Branching\n",
    "- Programs execute code blocks when conditions are true\n",
    "- In an if-elif-elif…structure, the first condition that is True will\n",
    " be executed\n",
    "- Indentation matters in Python!"
   ]
  },
  {
   "cell_type": "markdown",
   "id": "86ef347e3eec79e8",
   "metadata": {},
   "source": [
    "## Ejercicios"
   ]
  },
  {
   "cell_type": "markdown",
   "id": "5350b9e5278d3dd3",
   "metadata": {},
   "source": [
    "1 Escriba un programa que reciba un número real cualquiera e imprima un mensaje particular si el número es positivo, negativo o 0\n",
    "```\n",
    "EJEMPLO\n",
    "\n",
    "Entrada\n",
    "> -68\n",
    "Salida\n",
    "\"El número es negativo\"\n",
    "\n",
    "Entrada\n",
    "> 14.36\n",
    "Salida\n",
    "\"El número es positivo\"\n",
    "\n",
    "Entrada\n",
    "> 0\n",
    "Salida\n",
    "\"El número es 0\"\n",
    "```"
   ]
  },
  {
   "cell_type": "code",
   "execution_count": null,
   "id": "20eb5c26ddf1626b",
   "metadata": {},
   "outputs": [
    {
     "name": "stdout",
     "output_type": "stream",
     "text": [
      "the number is 0\n"
     ]
    }
   ],
   "source": [
    "number = float(input(\"Give me a number \"))\n",
    "\n",
    "if number < 0:\n",
    "    print(\"the number is negative\")\n",
    "elif number > 0:\n",
    "    print(\"the number is positive\")\n",
    "else: \n",
    "    print(\"the number is 0\")"
   ]
  },
  {
   "cell_type": "markdown",
   "id": "78f9733469e653cb",
   "metadata": {},
   "source": [
    "2 Escriba un programa que reciba una palabra y compruebe si es un palíndromo\n",
    "\n",
    "```\n",
    "EJEMPLO\n",
    "\n",
    "Entrada\n",
    "> \"Arenera\"\n",
    "Salida\n",
    "\"Si, es un palíndromo\"\n",
    "\n",
    "Entrada\n",
    "> \"Mandado\"\n",
    "Salida\n",
    "\"Nop, no es un palíndromo\"\n",
    "```"
   ]
  },
  {
   "cell_type": "code",
   "execution_count": null,
   "id": "2f50b3f2df8a8084",
   "metadata": {},
   "outputs": [
    {
     "name": "stdout",
     "output_type": "stream",
     "text": [
      "ame is not a palindrome\n"
     ]
    }
   ],
   "source": [
    "word = input(\"Write a word \")\n",
    "\n",
    "if word == \"\".join(reversed(word)): \n",
    "    print(word + \" is a palindrome\")\n",
    "else:\n",
    "    print(f\"{word} is not a palindrome\")"
   ]
  },
  {
   "cell_type": "markdown",
   "id": "659788329d5ba45",
   "metadata": {},
   "source": [
    "3 Escriba un programa que reciba un número y devuelva todos los primos divisores de ese número menores o iguales que 13\n",
    "\n",
    "```\n",
    "EJEMPLO\n",
    "\n",
    "Entrada\n",
    "> 30030\n",
    "Salida\n",
    "\"Es divisible por: 2, 3, 5, 7, 11, 13\"\n",
    "\n",
    "Entrada\n",
    "> 3\n",
    "Salida\n",
    "\"Es divisible por: 3\"\n",
    "```"
   ]
  },
  {
   "cell_type": "code",
   "execution_count": null,
   "id": "684eec7327c745d3",
   "metadata": {},
   "outputs": [
    {
     "name": "stdout",
     "output_type": "stream",
     "text": [
      "Is divisible by 3\n"
     ]
    }
   ],
   "source": [
    "number = float(input(\"Write a number \"))\n",
    "result = \"Is divisible by \"\n",
    "coma_bool = True\n",
    "\n",
    "if number % 2 == 0:\n",
    "    result += \"2\"\n",
    "    coma_bool = False\n",
    "if number % 3 == 0:\n",
    "    if not coma_bool:\n",
    "        result += \",\"\n",
    "    result += \"3\"\n",
    "    coma_bool = False\n",
    "if number % 5 == 0:\n",
    "    if not coma_bool:\n",
    "        result += \",\"\n",
    "    result += \"5\"\n",
    "    coma_bool = False\n",
    "if number % 7 == 0:\n",
    "    if not coma_bool:\n",
    "        result += \",\"\n",
    "    result += \"7\"\n",
    "    coma_bool = False\n",
    "if number % 11 == 0:\n",
    "    if not coma_bool:\n",
    "        result += \",\"\n",
    "    result += \"11\"\n",
    "    coma_bool = False\n",
    "if number % 13 == 0:\n",
    "    if not coma_bool:\n",
    "        result += \",\"\n",
    "    result += \"13\"\n",
    "    coma_bool = False\n",
    "if coma_bool:\n",
    "    print(\"none divide it\")\n",
    "else: \n",
    "    print(result)"
   ]
  },
  {
   "cell_type": "markdown",
   "id": "6c4122b371365824",
   "metadata": {},
   "source": [
    "4 Escriba un programa que reciba el número del día, el número del mes y el número del año y diga si es una fecha válida. De ser válida debe escribir la fecha de la forma \"5 de mayo de 1978\"\n",
    "\n",
    "Nota que los años bisiestos tienen una cantidad de días diferentes\n",
    "```\n",
    "EJEMPLO\n",
    "\n",
    "Entrada\n",
    "> 30\n",
    "> 2\n",
    "> 2025\n",
    "Salida\n",
    "\"No es una fecha válida\"\n",
    "\n",
    "Entrada\n",
    "> 7\n",
    "> 13\n",
    "> 2020\n",
    "Salida\n",
    "\"No es una fecha válida\"\n",
    "\n",
    "Entrada\n",
    "> 8\n",
    "> 11\n",
    "> 2023\n",
    "Salida\n",
    "\"Es una fecha válida\"\n",
    "\"Representa el 8 de noviembre de 2020\"\n",
    "```\n"
   ]
  },
  {
   "cell_type": "code",
   "execution_count": null,
   "id": "fe49e2510e3950a2",
   "metadata": {},
   "outputs": [
    {
     "name": "stdout",
     "output_type": "stream",
     "text": [
      "invalid year\n",
      "invalid month\n",
      "invalid day\n"
     ]
    }
   ],
   "source": [
    "day = int(input(\"Write a number \"))\n",
    "month = int(input(\"Write a number \"))\n",
    "year = int(input(\"Write a number \"))\n",
    "\n",
    "if year < 0: print(\"invalid year\")\n",
    "\n",
    "if year % 4 == 0 or year % 100 != 0 or year % 400 == 0:\n",
    "    leap_year = True\n",
    "else:\n",
    "    leap_year = False\n",
    "\n",
    "if month < 1 or month > 12:\n",
    "    print(\"invalid month\")\n",
    "    max_day = -1\n",
    "elif month == 1 or month == 3 or month == 5 or month == 7 or month == 8 or month == 10 or month == 12:\n",
    "    max_day = 31\n",
    "elif month == 4 or month == 6 or month == 9 or month == 11:\n",
    "    max_day = 30\n",
    "elif month == 2:\n",
    "    if leap_year:\n",
    "        max_day = 29\n",
    "    else:\n",
    "        max_day = 28\n",
    "\n",
    "if day < 0 or day > max_day:\n",
    "    print(\"invalid day\")\n",
    "else:\n",
    "    if month == 1:\n",
    "       month = \"enero\"\n",
    "    elif month == 2:\n",
    "       month = \"febrero\"\n",
    "    elif month == 3:\n",
    "       month = \"marzo\"\n",
    "    elif month == 4:\n",
    "       month = \"abril\"\n",
    "    elif month == 5:\n",
    "       month = \"mayo\"\n",
    "    elif month == 6:\n",
    "       month = \"junio\"\n",
    "    elif month == 7:\n",
    "       month = \"julio\"\n",
    "    elif month == 8:\n",
    "       month = \"agosto\"\n",
    "    elif month == 9:\n",
    "       month = \"septiembre\"\n",
    "    elif month == 10:\n",
    "       month = \"octubre\"\n",
    "    elif month == 11:\n",
    "       month = \"noviembre\"\n",
    "    elif month == 12:\n",
    "       month = \"diciembre\"  \n",
    "    print(f\"{day} de {month} del {year}\")      \n",
    "\n",
    "\n"
   ]
  },
  {
   "cell_type": "markdown",
   "id": "833ee65cf92fcdae",
   "metadata": {},
   "source": [
    "5 Dadas 3 cadenas de adn(dadas en el propio código) el usuario introducirá una subsecuencia de adn usando las iniciales de las bases nitrogenadas y dos índices. Haga un programa que devuelva la cadena que contenga la subsecuencia en el margen de índices establecidos. Note que el tamaño de la subsecuencia va a ser igual a la diferencia entre los índices a buscar.\n",
    "\n",
    "```\n",
    "EJEMPLO\n",
    "\n",
    "Entrada\n",
    "> \"GCA\"\n",
    "> 1\n",
    "> 4\n",
    "Salida\n",
    "\"La subsecuencia está contenida en las cadenas: 1, 3\"\n",
    "\n",
    "Entrada\n",
    "> \"ATTC\"\n",
    "> 2\n",
    "> 6\n",
    "Salida\n",
    "\"La subsecuencia no está contenida\"\n",
    "```"
   ]
  },
  {
   "cell_type": "code",
   "execution_count": null,
   "id": "bf1be42bf0bc1f08",
   "metadata": {},
   "outputs": [
    {
     "name": "stdout",
     "output_type": "stream",
     "text": [
      "la subsecuencia esta contenida en las cadenas 1,2\n"
     ]
    }
   ],
   "source": [
    "secuencia1 = \"AGCATACGGTACGTTAGGCTACCTAGGTAC\"\n",
    "secuencia2 = \"CCGTATAGGCTAGCTTACGGTAGCTAGGTC\"\n",
    "secuencia3 = \"TGCAGTACCTGATCGGATACCGTATGGCAT\"\n",
    "\n",
    "chain = input(\"Write a DNA strand\")\n",
    "result = \"the sequence is contained in the strings  \"\n",
    "bool_var = True\n",
    "\n",
    "if chain in secuencia1:\n",
    "    result += \"1\"\n",
    "    bool_var = False\n",
    "if chain in secuencia2:\n",
    "    if not bool_var:\n",
    "        result += \",\"\n",
    "    result += \"2\"\n",
    "    bool_var = False\n",
    "if chain in secuencia3:\n",
    "    if not bool_var:\n",
    "        result += \",\"\n",
    "    result += \"3\"\n",
    "    bool_var = False\n",
    "if bool_var:\n",
    "    print(\"the sequence is not contained\")\n",
    "else:\n",
    "    print(result)\n"
   ]
  },
  {
   "cell_type": "markdown",
   "id": "cb6171fb965e3fcd",
   "metadata": {},
   "source": [
    "6 Escriba un programa que reciba el número del día, el número del mes y el número del año (asuma que la fecha es válida) y diga el día siguiente y el anterior al escrito.\n",
    "\n",
    "```\n",
    "EJEMPLO\n",
    "\n",
    "Entrada\n",
    "> 28\n",
    "> 2\n",
    "> 2024\n",
    "Salida\n",
    "\"Día anterior: 27/2/2024\"\n",
    "\"Día siguiente: 29/2/2024\"\n",
    "\n",
    "Entrada\n",
    "> 31\n",
    "> 12\n",
    "> 1999\n",
    "Salida\n",
    "\"Día anterior: 30/12/1999\"\n",
    "\"Día siguiente: 1/1/2000\"\n",
    "```"
   ]
  },
  {
   "cell_type": "code",
   "execution_count": null,
   "id": "cbd6653616278e1",
   "metadata": {},
   "outputs": [
    {
     "name": "stdout",
     "output_type": "stream",
     "text": [
      "the day after is 2/7/2020\n",
      "the day before is 30/6/2020\n"
     ]
    }
   ],
   "source": [
    "day = int(input(\"Write a number \"))\n",
    "month = int(input(\"Write a number \"))\n",
    "year = int(input(\"Write a number \"))\n",
    "\n",
    "day_after = day\n",
    "month_after = month\n",
    "year_after = year\n",
    "\n",
    "day_before = day\n",
    "month_before = month\n",
    "year_before = year\n",
    "\n",
    "if month == 1 or month == 3 or month == 5 or month == 7 or month == 8 or month == 10 or month == 12:\n",
    "    max_day = 31\n",
    "elif month == 4 or month == 6 or month == 9 or month == 11:\n",
    "    max_day = 30\n",
    "elif month == 2:\n",
    "    if year % 4 == 0:\n",
    "        max_day = 29\n",
    "    else:\n",
    "        max_day = 28\n",
    "\n",
    "if day < max_day:\n",
    "    day_after = day + 1\n",
    "else:\n",
    "    day_after = 1\n",
    "    if month == 12:\n",
    "        month_after = 1\n",
    "        year_after = year + 1\n",
    "    else:\n",
    "        month_after = month + 1\n",
    "\n",
    "print(f\"the day after is {day_after}/{month_after}/{year_after}\")\n",
    "\n",
    "if day > 1:\n",
    "    day_before = day - 1\n",
    "else:\n",
    "    if month == 1:\n",
    "       month_before = 12\n",
    "       year_before = year - 1\n",
    "       day_after = 31\n",
    "    else:\n",
    "        month_before = month - 1\n",
    "        if month_before == 1 or month_before == 3 or month_before == 5 or month_before == 7 or month_before == 8 or month_before == 10 or month_before == 12:\n",
    "            day_before = 31\n",
    "        elif month_before == 4 or month_before == 6 or month_before == 9 or month_before == 11:\n",
    "              day_before = 30\n",
    "        elif month_before == 2:\n",
    "           if year % 4 == 0:\n",
    "               day_before = 29\n",
    "           else:\n",
    "               day_before = 28\n",
    "             \n",
    "print(f\"the day before is {day_before}/{month_before}/{year_before}\")   \n",
    "    "
   ]
  },
  {
   "cell_type": "markdown",
   "id": "12f6acf8e233fce4",
   "metadata": {},
   "source": [
    "7 Se necesita un programa que compruebe si una contraseña es segura. Para esto se tiene que cumplir que:\n",
    "- La contraseña tiene exactamente 8 caracteres\n",
    "- La contraseña contiene al menos un dígito\n",
    "- La contraseña contiene al menos una letra\n",
    "\n",
    "```\n",
    "EJEMPLO\n",
    "\n",
    "Entrada\n",
    "> \"MiContraseña\"\n",
    "Salida\n",
    "\"Ups, no es una contraseña válida\"\n",
    "\n",
    "Entrada\n",
    "> \"1234567A\"\n",
    "Salida\n",
    "\"Yeyyy!, es una contraseña válida\"\n",
    "```"
   ]
  },
  {
   "cell_type": "code",
   "execution_count": null,
   "id": "3695e76cdfb6aa8e",
   "metadata": {},
   "outputs": [
    {
     "name": "stdout",
     "output_type": "stream",
     "text": [
      "Yeyyy!\n"
     ]
    }
   ],
   "source": [
    "password = input(\"Write your password \")   \n",
    "\n",
    "have_8character = len(password) >= 8\n",
    "have_number = any(c.isdigit() for c in password)\n",
    "have_letter = any(c.isalpha() for c in password)\n",
    "\n",
    "if have_8character and have_number and have_letter:\n",
    "    print(\"Yeyyy!\")\n",
    "else:\n",
    "    print(\"Ups, wrong password\")"
   ]
  },
  {
   "cell_type": "markdown",
   "id": "519027ff94ada32c",
   "metadata": {},
   "source": [
    "8 Una empresa necesita un programa que reciba los ingresos de una semana por orden de día de la semana (los 7 días) y devuelva la media de ingresos de esa semana, los días que estuvieron por encima de la media y los días de mayor y menor ingreso.\n",
    "```\n",
    "EJEMPLO\n",
    "\n",
    "Entrada\n",
    "> 69.30\n",
    "> 85.40\n",
    "> 108.25\n",
    "> 26.90\n",
    "> 49.30\n",
    "> 96.75\n",
    "> 82.45\n",
    "\n",
    "Salida\n",
    "\"El promedio de ganancia fue de $74.05\"\n",
    "\"Los días con ganancia por encima de la media fueron: martes $85.40, miércoles $108.25, sábado $96.75, domingo $82.45\"\n",
    "\"El día de mayor ingreso fue: miércoles $108.25 y el de menor fue: jueves $26.90\"\n",
    "```"
   ]
  },
  {
   "cell_type": "code",
   "execution_count": null,
   "id": "511e68fdc3b3b0d3",
   "metadata": {},
   "outputs": [
    {
     "name": "stdout",
     "output_type": "stream",
     "text": [
      "the average was $74.05\n",
      "above-average days were tuesday $85.4, wednesday $108.25, saturday $96.75, sunday $82.45\n",
      "the day white the highest income was wednesday $108.25 and the lowest thursday $26.9\n"
     ]
    }
   ],
   "source": [
    "d1 = float(input(\"write the number\"))\n",
    "d2 = float(input(\"write the number\"))\n",
    "d3 = float(input(\"write the number\"))\n",
    "d4 = float(input(\"write the number\"))\n",
    "d5 = float(input(\"write the number\"))\n",
    "d6 = float(input(\"write the number\"))\n",
    "d7 = float(input(\"write the number\"))\n",
    "\n",
    "media = (d1 + d2 + d3 + d4 + d5 + d6 + d7) / 7\n",
    "\n",
    "print(f\"the average was ${media}\")\n",
    "\n",
    "media_bool = True\n",
    "result = \"above-average days were \"\n",
    "\n",
    "if d1 > media:\n",
    "    result += f\"monday ${d1}\"\n",
    "    media_bool = False\n",
    "if d2 > media:\n",
    "    if not media_bool:\n",
    "        result += \", \"\n",
    "    result += f\"tuesday ${d2}\"\n",
    "    media_bool = False\n",
    "if d3 > media:\n",
    "    if not media_bool:\n",
    "        result += \", \"\n",
    "    result += f\"wednesday ${d3}\"\n",
    "    media_bool = False\n",
    "if d4 > media:\n",
    "    if not media_bool:\n",
    "        result += \", \"\n",
    "    result += f\"thursday ${d4}\"\n",
    "    media_bool = False\n",
    "if d5 > media:\n",
    "    if not media_bool:\n",
    "        result += \", \"\n",
    "    result += f\"friday ${d5}\"\n",
    "    media_bool = False\n",
    "if d6 > media:\n",
    "    if not media_bool:\n",
    "        result += \", \"\n",
    "    result += f\"saturday ${d6}\"\n",
    "    media_bool = False\n",
    "if d7 > media:\n",
    "    if not media_bool:\n",
    "        result += \", \"\n",
    "    result += f\"sunday ${d7}\"\n",
    "    media_bool = False\n",
    "if media_bool:\n",
    "    print(\"no day was above average\")\n",
    "else: \n",
    "    print(result)\n",
    "\n",
    "if d1== d2 == d3 == d4 == d5 == d6 == d7:\n",
    "    print(f\"every day had he same value {d1}\")\n",
    "else:\n",
    "    bigest = d1\n",
    "    bigest_day = \"monday\"\n",
    "\n",
    "    if d2 > bigest:\n",
    "        bigest = d2\n",
    "        bigest_day = \"tuesday\"\n",
    "    if d3 > bigest:\n",
    "        bigest = d3\n",
    "        bigest_day = \"wednesday\"\n",
    "    if d4 > bigest:\n",
    "        bigest = d4\n",
    "        bigest_day = \"thursday\"\n",
    "    if d5 > bigest:\n",
    "        bigest = d5\n",
    "        bigest_day = \"friday\"\n",
    "    if d6 > bigest:\n",
    "        bigest = d6\n",
    "        bigest_day = \"saturday\"\n",
    "    if d7 > bigest:\n",
    "        bigest = d7\n",
    "        bigest_day = \"sunday\"\n",
    "\n",
    "    lower = d1\n",
    "    lower_day = \"monday\"\n",
    "\n",
    "    if d2 < lower:\n",
    "        lower = d2\n",
    "        lower_day = \"tuesday\"\n",
    "    if d3 < lower:\n",
    "        lower = d3\n",
    "        lower_day = \"wednesday\"\n",
    "    if d4 < lower:\n",
    "        lower = d4\n",
    "        lower_day = \"thursday\"\n",
    "    if d5 < lower:\n",
    "        lower = d5\n",
    "        lower_day = \"friday\"\n",
    "    if d6 < lower:\n",
    "        lower = d6\n",
    "        lower_day = \"saturday\"\n",
    "    if d7 < lower:\n",
    "        lower = d7\n",
    "        lower_day = \"sunday\"\n",
    "\n",
    "    print(f\"the day white the highest income was {bigest_day} ${bigest} and the lowest {lower_day} ${lower}\")"
   ]
  }
 ],
 "metadata": {
  "kernelspec": {
   "display_name": "Python 3",
   "language": "python",
   "name": "python3"
  },
  "language_info": {
   "codemirror_mode": {
    "name": "ipython",
    "version": 3
   },
   "file_extension": ".py",
   "mimetype": "text/x-python",
   "name": "python",
   "nbconvert_exporter": "python",
   "pygments_lexer": "ipython3",
   "version": "3.11.9"
  }
 },
 "nbformat": 4,
 "nbformat_minor": 5
}
