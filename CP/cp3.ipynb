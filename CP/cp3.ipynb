{
 "cells": [
  {
   "cell_type": "markdown",
   "id": "3b5e73a1a6464375",
   "metadata": {
    "collapsed": true
   },
   "source": [
    "# CP3 Control de flujo: Ciclos"
   ]
  },
  {
   "cell_type": "markdown",
   "id": "2224a3cb36ee407d",
   "metadata": {},
   "source": [
    "En la clase anterior vimos las condicionales y como podemos controlar el flujo de nuestro programa usándolas. Con ellas podíamos saltarnos líneas de código o ejecutarlas solo si se cumplía un criterio que quisiéramos. Por lo tanto, nuestro programa cumplía propósitos más genéricos, podíamos hacer un código más robusto y que se adaptara ante el tipo o el valor de los datos que manipulaba. Pero veamos ahora un ejemplo.\n",
    "\n",
    "Supongamos que necesitamos escribir en la consola todos los números que son productos en el factorial de un n cualquiera\n",
    "\n",
    "`n! = n * (n-1) * (n-2) * ... * 2 * 1`\n",
    "\n",
    "Usando solo condicionales podríamos anidar"
   ]
  },
  {
   "cell_type": "code",
   "execution_count": 1,
   "id": "b5d9c23c65b468a",
   "metadata": {},
   "outputs": [
    {
     "name": "stdout",
     "output_type": "stream",
     "text": [
      "3\n",
      "2\n",
      "1\n",
      "Esos eran todos los factores del número\n"
     ]
    }
   ],
   "source": [
    "n = int(input(\"Ingresa N\"))\n",
    "\n",
    "if n > 0:\n",
    "    print(f\"{n}\")\n",
    "    n = n-1\n",
    "    if n > 0:\n",
    "        print(f\"{n}\")\n",
    "        n = n-1\n",
    "        if n > 0:\n",
    "            print(f\"{n}\")\n",
    "            n = n-1\n",
    "            if n > 0:\n",
    "                print(f\"{n}\")\n",
    "                n = n-1\n",
    "                # Más líneas de código para decrementar n\n",
    "            else:\n",
    "                print(f\"Esos eran todos los factores del número\")\n",
    "        else:\n",
    "            print(f\"Esos eran todos los factores del número\")\n",
    "    else:\n",
    "        print(f\"Esos eran todos los factores del número\")\n",
    "else:\n",
    "    print(f\"Esos eran todos los factores del número\")"
   ]
  },
  {
   "cell_type": "markdown",
   "id": "c2f7d1126e3c35ef",
   "metadata": {},
   "source": [
    "Pero esto tiene un problema fundamental y es que se buscarán factores hasta `n-k` siendo `k` la cantidad de if que pusimos en el código(Intenta ingresarle 4 y luego 8 al input anterior). ¿Cuántos `if` debo escribir para cubrir todos los posibles valores de `n`?. Precisamente esto evidencia toda una rama de problemas que no podemos representar con lo que tenemos hasta ahora."
   ]
  },
  {
   "cell_type": "markdown",
   "id": "85cf64359695e70a",
   "metadata": {},
   "source": [
    "### Ciclos While"
   ]
  },
  {
   "cell_type": "code",
   "execution_count": null,
   "id": "6cab1163ec77317a",
   "metadata": {},
   "outputs": [],
   "source": [
    "n = int(input(\"Ingresa N\"))\n",
    "\n",
    "while n > 0:\n",
    "    print(f\"{n}\")\n",
    "    n = n-1\n",
    "print(f\"Esos eran todos los factores del número\")"
   ]
  },
  {
   "cell_type": "markdown",
   "id": "6339b765d8e0fdde",
   "metadata": {},
   "source": [
    "Con esta nueva herramienta hemos logrado expresar y resolver el problema que nos habíamos planteado de una manera simple.\n",
    "\n",
    "```\n",
    "  [recibo número]\n",
    "         |\n",
    "         | <-----  [lo imprimo y decremento]\n",
    "         /\\     |\n",
    "        /  \\ ----\n",
    "        \\  / es el número > 0\n",
    "         \\/\n",
    "         |\n",
    "     [termino]\n",
    "```"
   ]
  },
  {
   "cell_type": "markdown",
   "id": "d5079324e54b7f7d",
   "metadata": {},
   "source": [
    "La estructura que tienen los ciclos while es la siguiente\n",
    "```\n",
    "while <condition>:\n",
    "    <instruction 1>\n",
    "    <instruction 2>\n",
    "    ...\n",
    "    <instruction n>\n",
    "<rest of code>\n",
    "```\n",
    "Donde `<condition>` es una expresión que se evalúa en un tipo booleano, tal cual los `<condition>` de las condicionales. Recordemos que las expresiones son tanto los literales (los valores de ese tipo de objeto, en este caso True o False), como nombres de variables, como operaciónes que den como resultado un bool; todo lo que sea evaluable es una expresión.\n",
    "\n",
    "Donde el conjunto de `<instruction k>` son las instrucciones que se ejecutarán si se cumple la condición.\n",
    "\n",
    "El flow de un ciclo while es:\n",
    "1. Si no se cumple `<condition>` salgo al resto del código pero si se cumple voy al paso 2\n",
    "2. Ejecuto las instrucciones `<instruction 1> ... <instruction n>` y regreso al paso 1\n",
    "\n",
    "Nota que si una `<condition>` nunca evalúa a `False` entonces tenemos un ciclo infinito."
   ]
  },
  {
   "cell_type": "markdown",
   "id": "c3741b2ad51034d1",
   "metadata": {},
   "source": [
    "Con esta nueva herramienta podemos construir un programa más interactivo para adivinar un número:"
   ]
  },
  {
   "cell_type": "code",
   "execution_count": 2,
   "id": "a538cf240f7fb232",
   "metadata": {},
   "outputs": [
    {
     "name": "stdout",
     "output_type": "stream",
     "text": [
      "Nop, no era ese.\n",
      "Nop, no era ese.\n",
      "Nop, no era ese.\n",
      "Nop, no era ese.\n",
      "¡Jejejeje, era ese!\n"
     ]
    }
   ],
   "source": [
    "secret_number = 5\n",
    "\n",
    "guess_number = int(input(\"Adivina el número que estoy pensando: \"))\n",
    "while guess_number != secret_number:\n",
    "    print(\"Nop, no era ese.\")\n",
    "    guess_number = int(input(\"Adivina el número que estoy pensando: \"))\n",
    "print(\"¡Jejejeje, era ese!\")"
   ]
  },
  {
   "cell_type": "markdown",
   "id": "cfe0cfdc5224b415",
   "metadata": {},
   "source": [
    "Pero hay que tener mucho cuidado y estar seguros de que eventualmente nuestra condición se cumplirá. Veamos nuevamente el ejemplo de los factores del factorial de `n` pero esta vez con un pequeño twist (Puedes terminar la ejecución del progrma usando el cuadradito rojo que dice interrupt kernel)"
   ]
  },
  {
   "cell_type": "code",
   "execution_count": null,
   "id": "553f1e0b741e388e",
   "metadata": {},
   "outputs": [
    {
     "name": "stdout",
     "output_type": "stream",
     "text": [
      "5\n",
      "4\n",
      "3\n",
      "2\n",
      "1\n",
      "Esos eran todos los factores del número\n"
     ]
    }
   ],
   "source": [
    "n = 5\n",
    "\n",
    "while n > 0:\n",
    "    print(f\"{n}\")\n",
    "    #n = n-1  # No estoy actualizando mi n\n",
    "print(f\"Esos eran todos los factores del número\")"
   ]
  },
  {
   "cell_type": "markdown",
   "id": "f9e24d51c4f5466d",
   "metadata": {},
   "source": [
    "En efecto, tenemos aquí un ciclo infinito"
   ]
  },
  {
   "cell_type": "markdown",
   "id": "655f83f986e96d55",
   "metadata": {},
   "source": [
    "Creemos un programa ahora para saber el factorial de un número `n` que nos creemos y nota el nuevo patrón que utilizaremos."
   ]
  },
  {
   "cell_type": "code",
   "execution_count": 5,
   "id": "43fe34b30d3a44a0",
   "metadata": {},
   "outputs": [
    {
     "name": "stdout",
     "output_type": "stream",
     "text": [
      "El factorial de 4 es 24\n"
     ]
    }
   ],
   "source": [
    "n = int(input(\"Ingresa N\"))\n",
    "i = 1\n",
    "factorial = 1\n",
    "while i <= n:\n",
    "    factorial *= i  # Esto es equivalente a  factorial = factorial * i\n",
    "    i += 1\n",
    "print(f\"El factorial de {n} es {factorial}\")"
   ]
  },
  {
   "cell_type": "markdown",
   "id": "270959409b85fa7a",
   "metadata": {},
   "source": [
    "Este tipo de patrón se usa a menudo en algunos ejercicios que es mantener un contador del número de la iteración en la que estamos, ya sea para actualizar un índice o para como en este caso ver cuanto nos falta hasta `n`. Nos referiremos a esta variable como variable del ciclo y es sobre la que aplicaremos la condición y actualizaremos en cada iteración. Pero… ¿Existe una manera menos verbosa de hacerlo?"
   ]
  },
  {
   "cell_type": "code",
   "execution_count": 6,
   "id": "8e1e7faacaf50bd3",
   "metadata": {},
   "outputs": [
    {
     "name": "stdout",
     "output_type": "stream",
     "text": [
      "0\n",
      "1\n",
      "2\n",
      "3\n",
      "4\n"
     ]
    }
   ],
   "source": [
    "i = 0\n",
    "while i < 5:\n",
    "    print(i)\n",
    "    i += 1"
   ]
  },
  {
   "cell_type": "code",
   "execution_count": 7,
   "id": "d7589b8c9a49a0",
   "metadata": {},
   "outputs": [
    {
     "name": "stdout",
     "output_type": "stream",
     "text": [
      "0\n",
      "1\n",
      "2\n",
      "3\n",
      "4\n"
     ]
    }
   ],
   "source": [
    "for i in range(5):\n",
    "    print(i)"
   ]
  },
  {
   "cell_type": "markdown",
   "id": "d33ce75c99f79d8d",
   "metadata": {},
   "source": [
    "### Ciclos For"
   ]
  },
  {
   "cell_type": "markdown",
   "id": "9da3125748ddf0b6",
   "metadata": {},
   "source": [
    "Los ciclos con `for` mantienen una variable de igual forma, pero no tenemos que actualizarla manualmente, python sabe cuál es el siguiente valor que debe tomar y dejará de iterar sobre el ciclo cuando se alcance el último valor posible. Su estructura es la siguiente:\n",
    "\n",
    "```\n",
    "for <variable> in <sequence of values>:\n",
    "    <instruction 1>\n",
    "    <instruction 2>\n",
    "    ...\n",
    "    <instruction n>\n",
    "<rest of code>\n",
    "```\n",
    "\n",
    "De manera que la primera vez que se entra al `for` se toma el primer valor posible de la secuencia, la segunda vez el segundo y así hasta que se alcance el último.\n"
   ]
  },
  {
   "cell_type": "markdown",
   "id": "a7787381e3502c14",
   "metadata": {},
   "source": [
    "#### Range"
   ]
  },
  {
   "cell_type": "markdown",
   "id": "6e531ff5555c8713",
   "metadata": {},
   "source": [
    "La función `range()` nos devuelve una secuencia de números y puede recibir hasta 3 argumentos: `range(start, stop, step)` siendo\n",
    "- `start`: el número a partir del cual se generará la secuencia\n",
    "- `stop`: el número hasta el cual se generará la secuencia\n",
    "- `step`: los pasos que se darán desde el número actual hasta el siguiente\n",
    "\n",
    "Esto es justo como lo que vimos con los slice sobre strings"
   ]
  },
  {
   "cell_type": "code",
   "execution_count": 8,
   "id": "d050481bfb30c33c",
   "metadata": {},
   "outputs": [
    {
     "name": "stdout",
     "output_type": "stream",
     "text": [
      " 0 1 2 3 4\n",
      " 1 2 3 4 5 6\n",
      " 2 4 6 8\n"
     ]
    }
   ],
   "source": [
    "s = \"\"\n",
    "for i in range(5):\n",
    "    s = f\"{s} {i}\"\n",
    "print(s)\n",
    "\n",
    "s = \"\"\n",
    "for i in range(1, 7):\n",
    "    s = f\"{s} {i}\"\n",
    "print(s)\n",
    "\n",
    "s = \"\"\n",
    "for i in range(2, 10, 2):\n",
    "    s = f\"{s} {i}\"\n",
    "print(s)\n"
   ]
  },
  {
   "cell_type": "markdown",
   "id": "6c686012e18d2fd8",
   "metadata": {},
   "source": [
    "Comparen las diferencias entre las implementaciones de factorial usando while y for"
   ]
  },
  {
   "cell_type": "code",
   "execution_count": 9,
   "id": "ea551cd366311d84",
   "metadata": {},
   "outputs": [
    {
     "name": "stdout",
     "output_type": "stream",
     "text": [
      "4 factorial is 24\n"
     ]
    }
   ],
   "source": [
    "x = 4\n",
    "i= 1\n",
    "factorial = 1\n",
    "while i<= x:\n",
    "    factorial *= i\n",
    "    i+= 1\n",
    "print(f\"{x} factorial is {factorial}\")"
   ]
  },
  {
   "cell_type": "code",
   "execution_count": 10,
   "id": "5b62be2439264c04",
   "metadata": {},
   "outputs": [
    {
     "name": "stdout",
     "output_type": "stream",
     "text": [
      "4 factorial is 24\n"
     ]
    }
   ],
   "source": [
    "x = 4\n",
    "factorial = 1\n",
    "for i in range(1, x+1, 1):\n",
    "    factorial *= i\n",
    "print(f'{x} factorial is {factorial}')"
   ]
  },
  {
   "cell_type": "markdown",
   "id": "7ede10f363283964",
   "metadata": {},
   "source": [
    "Podemos también mostrar los caracteres de un string"
   ]
  },
  {
   "cell_type": "code",
   "execution_count": 11,
   "id": "a58003b3a5517bdf",
   "metadata": {},
   "outputs": [
    {
     "name": "stdout",
     "output_type": "stream",
     "text": [
      "I\n",
      " \n",
      "<\n",
      "3\n",
      " \n",
      "C\n",
      "O\n",
      "D\n",
      "E\n"
     ]
    }
   ],
   "source": [
    "s = \"I <3 CODE\"\n",
    "for index in range(len(s)):\n",
    "    print(s[index])\n",
    "\n",
    "# pero..."
   ]
  },
  {
   "cell_type": "markdown",
   "id": "e34969f0444b63a3",
   "metadata": {},
   "source": [
    "#### Los strings también son secuencias\n",
    "\n",
    "Cuando definimos los strings lo hicimos como una secuencia de caracteres. Y en efecto son una secuencia y, por lo tanto, también son iterables con un ciclo `for`"
   ]
  },
  {
   "cell_type": "code",
   "execution_count": 12,
   "id": "a0147d70974475e",
   "metadata": {},
   "outputs": [
    {
     "name": "stdout",
     "output_type": "stream",
     "text": [
      "S\n",
      "o\n",
      "y\n",
      " \n",
      "s\n",
      "e\n",
      "c\n",
      "u\n",
      "e\n",
      "n\n",
      "c\n",
      "i\n",
      "a\n"
     ]
    }
   ],
   "source": [
    "s = \"Soy secuencia\"\n",
    "for char in s:\n",
    "    print(char)"
   ]
  },
  {
   "cell_type": "markdown",
   "id": "1c05f8137715b295",
   "metadata": {},
   "source": [
    "### Instrucción Break\n",
    "\n",
    "Si dentro del cuerpo de un ciclo se ejecuta la instrucción `break` entonces se para en el momento y no se ejecuta ninguna de las instrucciones que quedaban pendiente en la iteración y se continúa con el código que le seguía al bloque del ciclo."
   ]
  },
  {
   "cell_type": "code",
   "execution_count": 13,
   "id": "cec0d072314ae3a8",
   "metadata": {},
   "outputs": [
    {
     "name": "stdout",
     "output_type": "stream",
     "text": [
      "1 no es el número mágico\n",
      "2 no es el número mágico\n",
      "3 no es el número mágico\n",
      "4 no es el número mágico\n",
      "Encontré el número, es: 5\n",
      "6 no es el número mágico\n",
      "7 no es el número mágico\n",
      "8 no es el número mágico\n",
      "9 no es el número mágico\n",
      "10 no es el número mágico\n",
      "Terminé\n"
     ]
    }
   ],
   "source": [
    "secret_number = 5\n",
    "for guess_number in range(1, 11):\n",
    "    if secret_number == guess_number:\n",
    "        print(f\"Encontré el número, es: {guess_number}\")\n",
    "    else:\n",
    "        print(f\"{guess_number} no es el número mágico\")\n",
    "print(\"Terminé\")"
   ]
  },
  {
   "cell_type": "code",
   "execution_count": 14,
   "id": "76ca14d364862245",
   "metadata": {},
   "outputs": [
    {
     "name": "stdout",
     "output_type": "stream",
     "text": [
      "1 no es el número mágico\n",
      "2 no es el número mágico\n",
      "3 no es el número mágico\n",
      "4 no es el número mágico\n",
      "Encontré el número, es: 5\n",
      "Terminé\n"
     ]
    }
   ],
   "source": [
    "secret_number = 5\n",
    "for guess_number in range(1, 11):\n",
    "    if secret_number == guess_number:\n",
    "        print(f\"Encontré el número, es: {guess_number}\")\n",
    "        break\n",
    "    else:\n",
    "        print(f\"{guess_number} no es el número mágico\")\n",
    "print(\"Terminé\")"
   ]
  },
  {
   "cell_type": "markdown",
   "id": "62b87df5639a28fc",
   "metadata": {},
   "source": [
    "Romper el ciclo que se está ejecutando permite hacer podas en el programa para no computar instrucciones que no son necesarias dado que se tiene ya la respuesta. Se puede también aplicar cuando se detectan estados no aceptables de las variables y sea, por tanto, necesario dejar de iterar en el ciclo."
   ]
  },
  {
   "cell_type": "code",
   "execution_count": 24,
   "id": "eaa35a5b3e12d3d0",
   "metadata": {},
   "outputs": [
    {
     "name": "stdout",
     "output_type": "stream",
     "text": [
      "13 divided by 1 is 13.0\n",
      "13 divided by 2 is 6.5\n",
      "Error: Division by zero detected. Stopping loop.\n"
     ]
    }
   ],
   "source": [
    "# vamos a dividir un número k por cada uno de los dígitos en el string de num_str\n",
    "numbers_str = \"120325\"\n",
    "k = 13\n",
    "\n",
    "for num_str in numbers_str:\n",
    "    num = int(num_str)\n",
    "    if num == 0:\n",
    "        print(\"Error: Division by zero detected. Stopping loop.\")\n",
    "        break  # Prevents a crash by exiting before division\n",
    "    result = k / num\n",
    "    print(f\"{k} divided by {num} is {result}\")"
   ]
  },
  {
   "cell_type": "markdown",
   "id": "430333d1bddc3504",
   "metadata": {},
   "source": [
    "### Instrucción Continue\n",
    "\n",
    "La instrucción `continue` es parecida al `break` solo que en vez de salir del ciclo, se pasa a la siguiente iteración"
   ]
  },
  {
   "cell_type": "code",
   "execution_count": 21,
   "id": "b66d635e3b0d3a4e",
   "metadata": {},
   "outputs": [
    {
     "name": "stdout",
     "output_type": "stream",
     "text": [
      "13 divided by 1 is 13.0\n",
      "13 divided by 2 is 6.5\n",
      "Error: Division by zero detected. Stopping loop.\n",
      "13 divided by 3 is 4.333333333333333\n",
      "13 divided by 2 is 6.5\n",
      "13 divided by 5 is 2.6\n"
     ]
    }
   ],
   "source": [
    "# vamos a dividir un número k por cada uno de los dígitos en el string de num_str\n",
    "numbers_str = \"120325\"\n",
    "k = 13\n",
    "\n",
    "for num_str in numbers_str:\n",
    "    num = int(num_str)\n",
    "    if num == 0:\n",
    "        print(\"Error: Division by zero detected. Stopping loop.\")\n",
    "        continue  # Prevents a crash by exiting before division\n",
    "    result = k / num\n",
    "    print(f\"{k} divided by {num} is {result}\")"
   ]
  },
  {
   "cell_type": "markdown",
   "id": "3586986658b62c2",
   "metadata": {},
   "source": [
    "### Summary\n",
    "\n",
    "Looping mechanisms\n",
    "- `while` and `for` loops\n",
    "- Lots of syntax today, be sure to get lots of practice!\n",
    "\n",
    "While loops\n",
    "- Loop as long as a condition is true\n",
    "- Need to make sure you don’t enter an infinite loop\n",
    "\n",
    "For loops\n",
    "- Can loop over ranges of numbers\n",
    "- Can loop over elements of a string\n",
    "- Will soon see many other things are easy to loop over"
   ]
  },
  {
   "cell_type": "markdown",
   "id": "26357bc92fb036ef",
   "metadata": {},
   "source": [
    "### Ejercicios"
   ]
  },
  {
   "cell_type": "markdown",
   "id": "6747810838c492dc",
   "metadata": {},
   "source": [
    "1 Escriba un código que determine si un número que se da como entrada es un número primo. Recuerde que un número primo es aquel que solo es divisible por 1 y por él mismo. Ejemplo 13 es primo, pero 49 no lo es porque es divisible por 7\n",
    "\n",
    "```\n",
    "EJEMPLO\n",
    "\n",
    "Entrada\n",
    "> 854727\n",
    "\n",
    "Salida\n",
    "> \"No es primo\"\n",
    "```"
   ]
  },
  {
   "cell_type": "code",
   "execution_count": 38,
   "id": "5c734990edbfd0c",
   "metadata": {},
   "outputs": [
    {
     "name": "stdout",
     "output_type": "stream",
     "text": [
      "854727 no es primo\n"
     ]
    }
   ],
   "source": [
    "number = int(input(\"Write a number\"))\n",
    "for div in range(2, number):\n",
    "    if number % div == 0:\n",
    "        print(f\"{number} no es primo\")\n",
    "        break\n",
    "    if div == number - 1:\n",
    "        print(f\"{number} es primo\")"
   ]
  },
  {
   "cell_type": "markdown",
   "id": "e937dac5a975e137",
   "metadata": {},
   "source": [
    "2 Escriba un código que determine si un número es perfecto. Un número es perfecto si es igual a la suma de todos sus divisores sin incluirlo a él. Ejemplo 6 es perfecto porque 6 = 1+2+3 que son sus divisores\n",
    "\n",
    "```\n",
    "EJEMPLO\n",
    "\n",
    "Entrada\n",
    "> 6\n",
    "\n",
    "Salida\n",
    "> True\n",
    "```"
   ]
  },
  {
   "cell_type": "code",
   "execution_count": 44,
   "id": "ae1a91f77bad4ddf",
   "metadata": {},
   "outputs": [
    {
     "name": "stdout",
     "output_type": "stream",
     "text": [
      "6 es perfecto\n"
     ]
    }
   ],
   "source": [
    "number = int(input(\"Write a number\"))\n",
    "sum = 0\n",
    "for div in range(1, number):\n",
    "    if number % div == 0:\n",
    "        sum += div\n",
    "if sum == number:\n",
    "    print(f\"{number} es perfecto\")\n",
    "else:\n",
    "    print(f\"{number} no es perfecto\")"
   ]
  },
  {
   "cell_type": "markdown",
   "id": "bf394f15137ced9a",
   "metadata": {},
   "source": [
    "3 Escriba un programa que cuente la cantidad de veces que se usan vocales en un texto introducido por el usuario\n",
    "\n",
    "```\n",
    "EJEMPLO\n",
    "\n",
    "Entrada\n",
    "> \"Hola, soy estudiante de Ciencia de Datos\"\n",
    "\n",
    "Salida\n",
    "> 16\n",
    "```"
   ]
  },
  {
   "cell_type": "code",
   "execution_count": null,
   "id": "47e81b0a1c0b0a0e",
   "metadata": {},
   "outputs": [],
   "source": [
    "string = input(\"Write something\")\n",
    "vocal = \"aeiou\""
   ]
  },
  {
   "cell_type": "markdown",
   "id": "3289f293158bdfdd",
   "metadata": {},
   "source": [
    "4 Entre los valores de un intervalo, escriba cuáles números en ese intervalo son primos. Note como aquí usará dos ciclos: uno más externo para recorrer los valores del intervalo\n",
    "\n",
    "```\n",
    "EJEMPLO\n",
    "\n",
    "Entrada\n",
    "> 4\n",
    "> 10\n",
    "\n",
    "Salida\n",
    "> 5, 7\n",
    "```"
   ]
  },
  {
   "cell_type": "code",
   "execution_count": null,
   "id": "3ddbc51a6518f8b4",
   "metadata": {},
   "outputs": [],
   "source": [
    "# Your code here"
   ]
  },
  {
   "cell_type": "markdown",
   "id": "4983c8361c44d19",
   "metadata": {},
   "source": [
    "5 Escriba un código que a partir de un número que lee como entrada escriba cuál es el número primo que le sigue\n",
    "\n",
    "```\n",
    "EJEMPLO\n",
    "\n",
    "Entrada\n",
    "> 6\n",
    "\n",
    "Salida\n",
    "> 7\n",
    "```"
   ]
  },
  {
   "cell_type": "code",
   "execution_count": null,
   "id": "a63ac64aea60b0aa",
   "metadata": {},
   "outputs": [],
   "source": [
    "# Your code here"
   ]
  },
  {
   "cell_type": "markdown",
   "id": "cb0f31fb8745fdd4",
   "metadata": {},
   "source": [
    "6 Escriba un programa que determine, usando ciclos, si los caracteres de una cadena forman un palíndromo.\n",
    "\n",
    "```\n",
    "EJEMPLO\n",
    "\n",
    "Entrada\n",
    "> \"larutanatural\"\n",
    "\n",
    "Salida\n",
    "> True\n",
    "```"
   ]
  },
  {
   "cell_type": "code",
   "execution_count": null,
   "id": "a2c72c28978e04b5",
   "metadata": {},
   "outputs": [],
   "source": [
    "# Your code here"
   ]
  },
  {
   "cell_type": "markdown",
   "id": "38ac0ef4c649cca2",
   "metadata": {},
   "source": [
    "7 Sabiendo el algoritmo de la primera clase para obtener la raíz cuadrada de un número cualquiera. Escriba un programa que formalize la idea. Recuerda el algoritmo:\n",
    "\n",
    "1. Empezar adivinando un número `g` (`guess`).\n",
    "2. Si `g * g` está lo suficientemente cerca de `y` entonces esa es la respuesta\n",
    "3. De lo contrario obtén un nuevo `g` de la forma `g = (g + (y/g)) / 2`\n",
    "4. Usando el nuevo `g` salta al paso *2*\n",
    "\n",
    "```\n",
    "EJEMPLO\n",
    "\n",
    "Entrada\n",
    "> 16\n",
    "\n",
    "Salida\n",
    "> 4.0000154\n",
    "```"
   ]
  },
  {
   "cell_type": "code",
   "execution_count": null,
   "id": "e42c226f9edc25f3",
   "metadata": {},
   "outputs": [],
   "source": [
    "# Your code here"
   ]
  },
  {
   "cell_type": "markdown",
   "id": "62de616b568e8514",
   "metadata": {},
   "source": [
    "8 Una empresa necesita un programa que reciba los ingresos de una semana por orden de día de la semana (los 7 días) y devuelva la media de ingresos de esa semana, los días que estuvieron por encima de la media y los días de mayor y menor ingreso.\n",
    "```\n",
    "EJEMPLO\n",
    "\n",
    "Entrada\n",
    "> 69.30\n",
    "> 85.40\n",
    "> 108.25\n",
    "> 26.90\n",
    "> 49.30\n",
    "> 96.75\n",
    "> 82.45\n",
    "\n",
    "Salida\n",
    "\"El promedio de ganancia fue de $74.05\"\n",
    "\"Los días con ganancia por encima de la media fueron: martes $85.40, miércoles $108.25, sábado $96.75, domingo $82.45\"\n",
    "\"El día de mayor ingreso fue: miércoles $108.25 y el de menor fue: jueves $26.90\"\n",
    "```"
   ]
  },
  {
   "cell_type": "code",
   "execution_count": null,
   "id": "eda5cba4cf53d3b7",
   "metadata": {},
   "outputs": [],
   "source": [
    "# Your code here"
   ]
  }
 ],
 "metadata": {
  "kernelspec": {
   "display_name": "Python 3",
   "language": "python",
   "name": "python3"
  },
  "language_info": {
   "codemirror_mode": {
    "name": "ipython",
    "version": 3
   },
   "file_extension": ".py",
   "mimetype": "text/x-python",
   "name": "python",
   "nbconvert_exporter": "python",
   "pygments_lexer": "ipython3",
   "version": "3.11.9"
  }
 },
 "nbformat": 4,
 "nbformat_minor": 5
}
