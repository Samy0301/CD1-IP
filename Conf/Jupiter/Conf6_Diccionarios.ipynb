{
 "cells": [
  {
   "metadata": {},
   "cell_type": "markdown",
   "source": [
    "# Conf 6 DICCIONARIOS. ARCHIVOS JSON\n",
    "\n",
    "Los elementos de una lista pueden ser accedidos y modificados (por eso se dice que las listas son mutables), posicionalmente a través de un **índice**\n",
    "\n",
    "Si `l` es una variable cuyo valor es una lista `l[k]` denota el elemento en la posición `k`. `k `tiene que ser un valor entre `0 `y la cantidad de elementos de la lista `len(l)-1`. Aunque usualmente los elementos de una lista son de un mismo tipo, loa valores de una lista pueden ser de cualquier tipo.\n",
    "\n",
    "Una característica importante de las listas es que independientemente del valor de k el acceso al elemento l[k] siempre demora un tiempo fijo. Esto permite predecir el tiempo que. en dependencia de la cantidad n de elementos en la lista, puede demorar el procesamiento que se haga con los mismos.\n",
    "\n",
    "Al igual que las listas los **diccionarios** son estructuras de datos formadas por varios datos. Los diccionarios pueden verse como colecciones de pares de datos que suelen denominarse _llave_ (_key_) y _valor_ (_value_). Si `d` tiene como valor un diccionario entonces los valores en el diccionario puedes ser accedidos en la forma `d`[_llave_] que denotará al valor asociado a esa _llave_. El siguiente ejemplo nos ilustra un diccionario de contactos donde cada llave (en este caso una cadena con el nombre de la persona) tiene asociado un valor (en este ejemplo un entero con su número de teléfono)\n",
    "\n",
    "`contactos = { \"juan\":55053344, \"maría\":78332526, \"casa\":79326573 }`\n",
    "\n",
    "En este caso `contactos[\"maría\"]` nos daría el valor `78332526`\n",
    "\n",
    "El diccionario no pone restricciones sobre qué se usa como _llave_ y sobre cuál es su `valor asociado`. Depende de lo que usted quiera representar con el diccionario. En este ejemplo las llaves siempre son `string` que expresan el *nombre de in contact*o y los valores son enteros que expresan _números de teléfono_\n",
    "\n",
    "La operación print escribe un diccionario en un formato predefinido pero usted puede acceder a sus componentes y escribirlo como le convenga como puede verse ejecutando el código a continuación\n",
    "\n",
    "\n",
    "### 6.1 Operaciones sobre diccionarios"
   ],
   "id": "cc2deed3b73594d8"
  },
  {
   "metadata": {
    "ExecuteTime": {
     "end_time": "2025-10-13T20:37:48.564039Z",
     "start_time": "2025-10-13T20:37:48.554553Z"
    }
   },
   "cell_type": "code",
   "source": [
    "contactos = { \"juan\":55053344, \"maría\":78332526, \"casa\":79326573 }\n",
    "print(contactos)\n",
    "\n",
    "#Accediendo al telefono de maría\n",
    "print(f'El teléfono de {\"maría\"} es {contactos[\"maría\"]}')\n",
    "\n",
    "#Cambiando el teléfono de casa\n",
    "contactos[\"casa\"] = 78324031\n",
    "print(contactos)\n",
    "\n",
    "#Añadiendo un nuevo contacto es similar a cambiar, si la llave no existe crea la entrada\n",
    "contactos[\"pepe (carpintero)\"] = 56062230\n",
    "print(contactos)\n",
    "\n",
    "#Escribiendo todos mis contactos\n",
    "print(contactos.keys())\n",
    "for s in contactos.keys():\n",
    "    print(s)\n",
    "\n",
    "#Escribiendo todos los pares contacto teléfono\n",
    "print(contactos.items())\n",
    "for x in contactos.items():\n",
    "    print(x)\n",
    "\n",
    "x = contactos[\"maría\"]\n",
    "print(contactos[\"maría\"])\n"
   ],
   "id": "e58ff8e0fe597c7a",
   "outputs": [
    {
     "name": "stdout",
     "output_type": "stream",
     "text": [
      "{'juan': 55053344, 'maría': 78332526, 'casa': 79326573}\n",
      "El teléfono de maría es 78332526\n",
      "{'juan': 55053344, 'maría': 78332526, 'casa': 78324031}\n",
      "{'juan': 55053344, 'maría': 78332526, 'casa': 78324031, 'pepe (carpintero)': 56062230}\n",
      "dict_keys(['juan', 'maría', 'casa', 'pepe (carpintero)'])\n",
      "juan\n",
      "maría\n",
      "casa\n",
      "pepe (carpintero)\n",
      "dict_items([('juan', 55053344), ('maría', 78332526), ('casa', 78324031), ('pepe (carpintero)', 56062230)])\n",
      "('juan', 55053344)\n",
      "('maría', 78332526)\n",
      "('casa', 78324031)\n",
      "('pepe (carpintero)', 56062230)\n",
      "78332526\n"
     ]
    }
   ],
   "execution_count": 11
  },
  {
   "metadata": {},
   "cell_type": "markdown",
   "source": [
    "## 6.2 Un diccionario para representar todos los datos de una entidad\n",
    "_Un diccionario es una estructura ideal para representar las diferentes características de una entidad_ (un **objeto**  que es como lo llamaremos mas adelante).\n",
    "\n",
    "Por ejemplo los datos de un _contacto_ se pueden representar con un diccionario\n",
    "\n",
    "`{ \"nombre\":\"Juana Pérez Pérez\", \"telefonos\":[55053344, 78304266], \"direccion\":\"12 #333 e/21 y 19, Plaza\", \"email\":\"juanapp@gmail.com\", \"fecha_nac\": \"8/10/2000\"}`\n",
    "\n",
    "No hay restricción sobre cuál puede ser el tipo del valor que se use como _llave_ (key) y el tipo del _valor_ (value) asociado a la llave. Es usual que se use como llave una cadena (string) porque nos ayuda a identificar un rasgo, una caraterística, una cualidad, como en el ejemplo anterior. Note en este ejemplo como el valor asociado a la llave `teléfonos` es una _lista de enteros_ con números de teléfono porque un contacto puede tener más de un teléfono\n",
    "\n",
    "Los datos de un film se pueden representar con un diccionario, por ejemplo\n",
    "\n",
    "`{\n",
    "    \"titulo\": \"El padrino I\",\n",
    "\n",
    "    \"pais\": [\"Estados Unidos\"],\n",
    "\n",
    "    \"fecha\": 1972,\n",
    "\n",
    "    \"director\": \"Francis Ford Coppola\",\n",
    "\n",
    "    \"genero\": [\"Crimen\", \"Drama\"],\n",
    "\n",
    "    \"actores_principales\": [\"Marlon Brando\", \"Al Pacino\", \"James Caan\"],\n",
    "\n",
    "    \"imdb\": 9.2\n",
    "}`\n",
    "\n",
    "Los pares llave-valor que hay en un diccionario `d` pueden ser accedidos a través de `d.items()` Python los representa como una estructura conocida como **tuplos** con la notación (_llave_, _valor_). Parecido a la notación utilizada para las listas peo con paréntesis `(` y `)` en lugar de corchetes `[` y `]`. Los tuplos se estudiarán con más detalle más adelante\n"
   ],
   "id": "717c989ff0594532"
  },
  {
   "metadata": {
    "ExecuteTime": {
     "end_time": "2025-10-13T20:37:48.532842600Z",
     "start_time": "2025-10-13T17:01:17.457210Z"
    }
   },
   "cell_type": "code",
   "source": [
    "# juana = { \"nombre\":\"Juana Pérez Pérez\", \"telefonos\":[55053344, 78304266], \"direccion\":\"12 #333 e/21 y 19, Plaza\", \"email\":\"juanapp@gmail.com\", \"fecha_nac\": \"8/10/2000\"}\n",
    "# print(juana)\n",
    "# print()\n",
    "\n",
    "mi_favorito = \\\n",
    "{\n",
    "    \"titulo\"  : \"El padrino I\",\n",
    "    \"pais\"    : [\"Estados Unidos\"],\n",
    "    \"fecha\"   : 1972,\n",
    "    \"director\": \"Francis Ford Coppola\",\n",
    "    \"genero\"  : [\"Crimen\", \"Drama\"],\n",
    "    \"actores\" : [\"Marlon Brando\", \"Al Pacino\", \"James Caan\"],\n",
    "    \"imdb\"    : 9.2\n",
    "}\n",
    "print(mi_favorito)\n",
    "print()\n",
    "\n",
    "#Note al ejecutar el print anterior que Python escribe todos los pares llave-valor de forma consecutiva\n",
    "#Una forma más legible de escribir esto puede ser\n",
    "\n",
    "print(\"{\")\n",
    "for llave, valor in mi_favorito.items(): #el valor de un tuplo item del diccionario es desagregado en las variables llave y valor\n",
    "    print(f\"  {llave}: {valor}\")\n",
    "print(\"}\")\n",
    "print()\n",
    "\n",
    "print(mi_favorito.keys())\n",
    "print(mi_favorito.values())\n",
    "print(mi_favorito.items())\n"
   ],
   "id": "e4df63012d4c0cee",
   "outputs": [
    {
     "name": "stdout",
     "output_type": "stream",
     "text": [
      "{'titulo': 'El padrino I', 'pais': ['Estados Unidos'], 'fecha': 1972, 'director': 'Francis Ford Coppola', 'genero': ['Crimen', 'Drama'], 'actores': ['Marlon Brando', 'Al Pacino', 'James Caan'], 'imdb': 9.2}\n",
      "\n",
      "{\n",
      "  titulo: El padrino I\n",
      "  pais: ['Estados Unidos']\n",
      "  fecha: 1972\n",
      "  director: Francis Ford Coppola\n",
      "  genero: ['Crimen', 'Drama']\n",
      "  actores: ['Marlon Brando', 'Al Pacino', 'James Caan']\n",
      "  imdb: 9.2\n",
      "}\n",
      "\n",
      "dict_keys(['titulo', 'pais', 'fecha', 'director', 'genero', 'actores', 'imdb'])\n",
      "dict_values(['El padrino I', ['Estados Unidos'], 1972, 'Francis Ford Coppola', ['Crimen', 'Drama'], ['Marlon Brando', 'Al Pacino', 'James Caan'], 9.2])\n",
      "dict_items([('titulo', 'El padrino I'), ('pais', ['Estados Unidos']), ('fecha', 1972), ('director', 'Francis Ford Coppola'), ('genero', ['Crimen', 'Drama']), ('actores', ['Marlon Brando', 'Al Pacino', 'James Caan']), ('imdb', 9.2)])\n"
     ]
    }
   ],
   "execution_count": 4
  },
  {
   "metadata": {},
   "cell_type": "markdown",
   "source": [
    "## 6.3 Archivos JSON\n",
    "\n",
    "Un archivo JSON es un formato de texto ligero para el intercambio de datos, es fácil e intuitivo de leer y escribir para los humanos, y a la vez sencillo de analizar e interpretar por los programas. En nuestro caso por un código Python.\n",
    "\n",
    "JSON son las siglas de \"JavaScript Object Notation\" (Notación de Objetos de JavaScript). Aunque proviene de la notación literal de objetos en JavaScript, JSON es independiente del lenguaje de programación y es muy utilizado en las aplicaciones de Python para leer y escribir datos estructurados.\n",
    "\n",
    "Un archivo JSON se puede escribir con cualquier aplicación que produzca texto, como el simple Bloq de Notas (NotePad). En forma similar a Python una lista de enteros se puede expresar por un _texto_ que empieza con `[` seguido de _textos_ separados por un _delimitador_ (usaremos coma `, `por defecto) hasta terminar con un `]`\n",
    "\n",
    "Para leer el archivo .json la aplicación Python solo tiene que indicar la _ruta_ donde se encuentra el archivo en el sistema y descargarlo con la operación `load`\n",
    "\n",
    "Usted tiene ahora en sus manos de escribir con comodidad sus datos de prueba sin tener que estarlos escribiendo explícitamente dentro del código Python\n",
    "\n",
    "### 6.3.1 Lectura de una lista de enteros\n",
    "\n",
    "El código a continuación lee un archivo `enteros.json` que acompaña a este proyecto contiene una lista de enteros. Pruebe a visualizarla con su Notepad"
   ],
   "id": "bfc465e65f15744a"
  },
  {
   "metadata": {},
   "cell_type": "code",
   "source": [
    "import json\n",
    "#\n",
    "# Abrir un archivo JSON.\n",
    "with open(\"C:\\\\Users\\mkm\\\\Documents\\\\Curso Python para Ciencia de Datos\\\\Proyectos\\\\enteros.json\", \"r\") as f: #Indicar la ruta donde se encuentra el archivo\n",
    "\n",
    "# Otra opción\n",
    "# with open(\"enteros.json\", \"r\") as f:\n",
    "#     #Por defecto si no se indica la ruta Python sobreentiende que está en la misma carpeta que el proyecto\n",
    "#     # Escribir la lista en formato JSON dentro del archivo\n",
    "\n",
    "    lista = json.load(f)\n",
    "    print(lista)\n",
    "    print()"
   ],
   "id": "2a2ce38ec2529e69",
   "outputs": [],
   "execution_count": null
  },
  {
   "metadata": {},
   "cell_type": "markdown",
   "source": [
    "### 6.3.2 Lectura de una lista de diccionarios\n",
    "\n",
    "El ejemplo a continuación lee un archivo json que contiene una lista de diccionarios.\n",
    "\n",
    "Un dicionario se escribe en un texto json con una notación muy similar a la que se escribe en código Python.\n",
    "\n",
    "El archivo `MKM_Films.json` contiene una lista de diccionarios donde todos los diccionarios son similares y representan los datos de diferentes films. La lista es leida hacia la variable `films` que luego mandamos a escribir\n",
    "\n",
    "`print` escribe por defecto todos los valores de la lista seguidos y separados por coma, a su vez como cada elemento de la lista es un diccionario escribe seguidos todos los pares _llave-valor_ del diccionario.\n",
    "\n",
    "Como Ud puede comprobar que esto no es muy legible. Pero tenemos en nuestras manos la forma de hacerlo a nuestro gusto como nos muestra el segundo trozo de código"
   ],
   "id": "3b500a6c5adfc9a2"
  },
  {
   "metadata": {},
   "cell_type": "code",
   "source": [
    "import json\n",
    "with open(\"MKM_Films.json\", \"r\") as f:\n",
    "    films = json.load(f)\n",
    "\n",
    "#Diferentes acciones con films. Ir descomentando y probando\n",
    "\n",
    "# print(\"MKM_Films tal y como lo escribe print\")\n",
    "# print(films)\n",
    "# print()\n",
    "\n",
    "# print(\"MKM_FILMS. Llave y valor en cada linea\")\n",
    "# for film in films:\n",
    "#     for llave, valor in film.items():\n",
    "#         print(f\"{llave}: {valor}\")\n",
    "#     print(\"-----------------\\n\")\n",
    "\n",
    "# print(\"MKM_FILMS Ordenados por título\")\n",
    "# for film in sorted(films, key=lambda x: x['titulo']):\n",
    "#     for llave, valor in film.items():\n",
    "#         print(f\"{llave}: {valor}\")\n",
    "#     print(\"-----------------\\n\")\n",
    "\n",
    "# print(\"MKM_FILMS Ordenados por mejor evaluacion\")\n",
    "# for film in sorted(films, key=lambda x: x['imdb'], reverse=True):\n",
    "#     for llave, valor in film.items():\n",
    "#         print(f\"{llave}: {valor}\")\n",
    "#     print(\"-----------------\\n\")"
   ],
   "id": "e00cb55456eb5d",
   "outputs": [],
   "execution_count": null
  },
  {
   "metadata": {},
   "cell_type": "markdown",
   "source": [
    "### 6.3.3 Accediendo a las componentes de un diccionario\n",
    "\n",
    "El código a continuación nos muestra cómo podemos hacer consultas a los datos. En este caso queremos listar solo los films que son de género crimen o thriller. Note que el ciclo más externo la variable `film` recorre todos los valores de la lista `films ` luego a su vez para cada `film` se hace `film[\"genero\"]` que es a su vez una lista de `string` con todos los géneros de ese `film` por eso se puede hacer una operación como `\"Thriller\"` `in film` para preguntar por todos las películas que tienen `\"Thriller\"` como género"
   ],
   "id": "8dd2feb29c7fac11"
  },
  {
   "metadata": {},
   "cell_type": "code",
   "source": [
    "with open(\"MKM_Films.json\", \"r\") as f:\n",
    "    films = json.load(f)\n",
    "print(\"Films de Crimen o Thriller\\n\")\n",
    "for film in films:\n",
    "    if \"Thiller\" in film[\"genero\"] or \"Crimen\" in film[\"genero\"]:\n",
    "        print(f'{film[\"titulo\"]}')\n",
    "        print(f'{film[\"genero\"]}')\n",
    "        print(\"-----------------\\n\")\n"
   ],
   "id": "b251f630978379ee",
   "outputs": [],
   "execution_count": null
  },
  {
   "metadata": {},
   "cell_type": "markdown",
   "source": [
    "## 6.4 EJERCICIOS PARA CP\n",
    "\n",
    "1. Escriba un diccionario en que las llaves sean string (el nombre de un contacto) y los valores sean a su vez diccionarios con todos los datos del contacto\n",
    "2. Escriba un código que dadas dos listas `llaves` y `valores` cree un diccionario tomando como llave un valor de la primera lista (`llaves`) y como valor asociado a la llave el valor en la posición correspondiente en la segunda lista (`valores`).\n",
    "\n",
    "     Si la lista `llaves` tuviese el valor `[\"chocolate\", \"fresa\", \"vainilla\"] `y la lista `valores` fuera `[\"preferido\", \"paso\", \"si no hay otro\"]` debemos obtener el diccionario\n",
    "\n",
    "    `{\"chocolate\":\"preferido\", \"fresa\":\"paso\", \"vainilla\":\"si no hay otro\"}`\n",
    "\n",
    "     Si la `llaves` tuviese mas elementos que la lista `valores` entonces se le debe asociar el valor `None` a las llaves por exceso. Por ejemplo si fuese `[\"chocolate\", \"fresa\", \"vainilla\", \"almendra\"]` y `[\"preferido\", \"paso\", \"si no hay otro\"] `el resultado debería ser entonces\n",
    "\n",
    "     `{\"chocolate\":\"preferido\", \"fresa\":\"paso\", \"vainilla\":\"sino hay otro\", \"almendra\":None}`\n",
    "\n",
    "      Pero si hay más valores que llaves forme el diccionario hasta donde lleguen las llaves y escriba algún mensaje advirtiendo lo sucedido.\n",
    "\n",
    "3. Decida y programe qué hacer si en la lista `llaves` se repitiese alguna llave\n",
    "4. Dada una lista de diccionarios escriba un código que produzca una lista con iguales diccionarios pero ordenadas por el valor de una determinada llave\n",
    "5. Para una variable `parrafo` cuyo valor es texto (string) produzca un diccionario que cuente la cantidad de veces que se usa cada vocal\n"
   ],
   "id": "3373fffd0ae6e7ac"
  }
 ],
 "metadata": {
  "kernelspec": {
   "display_name": "Python 3",
   "language": "python",
   "name": "python3"
  },
  "language_info": {
   "codemirror_mode": {
    "name": "ipython",
    "version": 2
   },
   "file_extension": ".py",
   "mimetype": "text/x-python",
   "name": "python",
   "nbconvert_exporter": "python",
   "pygments_lexer": "ipython2",
   "version": "2.7.6"
  }
 },
 "nbformat": 4,
 "nbformat_minor": 5
}
