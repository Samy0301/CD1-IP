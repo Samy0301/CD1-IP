{
 "cells": [
  {
   "cell_type": "markdown",
   "id": "33a85a71a1e95f0f",
   "metadata": {},
   "source": [
    "# REPASO\n",
    "## El tipo string y los numéricos"
   ]
  },
  {
   "cell_type": "code",
   "execution_count": 1,
   "id": "initial_id",
   "metadata": {
    "collapsed": true
   },
   "outputs": [
    {
     "name": "stdout",
     "output_type": "stream",
     "text": [
      "El cateto 3 el cateto 4 la hipotenusa es 5.0\n",
      "El cateto 3 el cateto 4 la hipotenusa es 5.0\n",
      "El cateto 3 el cateto 4 la hipotenusa es 5.0\n"
     ]
    }
   ],
   "source": [
    "import math\n",
    "a = 3\n",
    "b = 4\n",
    "c = math.sqrt(a*a + b*b)\n",
    "\n",
    "print(\"El cateto\", a, \"el cateto\", b, \"la hipotenusa es\", c)\n",
    "#Los argumentos que no son string se convierten a string.\n",
    "print(\"El cateto \" + str(a) + \" el cateto \" + str(b) + \" la hipotenusa es \" + str(c))\n",
    "#Aquí el argumento es una sola string resultado de la concatenación\n",
    "print(f'El cateto {a} el cateto {b} la hipotenusa es {c}')\n",
    "#El string f' indica un formato de cadena donde las expresiones entre llaves se evaluan y se concatenan a la cadena\n",
    "#Todo valor en Python es convertible a string"
   ]
  },
  {
   "cell_type": "code",
   "execution_count": 2,
   "id": "be09ec5670751bdc",
   "metadata": {},
   "outputs": [
    {
     "name": "stdout",
     "output_type": "stream",
     "text": [
      "el tipo de s es <class 'str'>\n",
      "el tipo de a es <class 'float'>\n",
      "a es  4.98 a + 1.11 es  6.090000000000001\n",
      "a es 4.98 y b es 5.99 la suma de los dos es 10.97\n"
     ]
    }
   ],
   "source": [
    "s=input('entra un string que convertiré a float --> ') #el resultado del input lo asignamos a una variable\n",
    "print('el tipo de s es',type(s))\n",
    "a=float(s) #lo puedo convertir a float si tiene el formato de un float y ASIGNARLO a una VARIABLE\n",
    "print('el tipo de a es',type(a))\n",
    "print('a es ', a, 'a + 1.11 es ', a+1.11)\n",
    "b=float(input('entra otro float -->'))\n",
    "print(f'a es {a} y b es {b} la suma de los dos es {a+b}')\n",
    "#f' indica una formato especial de string en el que las expresiones que aparecen entre llaves {, } se computan y su valor se convierte a tring"
   ]
  },
  {
   "cell_type": "markdown",
   "id": "297160fc7d66852",
   "metadata": {},
   "source": [
    "## El tipo bool"
   ]
  },
  {
   "cell_type": "code",
   "execution_count": 3,
   "id": "d3bec299677b7f1a",
   "metadata": {},
   "outputs": [
    {
     "name": "stdout",
     "output_type": "stream",
     "text": [
      "Que los valores 3, 4 y 5 forman un triangulo es True\n"
     ]
    }
   ],
   "source": [
    "a=int(input(\"Dame la longitud de un posible lado de un triangulo --> \"))\n",
    "b=int(input('Dame la longitud de otro posible lado de un triangulo --> '))\n",
    "c=int(input('Dame la longitud de un tercer posible lado de un triangulo --> '))\n",
    "print(f'Que los valores {a}, {b} y {c} forman un triangulo es {a+b>c and b+c>a and c+a>b}')"
   ]
  },
  {
   "cell_type": "markdown",
   "id": "bb4e3a31186cd218",
   "metadata": {},
   "source": [
    "# CONDICIONALES. IF ELSE\n",
    "## Averiguar si tres enteros pueden formar un triangulo y calcular su área y su perímetro"
   ]
  },
  {
   "cell_type": "code",
   "execution_count": 4,
   "id": "730d6775ddff6f27",
   "metadata": {
    "ExecuteTime": {
     "end_time": "2025-09-15T16:49:56.112911Z",
     "start_time": "2025-09-15T16:49:56.103334Z"
    }
   },
   "outputs": [
    {
     "name": "stdout",
     "output_type": "stream",
     "text": [
      "Triangulo de lados 3 + 4 y 5\n",
      "El perímetro es 12\n",
      "El área es 6.0\n",
      "Después de una condicional seguimos ....\n"
     ]
    }
   ],
   "source": [
    "import math\n",
    "a=int(input(\"Dame la longitud de un posible lado --> \"))\n",
    "b=int(input('Dame la longitud de otro posible lado --> '))\n",
    "c=int(input('Dame la longitud de un tercer posible lado --> '))\n",
    "if (a+b>c and a+c>b and b+c>a):\n",
    "    print(f'Triangulo de lados {a} + {b} y {c}')\n",
    "    p = a+b+c\n",
    "    print(f'El perímetro es {p}')\n",
    "    sp = p/2\n",
    "    area = math.sqrt(sp*(sp-a)*(sp-b)*(sp-c))\n",
    "    print(f'El área es {area}')\n",
    "else:\n",
    "    print(f'{a}, {b} y {c} NO pueden forman un triangulo !!')\n",
    "    #Mostrar el error si no se da la sangría\n",
    "print(\"Después de una condicional seguimos ....\")"
   ]
  },
  {
   "cell_type": "markdown",
   "id": "11f181e665057727",
   "metadata": {},
   "source": [
    "## CONDICIONALES ANIDADAS. Determinar el tipo de triángulo"
   ]
  },
  {
   "cell_type": "code",
   "execution_count": null,
   "id": "782f024d09f10b2b",
   "metadata": {},
   "outputs": [],
   "source": [
    "a=int(input(\"Dame la longitud de posible lado de un triangulo --> \"))\n",
    "b=int(input('Dame la longitud de otro posible lado --> '))\n",
    "c=int(input('Dame la longitud de un tercer posible lado --> '))\n",
    "if (a+b>c and a+c>b and b+c>a):\n",
    "    print(f\"{a}, {b} y {c} Forman un triángulo\")\n",
    "    if (a==b and b==c):\n",
    "        print('Los tres lados son iguales es EQUILATERO')\n",
    "    elif (a==b or b==c or a==c):\n",
    "        print('Dos lados iguales es ISOSCELES')\n",
    "    else:\n",
    "        print('Los tres lados desiguales es ESCALENO')\n",
    "    print(f'Su perimetro es {a+b+c}')\n",
    "    sp = p/2\n",
    "    area = math.sqrt(sp*(sp-a)*(sp-b)*(sp-c))\n",
    "    print(f'Su área es {area}')\n",
    "else:\n",
    "    print(f\"{a} + {b} y {c} NO FORMAN UN TRIANGULO\")\n",
    "print(\"Después de una condicional seguimos ....\")"
   ]
  },
  {
   "cell_type": "markdown",
   "id": "8fd4e580d1d41c57",
   "metadata": {},
   "source": [
    "## La importancia de la sangría"
   ]
  },
  {
   "cell_type": "code",
   "execution_count": null,
   "id": "bbfbb54a80c11c8c",
   "metadata": {},
   "outputs": [],
   "source": [
    "a=int(input(\"Dame la longitud de posible lado de un triangulo --> \"))\n",
    "b=int(input('Dame la longitud de otro posible lado --> '))\n",
    "c=int(input('Dame la longitud de un tercer posible lado --> '))\n",
    "if (a+b>c and a+c>b and b+c>a):\n",
    "    print(f\"{a}, {b} y {c} Forman un triángulo\")\n",
    "    if (a==b and b==c):\n",
    "        print('Los tres lados son iguales es EQUILATERO')\n",
    "    elif (a==b or b==c):\n",
    "        print('Dos lados iguales es ISOSCELES')\n",
    "    else:\n",
    "        print('Los tres lados desiguales es ESCALENO')\n",
    "        print(f'Su perimetro es {a+b+c}') #Sangría incorrecta solo le escribirá el períemtro al que sea escaleno\n",
    "        #Mostrar otro error de no dejar sangría\n",
    "    sp = p/2\n",
    "    area = math.sqrt(sp*(sp-a)*(sp-b)*(sp-c))\n",
    "    print(f'Su área es {area}')\n",
    "else:\n",
    "    print(f\"{a} + {b} y {c} NO FORMAN UN TRIANGULO\")\n",
    "print(\"Después de una condicional seguimos ....\")"
   ]
  },
  {
   "cell_type": "markdown",
   "id": "8ab0b3174ebbe762",
   "metadata": {},
   "source": [
    "## Hallar el mayor y el menor de tres números"
   ]
  },
  {
   "cell_type": "code",
   "execution_count": null,
   "id": "a7a597bbb665cdbf",
   "metadata": {},
   "outputs": [],
   "source": [
    "print(\"Vamos a entrar tres números enteros para calcular cuál es el menor y cuál es el mayor\")\n",
    "n1 = int(input(\"Ingresa un numero: \"))\n",
    "n2 = int(input(\"Ingresa segundo numero: \"))\n",
    "n3 = int(input(\"Ingresa tercer numero: \"))\n",
    "mayor = n1\n",
    "if n2 > mayor:\n",
    "    mayor = n2\n",
    "if n3 > mayor:\n",
    "    mayor = n3\n",
    "menor = n1\n",
    "if n2 < menor:\n",
    "    menor = n2\n",
    "if n3 < menor:\n",
    "    menor = n3\n",
    "print(f'El mayor de {n1}, {n2} y {n3} es {mayor} y el menor es {menor}')"
   ]
  },
  {
   "cell_type": "markdown",
   "id": "f3c1a40216a983ce",
   "metadata": {},
   "source": [
    "## Medir tu velocidad de tecleo"
   ]
  },
  {
   "cell_type": "code",
   "execution_count": 2,
   "id": "e82ca78a19901942",
   "metadata": {
    "ExecuteTime": {
     "end_time": "2025-09-15T17:15:34.264773Z",
     "start_time": "2025-09-15T17:15:25.457881Z"
    }
   },
   "outputs": [],
   "source": [
    "import time\n",
    "inicio = time.time()  # instante justo antes del input\n",
    "nombre1 = input(\"Escribe tu nombre --> \")\n",
    "t1 = time.time() - inicio #tiempo transcurrido mientras teclea el nombre\n",
    "\n",
    "inicio = time.time()  # instante justo antes del input\n",
    "nombre2 = input(\"Vuelvelo a teclear --> \")\n",
    "t2 = time.time() - inicio\n",
    "\n",
    "if nombre1 == nombre2: #si lo tecleó dos veces seguidas igual lo damos como correcto\n",
    "    if t1<t2:\n",
    "        print(f'Hola {nombre1} te has demorado {t1:.3f} segs en teclear tu nombre')\n",
    "        print(f'a una velocidad de {t1/len(nombre1):.3f} caracteres x segundo')\n",
    "    else:\n",
    "        print(f'Hola {nombre2} te has demorado {t2:.3f} segs en teclear tu nombre')\n",
    "        print(f'a una velocidad de {t2/len(nombre2): .3f} caracteres x segundo')\n",
    "else: print('Lo siento parece que no has tecleado bien el nombre')"
   ]
  },
  {
   "cell_type": "markdown",
   "id": "36843041d2a0d08",
   "metadata": {},
   "source": [
    "## PROPUESTA DE EJERCICIOS PARA CLASE PRÁCTICA\n",
    "### 1. Leer tres enteros que deben ser el dia, el mes y el año de una fecha. DETERMINAR SI FORMAN UNA FECHA CORRECTA\n",
    "### 2. Escribir la fecha en el formato 15/9/2025\n",
    "### 3. Escribir la fecha en el formato 15 de septiembre de 2025\n",
    "### 4. Escriba la fecha del día siguiente. Si lo enteros fuesen 30, 4 y 2025 debería escribir 1/5/2025\n",
    "### 5. Escriba la fecha del día anterior\n",
    "### 6. Lea cuatro cadenas (string). Escribalas ordenadas alfabéticamente de menor a mayor\n",
    "### 7. Entre cuatro enteros que son el día y el mes de dos fechas de mismo año. Calcule la diferencia de días que hay las dos fechas\n",
    "### 8. Pida la entrada de una cadena que sirva de contraseña. Para ello debe tener 8 caracteres o más y al manos una letra y un dígito. Recuerde que se puede referir a un caracter específico de la posición n de una cadena s con la notación s[n] y que los caracteres mantienen el orden entre las letras minusculas, mayúsculas y entre los dígitos"
   ]
  }
 ],
 "metadata": {
  "kernelspec": {
   "display_name": "Python 3",
   "language": "python",
   "name": "python3"
  },
  "language_info": {
   "codemirror_mode": {
    "name": "ipython",
    "version": 3
   },
   "file_extension": ".py",
   "mimetype": "text/x-python",
   "name": "python",
   "nbconvert_exporter": "python",
   "pygments_lexer": "ipython3",
   "version": "3.11.9"
  }
 },
 "nbformat": 4,
 "nbformat_minor": 5
}
