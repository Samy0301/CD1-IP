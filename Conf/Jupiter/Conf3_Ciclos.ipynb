{
 "cells": [
  {
   "metadata": {},
   "cell_type": "markdown",
   "source": "# CICLOS (BUCLES, LOOPS)",
   "id": "545d30045add188f"
  },
  {
   "metadata": {},
   "cell_type": "markdown",
   "source": [
    "## CICLO WHILE\n",
    "\n",
    "El ciclo **while** es de la forma **while** _expresion_: _bloque_\n",
    "\n",
    "La _expresion_ debe dar un valor **bool**. El _bloque_ se ejecutará si el valor es **True** y el ciclo se repetirá volviendo a evaluar la _expresión_\n",
    "\n",
    "Al igual que en las condicionales **if**, el bloque a repetir está determinado por la sangría o indentación en el código.\n",
    "\n",
    "Python no controla que el ciclo pueda caer en una repetición infinita porque la expresión evalúe siempre a True. Es responsabilidad del programador que en alguna iteración ocurra algún cambio que provoque que en la siguiente iteración el bloque no evalúe a True\n",
    "\n",
    "### Code 1 Repetir para lograr una entrada correcta\n",
    "\n",
    "En este código se estará repitiendo por la entrada de datos hasta que tengamos una entrada correcta. En este caso la variable `entrada_incorrecta` se incializa a `True` antes de entrar el ciclo para que después dentro del ciclo se le asigne `False` cuando se compruebe que tenemos una entrada correcta\n",
    "\n",
    "Es responsabilidad del programador usar nombres adecuados que ayuden a comprender el significado y uso que se le dará a esta variable\n"
   ],
   "id": "d7cfe9aeb33b561b"
  },
  {
   "metadata": {},
   "cell_type": "code",
   "source": [
    "import time\n",
    "entrada_incorrecta = True\n",
    "while entrada_incorrecta:\n",
    "    inicio = time.time()  # instante justo antes del input\n",
    "    nombre1 = input(\"Escribe tu nombre --> \")\n",
    "    t1 = time.time() - inicio #tiempo transcurrido mientras teclea el nombre\n",
    "\n",
    "    inicio = time.time()  # instante justo antes del input\n",
    "    nombre2 = input(\"Vuelvelo a teclear --> \")\n",
    "    t2 = time.time() - inicio\n",
    "    if nombre1 == nombre2: #si lo tecleó dos veces seguidas igual lo damos como correcto\n",
    "        if t1<t2:\n",
    "            print(f'Hola {nombre1} te has demorado {t1:.3f} segs en teclear tu nombre')\n",
    "            print(f'a una velocidad de {t1/len(nombre1):.3f} caracteres x segundo')\n",
    "        else:\n",
    "            print(f'Hola {nombre2} te has demorado {t2:.3f} segs en teclear tu nombre')\n",
    "            print(f'a una velocidad de {t2/len(nombre2): .3f} caracteres x segundo')\n",
    "        entrada_incorrecta = False #Para que el próximo while evalúe a false y no se vuelva a repetir\n",
    "    else:\n",
    "        print('LO SIENTO PARECE QUE NO HAS TECLEADO BIEN EL NOMBRE. Vuélvelos a teclear\\n')"
   ],
   "id": "fc95e89957784d46",
   "outputs": [],
   "execution_count": null
  },
  {
   "metadata": {},
   "cell_type": "markdown",
   "source": [
    "NOTA Python no controla que por un error de programación el ciclo pueda ejecutarse indefinidamente.\n",
    "\n",
    "Usar una variable bool con un nombre adecuado (como en el código anterior) puede hacer más legible el por qué de la repetición"
   ],
   "id": "b25d5c22771d6ea5"
  },
  {
   "metadata": {},
   "cell_type": "markdown",
   "source": [
    "### Code 2 Abortar un ciclo con la instrucción **break**\n",
    "El codigo anterior se puede escribir de manera equivalente pero más simple y directa de la forma\n",
    "\n",
    "**while** True:\n",
    "\n",
    "      ...código\n",
    "\n",
    "      break\n",
    "      ...código\n",
    "\n",
    "_código despues del bloque_\n",
    "\n",
    "La instrucción **break** indica abortar la repetición del ciclo y continuar en el código que sigue después del bloque.\n",
    "\n",
    "Ver ejemplo a continuación"
   ],
   "id": "c00505e304429453"
  },
  {
   "metadata": {
    "ExecuteTime": {
     "end_time": "2025-09-22T17:42:28.116600Z",
     "start_time": "2025-09-22T17:41:42.522813Z"
    }
   },
   "cell_type": "code",
   "source": [
    "import time\n",
    "while True:\n",
    "    inicio = time.time()  # instante justo antes del input\n",
    "    nombre1 = input(\"Escribe tu nombre --> \")\n",
    "    t1 = time.time() - inicio #tiempo transcurrido mientras teclea el nombre\n",
    "\n",
    "    inicio = time.time()  # instante justo antes del input\n",
    "    nombre2 = input(\"Vuelvelo a teclear --> \")\n",
    "    t2 = time.time() - inicio\n",
    "    print(t1, t2)\n",
    "    if nombre1 == nombre2: #si lo tecleó dos veces seguidas igual lo damos como correcto\n",
    "        if t1<t2:\n",
    "            print(f'Hola {nombre1} te has demorado {t1:.3f} segs en teclear tu nombre')\n",
    "            print(f'a una velocidad de {t1/len(nombre1):.3f} caracteres x segundo')\n",
    "        else:\n",
    "            print(f'Hola {nombre2} te has demorado {t2:.3f} segs en teclear tu nombre')\n",
    "            print(f'a una velocidad de {t2/len(nombre2): .3f} caracteres x segundo')\n",
    "        break\n",
    "        #Se han dado bien los nombres el ciclo no se repite\n",
    "    else:\n",
    "        #No se han dado bien los nombres, repetir\n",
    "        print('LO SIENTO PARECE QUE NO HAS TECLEADO BIEN EL NOMBRE. Vuélvelos a teclear\\n')"
   ],
   "id": "ef38102ce806dc29",
   "outputs": [
    {
     "name": "stdout",
     "output_type": "stream",
     "text": [
      "10.702147960662842 15.650242328643799\n",
      "Hola juan te has demorado 10.702 segs en teclear tu nombre\n",
      "a una velocidad de 2.676 caracteres x segundo\n"
     ]
    },
    {
     "ename": "KeyboardInterrupt",
     "evalue": "Interrupted by user",
     "output_type": "error",
     "traceback": [
      "\u001B[1;31m---------------------------------------------------------------------------\u001B[0m",
      "\u001B[1;31mKeyboardInterrupt\u001B[0m                         Traceback (most recent call last)",
      "Cell \u001B[1;32mIn[15], line 4\u001B[0m\n\u001B[0;32m      2\u001B[0m \u001B[38;5;28;01mwhile\u001B[39;00m \u001B[38;5;28;01mTrue\u001B[39;00m:\n\u001B[0;32m      3\u001B[0m     inicio \u001B[38;5;241m=\u001B[39m time\u001B[38;5;241m.\u001B[39mtime()  \u001B[38;5;66;03m# instante justo antes del input\u001B[39;00m\n\u001B[1;32m----> 4\u001B[0m     nombre1 \u001B[38;5;241m=\u001B[39m \u001B[38;5;28minput\u001B[39m(\u001B[38;5;124m\"\u001B[39m\u001B[38;5;124mEscribe tu nombre --> \u001B[39m\u001B[38;5;124m\"\u001B[39m)\n\u001B[0;32m      5\u001B[0m     t1 \u001B[38;5;241m=\u001B[39m time\u001B[38;5;241m.\u001B[39mtime() \u001B[38;5;241m-\u001B[39m inicio \u001B[38;5;66;03m#tiempo transcurrido mientras teclea el nombre\u001B[39;00m\n\u001B[0;32m      7\u001B[0m     inicio \u001B[38;5;241m=\u001B[39m time\u001B[38;5;241m.\u001B[39mtime()  \u001B[38;5;66;03m# instante justo antes del input\u001B[39;00m\n",
      "File \u001B[1;32m~\\anaconda3\\Lib\\site-packages\\ipykernel\\kernelbase.py:1282\u001B[0m, in \u001B[0;36mKernel.raw_input\u001B[1;34m(self, prompt)\u001B[0m\n\u001B[0;32m   1280\u001B[0m     msg \u001B[38;5;241m=\u001B[39m \u001B[38;5;124m\"\u001B[39m\u001B[38;5;124mraw_input was called, but this frontend does not support input requests.\u001B[39m\u001B[38;5;124m\"\u001B[39m\n\u001B[0;32m   1281\u001B[0m     \u001B[38;5;28;01mraise\u001B[39;00m StdinNotImplementedError(msg)\n\u001B[1;32m-> 1282\u001B[0m \u001B[38;5;28;01mreturn\u001B[39;00m \u001B[38;5;28mself\u001B[39m\u001B[38;5;241m.\u001B[39m_input_request(\n\u001B[0;32m   1283\u001B[0m     \u001B[38;5;28mstr\u001B[39m(prompt),\n\u001B[0;32m   1284\u001B[0m     \u001B[38;5;28mself\u001B[39m\u001B[38;5;241m.\u001B[39m_parent_ident[\u001B[38;5;124m\"\u001B[39m\u001B[38;5;124mshell\u001B[39m\u001B[38;5;124m\"\u001B[39m],\n\u001B[0;32m   1285\u001B[0m     \u001B[38;5;28mself\u001B[39m\u001B[38;5;241m.\u001B[39mget_parent(\u001B[38;5;124m\"\u001B[39m\u001B[38;5;124mshell\u001B[39m\u001B[38;5;124m\"\u001B[39m),\n\u001B[0;32m   1286\u001B[0m     password\u001B[38;5;241m=\u001B[39m\u001B[38;5;28;01mFalse\u001B[39;00m,\n\u001B[0;32m   1287\u001B[0m )\n",
      "File \u001B[1;32m~\\anaconda3\\Lib\\site-packages\\ipykernel\\kernelbase.py:1325\u001B[0m, in \u001B[0;36mKernel._input_request\u001B[1;34m(self, prompt, ident, parent, password)\u001B[0m\n\u001B[0;32m   1322\u001B[0m \u001B[38;5;28;01mexcept\u001B[39;00m \u001B[38;5;167;01mKeyboardInterrupt\u001B[39;00m:\n\u001B[0;32m   1323\u001B[0m     \u001B[38;5;66;03m# re-raise KeyboardInterrupt, to truncate traceback\u001B[39;00m\n\u001B[0;32m   1324\u001B[0m     msg \u001B[38;5;241m=\u001B[39m \u001B[38;5;124m\"\u001B[39m\u001B[38;5;124mInterrupted by user\u001B[39m\u001B[38;5;124m\"\u001B[39m\n\u001B[1;32m-> 1325\u001B[0m     \u001B[38;5;28;01mraise\u001B[39;00m \u001B[38;5;167;01mKeyboardInterrupt\u001B[39;00m(msg) \u001B[38;5;28;01mfrom\u001B[39;00m\u001B[38;5;250m \u001B[39m\u001B[38;5;28;01mNone\u001B[39;00m\n\u001B[0;32m   1326\u001B[0m \u001B[38;5;28;01mexcept\u001B[39;00m \u001B[38;5;167;01mException\u001B[39;00m:\n\u001B[0;32m   1327\u001B[0m     \u001B[38;5;28mself\u001B[39m\u001B[38;5;241m.\u001B[39mlog\u001B[38;5;241m.\u001B[39mwarning(\u001B[38;5;124m\"\u001B[39m\u001B[38;5;124mInvalid Message:\u001B[39m\u001B[38;5;124m\"\u001B[39m, exc_info\u001B[38;5;241m=\u001B[39m\u001B[38;5;28;01mTrue\u001B[39;00m)\n",
      "\u001B[1;31mKeyboardInterrupt\u001B[0m: Interrupted by user"
     ]
    }
   ],
   "execution_count": 15
  },
  {
   "metadata": {},
   "cell_type": "markdown",
   "source": "Ponga una sangría al break del código anterior. ¿Qué es lo que pasaría? Si el tiempo del primer tecleo (t1) es menor que el del segundo (t2)  no se abortaría el ciclo y en la próxima repetición volvería a pedir la entrada de los datos",
   "id": "fab31a59090afc16"
  },
  {
   "metadata": {},
   "cell_type": "markdown",
   "source": [
    "### Code 3 Procesar los datos de una fuente de datos mientras haya datos y procesar los que cumplen con una condición\n",
    "**Condicion** Que las cadenas empiecen con la letra 'a'\n",
    "\n",
    "**Procesar** Escribirlas en mayúscula y contar cuántas son\n",
    "\n",
    "**while** True:\n",
    "  _leer un dato de la fuente de datos_\n",
    "\n",
    "    if _no hay mas datos en la fuente_:\n",
    "      abortar\n",
    "\n",
    "    elif: _cumplen con la condición_:\n",
    "      procesar el dato\n"
   ],
   "id": "92445d603a36fd4b"
  },
  {
   "metadata": {},
   "cell_type": "code",
   "source": [
    "print(\"Vamos a entrar una secuencia de cadenas escribir en mayúsculas las que empiezan con a y contar cuantas son\")\n",
    "cuantas = 0 #en un ciclo suelen haber variables que se deben inicializar con un valor antes de empezar el ciclo\n",
    "while True:\n",
    "    s = input(\"Entra una cadena (Teclee solo Enter para terminar): \")\n",
    "    if len(s) == 0:\n",
    "        break\n",
    "    elif s[0]=='a':\n",
    "        cuantas = cuantas+1\n",
    "        print(s.upper())  # Upper pasa a mayúscula\n",
    "    else:\n",
    "        print(s)\n",
    "    # Note Si llega aquí el ciclo se repite\n",
    "print(f'El total de cadenas que empiezan con \"a\" es {cuantas}')\n",
    "#No hay forma simple de entrar varias lineas con una cadena por línea en una caja de entrada de Jupyter Notebook\n",
    "#El código anterior abrirá una caja de entrada por cada input\n",
    "#Ejecute este código directamente dentro del IDE de Pycharm"
   ],
   "id": "7542c2589bca510f",
   "outputs": [],
   "execution_count": null
  },
  {
   "metadata": {},
   "cell_type": "markdown",
   "source": [
    "1111111111111111111111111111111111111111111111111111111111111111111111111111111111111111111111111111111111111111111111111111111111111111111111111111111111111111111111111111111111111111111111111111111111111111111111111111111111111111111111111111111111111111111111111111111111111111111111111111111111111111111111111111111111111111111111111111111111111111111111111111111111111111111111111111111111111111111111111111111111111111111111111111111111111111111111111111111111111111111111111111111111111111111111111111111111111111111111111111111111111111111111111111111111111111111111111111111111111111111111111111111111111111111111111111111111111111111111111111111111111111111111111111111111111111111111111111111111111111111111111111111111111111111111111111111111111111111111111111111111111111111111111111111111111111111111111111111111111111111111111111111111111111111111111111111111111111111111111111111111111111111111111111111111111111111111111111111111111111111111111111111111111111111111111111111111111111111111111111111111111111111111111111111111111111111111111111111111111111111111111111111111111111111111111111111111111111111111111111111111111111111111111111111111111111111111111111111111111111111111111111111111111111111111111111111111111111111111111111111111111111111111111111111111111111111111111111111111111111111111111111111111111111111111111111111111111111111111111111111111111111111111111111111111111111111111111111111111111111111111111111111111111111111111111111111111111111111111111111111111111111111111111111111111111111111111111111111111111111111111111111111111111111111111111111111111111111111111111111111111111111111111111111111111111111111111111111111111111111111111111111111111111111111111111111111111111111111111111111111111111111111111111111111111111111111111111111111111111111111111111111111111111111111111111111111111111111111111111111111111111111111111111111111111111111111111111111111111111111111111111111111111111111111111111111111111111111111111111111111111111111111111111111111111### Code 4 Buscar el mayor y el menor de una secuencia de valores enteros\n",
    "Note en el código a continuación el uso que se hace de las variables **`min`** y **`max`**.\n",
    "\n",
    "A las variables que se usan de esta forma: se les da un valor inicial que puede ir actualizandose según se itera en el ciclo, se les suele llamar acumuladores.\n",
    "\n",
    "El ejemplo mas trivial sería ir acumulando la suma de todos los enteros que se leen como entrada, de ahí el término _acumuladores_. Modifique el código a continuación para que también de como resultado la suma de todos los valores enteros entrados.\n",
    "\n",
    "No siempre se puede saber anticipadamente cuál debe ser este \"valor inicial\" sino que éste debe extraerse de la propia fuente de datos, como es el caso del ejemplo a continuación que asumimos como máximo y mínimo el primer entero que se da como entrada"
   ],
   "id": "146bb9200bbd00d2"
  },
  {
   "metadata": {
    "jupyter": {
     "is_executing": true
    }
   },
   "cell_type": "code",
   "source": [
    "n=int(input(\"Entra un número --> \"))\n",
    "min = max = n #asumimos que ese primer entero es el mayor y el menor\n",
    "while True:\n",
    "    s = input('Entra otro número (Teclea Enter para terminar): --> ')\n",
    "    if len(s) == 0: break\n",
    "    n = int(s)\n",
    "    if n < min: min = n\n",
    "    elif n > max: max = n\n",
    "print(f'El menor es {min} y el mayor es {max}')\n",
    "## qué defectos tiene este código ¿puede mejorarlo?\n"
   ],
   "id": "7e186a5c59659c81",
   "outputs": [],
   "execution_count": null
  },
  {
   "metadata": {},
   "cell_type": "markdown",
   "source": [
    "## CICLO for.\n",
    "Un ciclo **for** es de la forma\n",
    "\n",
    "**for** x **in** _Fuente de Datos_: _bloque del ciclo_\n",
    "\n",
    "La variable `x` irá tomando los valores que le suministre la _Fuente de Datos_ y serán procesados según el código del _bloque del ciclo_ que se supone hace uso del valor de `x`\n",
    "\n",
    "### FUENTE DE DATOS RANGE\n",
    "\n",
    "Un rango (**range**) actúa como una fuente de datos que permite recorrer valores en un intervalo de números enteros. Su sintaxis es\n",
    "\n",
    "**range**(_valor_inicial, valor_final_) (se recorren los valores del intervalo sin incluir el _valor_final_)\n",
    "\n",
    "El recorrido se hace a través de la variable que sigue a la palabra **for** que hemos nombrado k en este ejemplo. A la variable se le asigna _valor_inicial_ y luego se va incrementando de 1 en 1 hasta el _valor_final - 1_. Por eso si queremos que un ciclo se haga desde un valor `m `hasta un valor `n` habría que escribir\n",
    "\n",
    "**for** k in **range**(m, n+1): _bloque del ciclo_\n",
    "\n",
    "### Code 5. El siguiente código escribe cuales son los valores en un intervalo que son cuadrados perfectos\n",
    "\n",
    "\n"
   ],
   "id": "c3e06cedea6828b7"
  },
  {
   "metadata": {},
   "cell_type": "code",
   "source": [
    "import math\n",
    "inicio = int(input(\"Entra la cota inferior del intervalo: \"))\n",
    "final = int(input(\"Entra la cota superior del intervalo: \"))\n",
    "if inicio > final:\n",
    "    print(f'ERROR {inicio} y {final} NO FORMAN UN INTERVALO CORRECTO')\n",
    "else:\n",
    "    print(f'Los cuadrados perfectos en el intervalo ({inicio},{final}) son:')\n",
    "    for k in range(inicio, final + 1):\n",
    "        raiz = int(math.sqrt(k))\n",
    "        if raiz*raiz == k:\n",
    "            print(f'{k} es cuadrado perfecto su raiz es {raiz}')\n",
    "#Es una práctica de estilo usar variables con nombres i, k, j para denotar"
   ],
   "id": "b887b81ce63d0802",
   "outputs": [],
   "execution_count": null
  },
  {
   "metadata": {},
   "cell_type": "markdown",
   "source": "El código anterior sería equivalente al código siguiente pero usando un ciclo **while**. Note que en este caso dentro del bloque del ciclo hay que garantizar que la variable de recorrido se incremente en 1. Si esto se omite se puede provocar que el ciclo ejecute indefinidamente. ¿Qué pasaría si la instrucción `k = k + 1` se hubiese puesto con una sangría más (es decir justo debajo del `print`)",
   "id": "70be8b8ee07916"
  },
  {
   "metadata": {},
   "cell_type": "code",
   "outputs": [],
   "execution_count": null,
   "source": [
    "import math\n",
    "inicio = int(input(\"Entra la cota inferior del intervalo: \"))\n",
    "final = int(input(\"Entra la cota superior del intervalo: \"))\n",
    "if inicio > final:\n",
    "    print(f'ERROR {inicio} y {final} NO FORMAN UN INTERVALO CORRECTO')\n",
    "else:\n",
    "    print(f'Los cuadrados perfectos en el intervalo ({inicio},{final}) son:')\n",
    "    k = inicio\n",
    "    while k <= final:\n",
    "        raiz = int(math.sqrt(k))\n",
    "        if raiz*raiz == k:\n",
    "            print(f'{k} es cuadrado perfecto su raiz es {raiz}')\n",
    "        k = k + 1 #PONGA UNA SANGRÍA MÁS A ESTA INSTRUCCION. ¿QUE ES LO QUE PASARÍA?\n"
   ],
   "id": "13833c976e48844f"
  },
  {
   "metadata": {},
   "cell_type": "markdown",
   "source": [
    "### Code 6 Range con un paso\n",
    "\n",
    "En el ejemplo anterior el rango se va recorriendo con incremento 1. Pero se puede especificar cuál es el incremento deseado con la sintaxis\n",
    "\n",
    "**range**(_valor_inicial_, _valor_final_, _paso_)\n",
    "\n",
    "#### Escribir los enteros impares de un intervalo que son a su vez cuadrados perfectos\n",
    "\n",
    "El siguiente código escribe los enteros de un intervalo que sean impares. Note que en el ciclo a continuación se garantiza empezar con el primer impar del intervalo. Entonces para determinar si el siguiente impar es cuadrado perfecto basta con ir incrementando de 2 en 2 por lo que en este caso el rango se puede indicar con paso 2\n",
    "\n",
    "**range**(_valor_inicial_, _valor_final_, 2)\n"
   ],
   "id": "9d499dc4314d8730"
  },
  {
   "metadata": {},
   "cell_type": "code",
   "source": [
    "import math\n",
    "inicio = int(input(\"Entra la cota inferior del intervalo: \"))\n",
    "final = int(input(\"Entra la cota superior del intervalo: \"))\n",
    "if inicio <0 or inicio > final:\n",
    "    print(f'ERROR {inicio} y {final} NO FORMAN UN INTERVALO CORRECTO PARA LO QUE SE SOLICITA')\n",
    "else:\n",
    "    if inicio%2 == 0: inicio +=1 #garantizar que inicio comience en el primer impar del intervalo\n",
    "    print(f'Los cuadrados perfectos e impares en el intervalo ({inicio},{final}) son:')\n",
    "    for k in range(inicio, final + 1, 2):\n",
    "        raiz = int(math.sqrt(k))\n",
    "        if raiz*raiz == k:\n",
    "            print(f'{k} es impar y cuadrado perfecto, su raiz es {raiz}')"
   ],
   "id": "8b9979b185b8323a",
   "outputs": [],
   "execution_count": null
  },
  {
   "metadata": {},
   "cell_type": "markdown",
   "source": [
    "### Code 7 Un string como fuente de datos. Recorrer los caracteres de un string\n",
    "\n",
    "Una cadena puede considerarse como una fuente de datos. En este caso esta fuente nos proporciona todos los caracteres de la cadena.\n",
    "\n",
    "El siguiente código nos muestra dos variantes para recorrer todos los caracteres de una cadena. 1. Usando la propia cadena como fuente de datos. 2. Recorriendo la cadena con un rango sobre el índice.\n",
    "\n",
    "En el ejemplo del segundo **for** un valor tipo string (una cadena) es considerada en Python como una estructura de datos conocida como _list_ (lista o secuencia de valores) que pueden referirse por la posición del valor en la secuencia. El tipo lista será estudiado más adelante"
   ],
   "id": "f021a1e527eba169"
  },
  {
   "metadata": {
    "ExecuteTime": {
     "end_time": "2025-09-22T17:58:17.324289Z",
     "start_time": "2025-09-22T17:58:17.317971Z"
    }
   },
   "cell_type": "code",
   "source": [
    "cadena = \"Hola Python\"\n",
    "n=0\n",
    "print(\"Los caracteres de la cadena son\")\n",
    "for c in cadena:\n",
    "    print(n,c) #escribe la posición y un caracter por linea\n",
    "    n=n+1\n",
    "print(f'\\nLa cadena tiene longitud de {len(cadena)} caracteres')\n",
    "\n",
    "print()\n",
    "print(\"Recorriendo la cadena con un rango sobre la longitud\")\n",
    "for i in range(len(cadena)):\n",
    "    print(f'En la posición {i} está el carácter {cadena[i]}')"
   ],
   "id": "28af03fa7f03e63d",
   "outputs": [
    {
     "name": "stdout",
     "output_type": "stream",
     "text": [
      "Los caracteres de la cadena son\n",
      "0 H\n",
      "1 o\n",
      "2 l\n",
      "3 a\n",
      "4  \n",
      "5 P\n",
      "6 y\n",
      "7 t\n",
      "8 h\n",
      "9 o\n",
      "10 n\n",
      "\n",
      "La cadena tiene longitud de 11 caracteres\n",
      "\n",
      "Recorriendo la cadena con un rango sobre la longitud\n",
      "En la posición 0 está el carácter H\n",
      "En la posición 1 está el carácter o\n",
      "En la posición 2 está el carácter l\n",
      "En la posición 3 está el carácter a\n",
      "En la posición 4 está el carácter  \n",
      "En la posición 5 está el carácter P\n",
      "En la posición 6 está el carácter y\n",
      "En la posición 7 está el carácter t\n",
      "En la posición 8 está el carácter h\n",
      "En la posición 9 está el carácter o\n",
      "En la posición 10 está el carácter n\n"
     ]
    }
   ],
   "execution_count": 16
  },
  {
   "metadata": {},
   "cell_type": "markdown",
   "source": "### EJERCICIOS PARA CLASE PRÁCTICA",
   "id": "dec68c886cd23476"
  },
  {
   "metadata": {},
   "cell_type": "markdown",
   "source": [
    "1. Escriba un código que lea un número entero y calcule el factorial de ese número. Recuerde que el factorial de un número `n` es el producto de todos los números 1*2*3....*n. Ejemplo factorial de 4 debe escribir 24\n",
    "2. Escriba un código que determine si un número que se da como entrada es un número primo. Recuerde que un número primo es aquel que solo es divisible por 1 y por él mismo. Ejemplo 13 es primo pero 49 no lo es porque es divisible por 7\n",
    "3. Escriba un código que determine si un número es perfecto. Un número es perfecto si es igual a la suma de todos sus divisores sin incluirlo a él. Ejemplo 6 es perfecto porque 6 = 1+2+3 que son sus divisores\n",
    "4. Entre los valores de un intervalo, escriba cuáles números en ese intervalo son primos. Note como aquí usará dos ciclos: uno más externo para recorrer los valores del intervalo\n",
    "5. Escriba un código que a partir de un número que lee como entrada escriba cual es el número primo que le sigue\n",
    "6. **Considere las formas de recorrer los caracteres del ejemplo del Code7. Escriba un código que determine si los caracteres de una cadena forman un palíndromo. Un palídromo es una cadena que se lee de igual forma de izquierda a derecha que de derecha a izquierda. Por ejemplo oso, larutanatural, dabalearrozalazorraelabad, 51AxyxA15, ??? son palíndromos\n",
    "7. **Un código como f = datetime.today() nos da un valor datetime con .weekday() del módulo time nos da un número entero correspondiente al día de la semana en el que estamos. Dado tres enteros que correspondan al día, mes y año escriba qué día de la semana es.\n",
    "\n",
    "Los ejercicios marcados con ** tienen un mayor grado de dificultad. Los estudiantes que lo implementen y discutan correctamente con el profesor podrán recibir bonificación\n",
    "\n"
   ],
   "id": "9af304e5f0924569"
  }
 ],
 "metadata": {
  "kernelspec": {
   "display_name": "Python 3",
   "language": "python",
   "name": "python3"
  },
  "language_info": {
   "codemirror_mode": {
    "name": "ipython",
    "version": 2
   },
   "file_extension": ".py",
   "mimetype": "text/x-python",
   "name": "python",
   "nbconvert_exporter": "python",
   "pygments_lexer": "ipython2",
   "version": "2.7.6"
  }
 },
 "nbformat": 4,
 "nbformat_minor": 5
}
